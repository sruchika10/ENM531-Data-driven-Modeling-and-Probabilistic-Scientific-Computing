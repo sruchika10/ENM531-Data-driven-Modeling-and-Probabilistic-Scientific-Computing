{
  "cells": [
    {
      "cell_type": "markdown",
      "metadata": {
        "id": "hFfzUSvzK_IK"
      },
      "source": [
        "# Assignment 1"
      ]
    },
    {
      "cell_type": "markdown",
      "metadata": {
        "id": "vqRAnhCpK_IR"
      },
      "source": [
        "## Problem 1 [20 Points]\n",
        "\n",
        "### Subproblem 1 [10 Points]\n",
        "\n",
        "Consider a coin that comes up heads with probability $p$ and tails with probability $1-p$. Let $q_n$ be the probability of obtaining even number of heads in $n$ independent tosses. Derive a recursion that relates $q_n$ to $q_{n-1}$ and establish the formula\n",
        "$$q_n = \\frac{1+(1-2p)^n}{2}$$\n",
        "\n",
        "\n",
        "### Subproblem 2 [10 Points]\n",
        "\n",
        "Let $X$ and $Y$ have joint PDF \n",
        "$$\n",
        "f_{X,Y}(x,y) = \\begin{cases}\n",
        "C e^{-(ax+by)} & x,y \\geq 0\\\\\n",
        "0 & \\text{otherwise}\n",
        "\\end{cases},\n",
        "$$\n",
        "\n",
        "where, $a, b > 0$ are constants\n",
        "\n",
        "- Determine the constant $C$\n",
        "- Find the marginal density of $X$ and $Y$. What can you infer from them?\n",
        "- Find $\\mathbb{E}(Y \\mid X> \\frac{\\exp(a^2 + b^2)}{a^4 + b^4})$\n"
      ]
    },
    {
      "cell_type": "markdown",
      "metadata": {
        "id": "JRx-d_IuK_IS"
      },
      "source": [
        "Subproblem 1:\n",
        "To derive a recursion for $q_n$, we can use the fact that the probability of obtaining an even number of heads in $n$ independent tosses is equal to the probability of obtaining an even number of heads in $n-1$ independent tosses and then flipping tails, plus the probability of obtaining an odd number of heads in $n-1$ independent tosses and then flipping heads.\n",
        "\n",
        "Let $q_n$ be the probability of obtaining even number of heads in $n$ independent tosses, $p$ be the probability of flipping heads, and $1-p$ be the probability of flipping tails.\n",
        "\n",
        "So,$q_n$=$q_{n-1}$(1-p)+(1-$q_{n-1}$)p\n",
        "\n",
        "Rearranging the above equation and solving it, we get:\n",
        "\n",
        "Base case:\n",
        "For $n = 1$, $q_1 = p \\cdot 0 + (1-p) \\cdot 1 = 1-p$ which matches the formula.\n",
        "\n",
        "Inductive step:\n",
        "Assume that the formula holds for $n = k$: $q_k = \\frac{1+(1-2p)^k}{2}$\n",
        "\n",
        "We have to show that it holds for $n = k+1$:\n",
        "\\begin{align*}\n",
        "q_{k+1} &= pq_k + (1-p)q_{k-1} \\\\\n",
        "&= p \\cdot \\frac{1+(1-2p)^k}{2} + (1-p) \\cdot \\frac{1+(1-2p)^{k-1}}{2} \\\\\n",
        "&= \\frac{1}{2} + \\frac{p(1-2p)^k + (1-p)(1-2p)^{k-1}}{2} \\\\\n",
        "&= \\frac{1}{2} + \\frac{(1-2p)^k - p(2p-1)(1-2p)^{k-1}}{2} \\\\\n",
        "&= \\frac{1}{2} + \\frac{(1-2p)^k - (2p-1)(1-2p)^k + (2p-1)(1-2p)^k}{2} \\\\\n",
        "&= \\frac{1}{2} + \\frac{(1-2p)^k + (2p-1)(1-2p)^k}{2} \\\\\n",
        "&= \\frac{1}{2} + \\frac{(1-2p)^k(1+(2p-1))}{2} \\\\\n",
        "&= \\frac{1}{2} + \\frac{(1-2p)^k}{2} \\\\\n",
        "&= \\frac{1+(1-2p)^{k+1}}{2}\n",
        "\\end{align*}\n",
        "Therefore, the formula holds for $n = k+1$\n",
        "\n",
        "By induction, the formula holds for all positive integers $n$.\n",
        "$$q_n = \\frac{1+(1-2p)^n}{2}$$\n",
        "\n",
        "\n",
        "\n",
        "\n",
        "\n",
        "\n",
        "​\n"
      ]
    },
    {
      "cell_type": "markdown",
      "metadata": {
        "id": "PpMwmEt_K_IT"
      },
      "source": [
        "SUBPROBLEM 2: PART 1:To determine the constant $C$, we use the fact that the integral of the joint PDF over the entire support must equal 1\n",
        "\n",
        "$$C \\int_0^{\\infty}\\int_0^{\\infty}e^{-(ax+by)}dxdy = 1$$\n",
        "\n",
        "$$C \\int_0^{\\infty} e^{-ax} \\left[ \\int_0^{\\infty} e^{-by} dy \\right] dx = 1$$\n",
        "\n",
        "$$C \\int_0^{\\infty} e^{-ax} \\frac{1}{b} dy dx = 1$$\n",
        "\n",
        "$$C \\left[ \\frac{1}{b} \\int_0^{\\infty} e^{-ax} dx \\right] = 1$$\n",
        "\n",
        "$$C \\left[ \\frac{1}{b} \\frac{1}{a} e^{-ax} \\right]_{x=0}^{x=\\infty} = 1$$\n",
        "\n",
        "$$C \\left[ \\frac{1}{ab} \\right] = 1$$\n",
        "\n",
        "Thus\n",
        "\n",
        "$$C =  {ab}$$\n",
        "\n",
        "So, the constant $C$ is ${ab}$\n",
        "\n",
        "Part 2:\n",
        "\n",
        "To find the marginal density of $X$, we need to integrate the joint PDF over all possible values of $Y$:\n",
        "\n",
        "$$f_X(x) = \\int_{-\\infty}^\\infty f_{X,Y}(x,y) dy = \\int_0^\\infty Ce^{-(ax+by)} dy = C\\int_0^\\infty e^{-ax}e^{-by} dy$$\n",
        "\n",
        "$$f_X(x) = Ce^{-ax}\\int_0^\\infty e^{-by} dy = Ce^{-ax}\\left[-\\frac{1}{b}e^{-by}\\right]_0^\\infty = Ce^{-ax}\\left[-\\frac{1}{b}e^{-by}\\right]_0^\\infty = \\frac{C}{b}e^{-ax}$$\n",
        "\n",
        "Similarly, we can find the marginal density of $Y$ by integrating the joint PDF over all possible values of $X$:\n",
        "\n",
        "$$f_Y(y) = \\int_{-\\infty}^\\infty f_{X,Y}(x,y) dx = \\int_0^\\infty Ce^{-(ax+by)} dx = C\\int_0^\\infty e^{-ax}e^{-by} dx$$\n",
        "\n",
        "$$f_Y(y) = Ce^{-by}\\int_0^\\infty e^{-ax} dx = Ce^{-by}\\left[-\\frac{1}{a}e^{-ax}\\right]_0^\\infty = Ce^{-by}\\left[-\\frac{1}{a}e^{-ax}\\right]_0^\\infty = \\frac{C}{a}e^{-by}$$\n",
        "\n",
        "To find the value of C, we use the property that the integral of the PDF over the entire sample space is 1.\n",
        "\n",
        "$$1 = \\int_{-\\infty}^{\\infty}f_{X,Y}(x,y)dxdy = \\int_0^\\infty \\int_0^\\infty Ce^{-(ax+by)} dxdy = C\\int_0^\\infty \\int_0^\\infty e^{-ax}e^{-by} dxdy = C\\left[-\\frac{1}{ab}e^{-ax-by}\\right]_0^\\infty = \\frac{1}{ab}$$\n",
        "\n",
        "So $C= ab$.\n",
        "\n",
        "Hence the marginal density of X is $f_X(x) = abe^{-ax}$ and marginal density of Y is $f_Y(y) = abe^{-by}$.\n",
        "\n",
        "From the marginal density of $X$ and $Y$, we can infer that they are both exponential distributions with parameters $a$ and $b$, respectively.\n",
        "\n",
        "\n",
        "From the joint PDF, we can infer that X and Y are non-negative, continuous random variables and they are independent of each other as the joint PDF can be written as the product of their marginal PDFs. Also, the joint PDF is in the form of a two-dimensional exponential distribution, which is often used to model systems where events occur independently, but at a constant average rate. Additionally, we can infer that the value of a and b determine the rate at which X and Y decrease as their values increase.\n",
        "\n",
        "PART 3:\n",
        "\n",
        "we can find the conditional PDF $f_{Y \\mid X}(y \\mid x)$.\n",
        "\n",
        "Given the joint PDF of X and Y as:\n",
        "\n",
        "\\frac{ab}{e} e^{-(ax+by)} & x,y \\geq 0\\\\\n",
        "$$f_X(x) = \\int_{-\\infty}^\\infty f_{X,Y}(x,y) dy = \\int_0^\\infty Ce^{-(ax+by)} dy = C\\int_0^\\infty e^{-ax}e^{-by} dy$$\n",
        "\n",
        "$$f_X(x) = Ce^{-ax}\\int_0^\\infty e^{-by} dy = Ce^{-ax}\\left[-\\frac{1}{b}e^{-by}\\right]_0^\\infty = Ce^{-ax}\\left[-\\frac{1}{b}e^{-by}\\right]_0^\\infty = \\frac{C}{b}e^{-ax}$$\n",
        "\n",
        "We can find the conditional PDF by dividing the joint PDF by the marginal PDF\n",
        "$$f_{Y \\mid X}(y \\mid x) = \\frac{f_{X,Y}(x,y)}{f_X(x)}$$\n",
        "So,\n",
        "$$f_{Y \\mid X}(y \\mid x) = \\frac{{ab}e^{-(ax+by)}}{{a}e^{-ax}} = {b}e^{-by} $$\n",
        "Now we can find the expectation\n",
        "$$\\mathbb{E}(Y \\mid X> \\frac{\\exp(a^2 + b^2)}{a^4 + b^4}) = \\int_{0}^{\\infty} yf_{Y \\mid X}(y \\mid x)dy $$\n",
        "$$\\mathbb{E}(Y \\mid X> \\frac{\\exp(a^2 + b^2)}{a^4 + b^4}) = {b}\\int_{0}^{\\infty} ye^{-by} dy $$\n",
        "$$\\mathbb{E}(Y \\mid X> \\frac{\\exp(a^2 + b^2)}{a^4 + b^4}) = {b}\\frac{1}{b^2}$$\n",
        "so,\n",
        "$$\\mathbb{E}(Y \\mid X> \\frac{\\exp(a^2 + b^2)}{a^4 + b^4}) = \\frac{1}{b}$$\n",
        "This is the expected value of Y given that X is greater than $\\frac{\\exp(a^2 + b^2)}{a^4 + b^4}$\n"
      ]
    },
    {
      "cell_type": "markdown",
      "metadata": {
        "id": "vGVQRgVRK_IV"
      },
      "source": [
        "## Problem 2 [20 points]\n",
        "\n",
        "Let $S_1,S_2,\\ldots,S_n$ be a partition of the sample space $\\Omega$.\n",
        "- Show that for any event $A$,\n",
        "  $$\\mathbb{P}(A) = \\sum_{i=1}^n \\mathbb{P}\\left({A \\cap S_i}\\right)$$\n",
        "- Use the previous part to show that, for events $A$, $B$ and $C$,\n",
        "  $$\\mathbb{P}\\left({A}\\right) = \\mathbb{P}\\left({A \\cap B}\\right) + \\mathbb{P}\\left({A \\cap C}\\right) + \\mathbb{P}\\left({A \\cap B^c \\cap C^c}\\right) - \\mathbb{P}\\left({A \\cap B \\cap C}\\right)$$\n",
        "- Prove that for any two events $A$ and $B$, we have\n",
        "$$\\mathbb{P} (A \\cap B) \\geq \\mathbb{P}(A) + \\mathbb{P}(B) - 1$$\n",
        "- Using the above, establish the following generalization:\n",
        "$$\\mathbb{P}(A_1 \\cap A_2 \\cap \\cdots \\cap A_n) \\geq \\mathbb{P}(A_1) + \\mathbb{P}(A_2) + \\cdots + \\mathbb{P}(A_n) - (n-1)$$\n",
        "\n",
        "**[You will need to argue logically using only the axioms. Drawing a diagram is not enough.]**"
      ]
    },
    {
      "cell_type": "markdown",
      "metadata": {
        "id": "KobE64DyK_IW"
      },
      "source": [
        "## Answer:\n",
        "**Sub-problem 1 $:$**\n",
        "This equation is known as the Law of Total Probability. It states that the probability of an event A is equal to the sum of the probabilities of the intersections of that event with a set of mutually exclusive events, S1, S2, .., Sn whose union is the sample space.\n",
        "\n",
        "**Goal**:To find P(A)\n",
        "\n",
        "For two events A and B:\n",
        "\n",
        "$\\mathbb{P}(A) =\\mathbb{P}(A \\cap B) + \\mathbb{P}(A \\cap B^c)$\n",
        "\n",
        "Using the law of conditional probability we can write:\n",
        "\n",
        "$\\mathbb{P}(A) =\\mathbb{P}(A|B)P(B) +\\mathbb{P}(A|B^c)P(B^c)$\n",
        "\n",
        "Let A be an event and S1, S2, ..., Sn be a set of mutually exclusive events whose union is the sample space.\n",
        "\n",
        "By the definition of mutually exclusive events, we know that for any i and j, where i ≠ j, we have A ∩ Si ∩ Sj = ∅.\n",
        "And ,\n",
        "\n",
        "$\\mathbb{S} = \\bigcup_{i=1}^{n} S_i$\n",
        "\n",
        "$\\mathbb A = A \\cap S = A \\cap \\left( \\bigcup_{i=1}^{n} S_i \\right) = \\bigcup_{i=1}^{n} (A \\cap S_i)$\n",
        "\n",
        "The third axiom of probability states that the probability of the union of disjoint events is equal to the sum of their individual probabilities. In other words, if we have a sample space S and a set of disjoint events S1, S2, ..., Sn such that their union is equal to S, then the probability of an event A is equal to the sum of the probabilities of the events that result from intersecting A with each of the disjoint events in the partition.\n",
        "\n",
        "\n",
        "$\\mathbb {P}(A) =\\sum\\limits_{i=1}^{n}P(A\\cap S_i) = \\sum\\limits_{i=1}^{n}P(A|S_i)P(S_i)$\n",
        "\n",
        "\n",
        "**Sub-problem2 $:$**\n",
        "\n",
        "We partition the sample space as : \n",
        "$\\Omega = (B \\cup C) \\cup (B \\cup C)^c$. \\\\\n",
        "\n",
        "We can see that $(B \\cup C)$ and $(B \\cup C)^c$ are disjoint , and also union of set with its complement is the universal set (as the event and its complement will form the entire set)\\\\\n",
        "Additionally, when we use DeMorgan's laws :\n",
        "$$(B \\cup C)^c =(B^c \\cap C^c) $$\n",
        "As we proved in the previous part i.e the law of conditional probability:\n",
        "\\begin{aligned}\n",
        "\\mathbb{P}(A) &= Σ_i \\mathbb{P}(A \\cap S_i)\\\\ \n",
        "&= \\mathbb{P}(A \\cap (B \\cup C)) + \\mathbb{P}(A \\cap (B^c \\cap C^c)) \\\\\n",
        "&= \\mathbb{P}((A \\cap B) \\cup (A \\cap C)) + \\mathbb{P}(A \\cap B^c \\cap C^c)  \\\\\n",
        "&= \\mathbb{P}(A \\cap B) + \\mathbb{P}(A \\cap C) - \\mathbb{P}((A \\cap B \\cap C) + \\mathbb{P}(A \\cap B^c \\cap C^c)\n",
        "\\end{aligned}\n",
        "\n",
        "\n",
        "The inclusion-exclusion principle states that the probability of the union of two events, $A$ and $B$, is equal to the sum of the probabilities of the events minus the probability of their intersection. This can be written as:\n",
        "\n",
        "$\\mathbb{P} (A \\cup B) = \\mathbb{P}(A) + \\mathbb{P}(B) - \\mathbb{P}(A \\cap B)$\n",
        "\n",
        "The principle holds because each element in the union of $A$ and $B$ is counted exactly once. If an element is in both $A$ and $B$, it is counted twice by $\\mathbb{P}(A) + \\mathbb{P}(B)$ but subtracted once by $\\mathbb{P}(A \\cap B)$, resulting in a total count of once. If an element is only in $A$ or $B$, it is counted once by $\\mathbb{P}(A) + \\mathbb{P}(B)$ and not subtracted by $\\mathbb{P}(A \\cap B)$, also resulting in a total count of once.\n",
        "\n",
        "Hence, the step where we subtract $$\\mathbb{P}((A \\cap B \\cap C)$$ is a correction factor\n",
        "\n",
        "\n",
        "**Sub-problem 3 $:$**\n",
        "\n",
        "We know that $A \\cap B$ is the intersection of events $A$ and $B$, and $A \\cup B$ is the union of events $A$ and $B$. \n",
        "Now,\n",
        "\n",
        "$A \\cup B$ +  $A \\cup B^c $ = S\n",
        "\n",
        "$\\mathbb{P}(A \\cup B)+\\mathbb{P}(A \\cup B ^c)=1$\n",
        "\n",
        "$\\mathbb{P}(A)+\\mathbb{P}(B)-\\mathbb{P}(A \\cap B)+\\mathbb{P}(A \\cup B)^c=1 $\n",
        "\n",
        "$\\mathbb{P}(A \\cap B)=(\\mathbb{P}(A)+\\mathbb{P}(B)-1)+\\mathbb{P}(A \\cup B)^c $\n",
        "\n",
        "$\\mathbb{P}(A \\cap B)>=(\\mathbb{P}(A)+\\mathbb{P}(B)-1)$,Given that : $\\mathbb{P}(A \\cup B)^c $is non negative(greater than or equal to zero)\n",
        "\n",
        "\n",
        "**Sub-problem 4 $:$**\n",
        "Mathematical induction is a method used to prove that a statement is true for all positive integers. The general idea is to prove the statement for the base case (usually n = 1) and then show that if the statement is true for any positive integer n, it must also be true for n + 1.\n",
        "\n",
        "Assuming that the statement\n",
        "P(A ∩ B) ≥ P(A) + P(B) - 1\n",
        "is true for any two events A and B, we can use mathematical induction to prove the following generalization:\n",
        "\n",
        "Base case: $n = 2$\n",
        "\\begin{align}\n",
        "P(A_1 \\cap A_2) &= P(A_1) + P(A_2) - P(A_1 \\cup A_2) \\\n",
        "&\\ge P(A_1) + P(A_2) - 1 \\\n",
        "\\end{align}\n",
        "\n",
        "Assume that the statement holds for $n$ events:\n",
        "\\begin{align}\n",
        "P(A_1 \\cap A_2 \\cap \\dots \\cap A_n) &\\ge P(A_1) + P(A_2) + \\dots + P(A_n) - (n-1)\n",
        "\\end{align}\n",
        "\n",
        "Inductive step:\n",
        "\\begin{align}\n",
        "P(A_1 \\cap A_2 \\cap \\dots \\cap A_n \\cap A_{n+1}) &= P(A_1) + P(A_2) + \\dots + P(A_n) + P(A_{n+1}) \\\n",
        "&\\quad - P(A_1 \\cup A_2 \\cup \\dots \\cup A_n \\cup A_{n+1}) \\\n",
        "&\\ge P(A_1) + P(A_2) + \\dots + P(A_n) + P(A_{n+1}) - n \\\n",
        "\\end{align}\n",
        "\n",
        "Therefore, by induction, the statement holds for any positive integer $n$.\n",
        "\\begin{align}\n",
        "P(A_1 \\cap A_2 \\cap \\dots \\cap A_n) &\\ge P(A_1) + P(A_2) + \\dots + P(A_n) - (n - 1)\n",
        "\\end{align}\n",
        "\n",
        "\n",
        "\n",
        "\n",
        "\n"
      ]
    },
    {
      "cell_type": "markdown",
      "metadata": {
        "id": "Nxu4dhxBK_IX"
      },
      "source": [
        "## Problem 3 [20 Points]\n",
        "\n",
        "### Subproblem 1 [10 Points]\n",
        "\n",
        "- If $X_1,X_2,\\ldots,X_n$ are independent random variables having the same probability density function $f_X(x)$, what is the probability density function for the random variable $Y=\\text{min}\\{X_1,X_2,\\ldots,X_n\\}$?\n",
        "- Consider two continuous random variables $Y$ and $Z$ and a random variable $X$ that is equal to $Y$ with a probability $p$ and equals $Z$ with a probability $1-p$. Obtain the pdf of $X$ interms of the pdf's of $Y$ and $Z$.\n",
        "\n",
        "### Subproblem 2 [10 Points]\n",
        "\n",
        "The Laplace distribution is given by\n",
        "$$p(x | \\mu, b) = \\frac{1}{2 b} \\exp \\left(-\\frac{|x - \\mu|}{b}\\right)$$\n",
        "\n",
        "Consider a mixture of three Laplace distributions:\n",
        "$p(x) = \\alpha p_1(x) + \\beta p_2(x) + \\gamma p_3(x)$\n",
        "\n",
        "where $\\alpha, \\beta, \\gamma \\in [0,1]$ are mixture weights satisfying $\\alpha + \\beta + \\gamma = 1$ and $p_1(x)$, $p_2(x)$ and $p_3(x)$ are Laplace distributions with different parameters $(\\mu_1, b_1) \\neq (\\mu_2, b_2) \\neq (\\mu_3, b_3)$.\n",
        "\n",
        "Derive the expectation and variance of $p(x)$, analytically, using their definitions."
      ]
    },
    {
      "cell_type": "markdown",
      "metadata": {
        "id": "Oj5jRDxpK_IX"
      },
      "source": [
        "## Answer:\n",
        "\n",
        "The cumulative distribution function of $Y = \\min{X_1, X_2, \\ldots, X_n}$ can be written as:\n",
        "\n",
        "$$F_Y(y) = P(Y \\le y) = P\\left(\\min{X_1, X_2, \\ldots, X_n} \\le y\\right) = 1 - P\\left(\\min{X_1, X_2, \\ldots, X_n} > y\\right) = 1 - \\prod_{i=1}^n P(X_i > y)$$\n",
        "\n",
        "And using the independence of $X_1, X_2, \\ldots, X_n$, we get:\n",
        "\n",
        "$$F_Y(y) = 1 - (1 - F_X(y))^n$$\n",
        "\n",
        "Where $F_X(y)$ is the cumulative distribution function of $X$.\n",
        "\n",
        "The probability density function of $Y$ can be obtained by differentiating the cumulative distribution function:\n",
        "\n",
        "$$f_Y(y) = \\frac{d}{dy} F_Y(y) = n\\cdot f_X(y)\\cdot(1-F_X(y))^{n-1}$$\n",
        "\n",
        "Where $f_X(y)$ is the probability density function of $X$.\n",
        "\n",
        "**PART B:**\n",
        "The pdf of a random variable gives us the probability of the variable taking on a specific value. When we have a combination of two random variables as in this case, the pdf of the combined variable is obtained by taking into account the probability of each component variable. In this case, $X$ can take on the value of either $Y$ or $Z$, so the pdf of $X$ is the weighted sum of the pdf's of $Y$ and $Z$, where the weights are the probabilities $p$ and $1-p$ respectively.\n",
        "\n",
        "The probability density function (pdf) of $X$ is given by the weighted sum of the pdf's of $Y$ and $Z$, where the weights are the probabilities $p$ and $1-p$ respectively:\n",
        "\n",
        "$f_X(x) = p\\cdot f_Y(x) + (1-p)\\cdot f_Z(x)$\n",
        "\n",
        "Where $f_Y(x)$ and $f_Z(x)$ are the pdf's of $Y$ and $Z$ respectively.\n",
        "\n",
        "The pdf of $X$ in terms of the pdf's of $Y$ and $Z$ is given by:\n",
        "$$f_X(x) = pf_Y(x) + (1-p)f_Z(x)$$\n",
        "\n",
        "This distribution is valid as :\n",
        "\n",
        "We know that $f_Y(x) \\geq 0$ and $f_Z(x) \\geq 0$, since they are both PDFs, and also that $0 \\leq p \\leq 1$, $X > 0$\n",
        "\n",
        "We know that since $f_Y, f_Z$ are PDFs, $\\int_{-\\infty}^{\\infty}f_Y(x) = 1$, and $\\int_{-\\infty}^{\\infty}f_Z(x) = 1$. We have for X :\n",
        "\n",
        "$$\n",
        "\\begin{aligned}\n",
        "\\int_{-\\infty}^{\\infty}f_X(x) dx &= \\int_{-\\infty}^{\\infty}(pf_Y(x) + (1-p)f_Z(x)) dx \\\\\n",
        "&= p\\int_{-\\infty}^{\\infty}f_Y(x)dx + (1-p)\\int_{-\\infty}^{\\infty}f_Z(x)dx \\\\\n",
        "&= p \\cdot 1 + (1-p) \\cdot 1 = 1\n",
        "\\end{aligned}\n",
        "$$\n",
        "Hence we see that $f_X$ is the required PDF.\n",
        "\n",
        "\n",
        "**SUBPROBLEM 2:**The expectation of a probability distribution is given by:\n",
        "\n",
        "$$\\mathbb{E}[x] = \\int x p(x) dx$$\n",
        "\n",
        "The variance of a probability distribution is given by:\n",
        "\n",
        "$$Var(x) = \\mathbb{E}[x^2] - \\mathbb{E}[x]^2$$\n",
        "\n",
        "Finding the  mean and variance of laplace distribution:\n",
        "$$\n",
        "f(x | \\mu, b) = \\frac{1}{2 b} \\exp \\left(-\\frac{|x - \\mu|}{b}\\right)\n",
        "$$\n",
        "\n",
        "Exxpectation substituting $Y = X - \\mu$ :\n",
        "$$\n",
        "\\begin{align}\n",
        "\\mathbb{E}[X]\n",
        "&=\\frac1{2b}\\int_{-\\infty}^\\infty y\\  e^{-\\Large\\frac{|y|}{b}}\\ dy+\\mu\\\\\n",
        "&=\\frac1{2b}\\int_{-\\infty}^0 y\\  e^{-\\Large\\frac{y}{b}}\\ dy+ \\frac1{2b}\\int_{0}^\\infty y\\  e^{-\\Large\\frac{y}{b}}\\ dy + \\mu\\\\\n",
        "&=-\\frac1{2b}\\int_{0}^\\infty y\\  e^{-\\Large\\frac{y}{b}}\\ dy+ \\frac1{2b}\\int_{0}^\\infty y\\  e^{-\\Large\\frac{y}{b}}\\ dy + \\mu \n",
        "&= \\mu\n",
        "\\end{align}\n",
        "$$\n",
        "\n",
        "variance ( formula $var[X] = E[X^2] - E[X]^2$):\n",
        "$$\n",
        "\\begin{aligned}\n",
        "\\mathbb{E}[X^2] &= \\mathbb{E}[(Y+\\mu)^2] \\\\\n",
        "&= \\mathbb{E}[Y^2] + 2\\mu\\mathbb{E}[X-\\mu] + \\mu^2 \\\\\n",
        "&= \\frac1{2b}\\int_{-\\infty}^\\infty y^2\\  e^{-\\Large\\frac{|y|}{b}}\\ dy+\\mu^2\\\\\n",
        "&=\\frac1{2b}\\int_{-\\infty}^0 y^2\\  e^{-\\Large\\frac{y}{b}}\\ dy+ \\frac1{2b}\\int_{0}^\\infty y^2\\  e^{-\\Large\\frac{y}{b}}\\ dy + \\mu^2\\\\\n",
        "&= \\frac1{b}\\int_{0}^\\infty y^2\\  e^{-\\Large\\frac{y}{b}}\\ dy + \\mu^2 \\quad \\text \\\n",
        "&= 2b^2 + \\mu^2 \\quad \n",
        "\\end{aligned} \n",
        "$$\n",
        "We know from the above formula that, $var(X) = E[X^2] - E[X]^2 = 2b^2$. \\\\\n",
        " \\\\\n",
        "\n",
        "To find the expectation and variance of the mixture distribution $p(x)$, we will use the properties of the expectation and variance for linear combinations of random variables.\n",
        "\n",
        "First, we will find the expectation of the mixture distribution:\n",
        "\n",
        "$$\\mathbb{E}[x] = \\int x p(x) dx = \\int x (\\alpha p_1(x) + \\beta p_2(x) + \\gamma p_3(x)) dx$$\n",
        "\n",
        "$$ = \\alpha \\int x p_1(x) dx + \\beta \\int x p_2(x) dx + \\gamma \\int x p_3(x) dx$$\n",
        "\n",
        "The Laplace distribution has the following expectation:\n",
        "\n",
        "$$\\mathbb{E}[x] = \\mu$$\n",
        "\n",
        "Therefore,\n",
        "\n",
        "$$\\mathbb{E}[x] = \\alpha \\mu_1 + \\beta \\mu_2 + \\gamma \\mu_3$$\n",
        "\n",
        "Now we will find the variance of the mixture distribution:\n",
        "\n",
        "$$Var(x) = \\mathbb{E}[x^2] - \\mathbb{E}[x]^2$$\n",
        "\n",
        "To find $\\mathbb{E}[x^2]$, we will use the following property for a linear combination of random variables:\n",
        "\n",
        "$$\\mathbb{E}[c_1 X_1 + c_2 X_2 + \\cdots + c_n X_n] = c_1 \\mathbb{E}[X_1] + c_2 \\mathbb{E}[X_2] + \\cdots + c_n \\mathbb{E}[X_n]$$\n",
        "\n",
        "Therefore,\n",
        "\n",
        "$$\\mathbb{E}[x^2] = \\alpha \\mathbb{E}[x_1^2] + \\beta \\mathbb{E}[x_2^2] + \\gamma \\mathbb{E}[x_3^2]$$\n",
        "\n",
        "The Laplace distribution has the following second moment:\n",
        "\n",
        "$$\\mathbb{E}[x^2] = \\mu^2 + b^2$$\n",
        "\n",
        "Therefore,\n",
        "\n",
        "The variance of $p(x)$ is given by\n",
        "$$\\text{Var}[X] = \\mathbb{E}[X^2] - \\mathbb{E}[X]^2$$\n",
        "\n",
        "To calculate $\\mathbb{E}[X^2]$, we have\n",
        "$$\\mathbb{E}[X^2] = \\int x^2 p(x) dx = \\int x^2 (\\alpha p_1(x) + \\beta p_2(x) + \\gamma p_3(x)) dx$$\n",
        "$$= \\alpha \\int x^2 p_1(x) dx + \\beta \\int x^2 p_2(x) dx + \\gamma \\int x^2 p_3(x) dx$$\n",
        "\n",
        "Again, since $p_1(x), p_2(x), p_3(x)$ are all Laplace distributions, we know that their variances are equal to $2b_1^2, 2b_2^2, 2b_3^2$, respectively. Therefore,\n",
        "$$\\mathbb{E}[X^2] = \\alpha (\\mu_1^2 + 2b_1^2) + \\beta (\\mu_2^2 + 2b_2^2) + \\gamma (\\mu_3^2 + 2b_3^2)$$\n",
        "\n",
        "Thus,\n",
        "$$\\text{Var}[X] = \\mathbb{E}[X^2] - \\mathbb{E}[X]^2 = \\alpha (\\mu_1^2 + 2b_1^2) + \\beta (\\mu_2^2 + 2b_2^2) + \\gamma (\\mu_3^2 + 2b_3^2) - (\\alpha \\mu_1 + \\beta \\mu_2 + \\gamma \\mu_3)^2$$\n",
        "\n",
        "So the expectation and variance of $p(x)$ are:\n",
        "$$\\mathbb{E}[X] = \\alpha \\mu_1 + \\beta \\mu_2 + \\gamma \\mu_3$$\n",
        "\n",
        "Variance is:\n",
        "$$\\text{Var}[X] = \\mathbb{E}[X^2] - \\mathbb{E}[X]^2 = \\alpha (\\mu_1^2 + 2b_1^2) + \\beta (\\mu_2^2 + 2b_2^2) + \\gamma (\\mu_3^2 + 2b_3^2) - (\\alpha \\mu_1 + \\beta \\mu_2 + \\gamma \\mu_3)^2$$"
      ]
    },
    {
      "cell_type": "markdown",
      "metadata": {
        "id": "swX5gSGNK_IY"
      },
      "source": [
        "## Problem 4 [20 Points]\n",
        "\n",
        "As mentioned in class the Gaussian has nice properties which makes it a fundamental tool in statistical infererence. The standard normal $\\mathcal{N}(\\mathbf{x}; \\mathbf{\\mu}, \\mathbf{\\Sigma})$ is defined as\n",
        "\n",
        "$$\n",
        "    \\mathcal{N}(\\mathbf{x}; \\mathbf{\\mu}, \\mathbf{\\Sigma}) = \\frac{1}{\\sqrt{(2 \\pi)^n |\\mathbf{\\Sigma}|}} \\exp \\left[ -\\frac{1}{2} (\\mathbf{x} - \\mathbf{\\mu})^\\top \\Sigma^{-1} (\\mathbf{x} - \\mathbf{\\mu}) \\right]\n",
        "$$\n",
        "\n",
        "- Prove that if $x \\in \\mathbb{R}^d$ is normally distributed, every affine transformation $y = A x + b$ also has a Gaussian distribution. Find its mean and covariance.\n",
        "- Analytically find the KL divergence $\\mathbb{KL}(P || Q)$ between two multivariate normal distributions $p(x) \\sim \\mathcal{N}(\\mathbf{x}; \\mathbf{\\mu}_1, \\mathbf{\\Sigma}_1)$ and $q(x) \\sim \\mathcal{N}(\\mathbf{x}; \\mathbf{\\mu}_2, \\mathbf{\\Sigma}_2)$."
      ]
    },
    {
      "cell_type": "markdown",
      "metadata": {
        "id": "CKsS-NcDK_IZ"
      },
      "source": [
        "**SUBPROBLEM 1:**\n",
        "Let $y = A x + b$, where $A$ is a $d \\times n$ matrix and $b$ is a $d$-dimensional vector. We want to find the mean and covariance of $y$.\n",
        "\n",
        "Mean:\n",
        "\\begin{align*}\n",
        "\\mathbb{E}[y] &= \\mathbb{E}[A x + b] \\\n",
        "&= A \\mathbb{E}[x] + b \\\n",
        "&= A \\mathbf{\\mu} + b\n",
        "\\end{align*}\n",
        "\n",
        "Covariance:\n",
        "\\begin{align*}\n",
        "\\mathbb{Cov}[y] &= \\mathbb{Cov}[A x + b] \\\n",
        "&= \\mathbb{Cov}[A x] \\\n",
        "&= A \\mathbb{Cov}[x] A^\\top \\\n",
        "&= A \\mathbf{\\Sigma} A^\\top\n",
        "\\end{align*}\n",
        "\n",
        "**SUBPROBLEM 2:**\n",
        "The KL divergence for a continuous random variable is given by:\n",
        "\n",
        "$KL[P || Q] = \\int_{X} p(x)\\ln \\frac{p(x)}{q(x)}dx$\n",
        "\n",
        "Applied to the multivariate normal distributions in (1), the KL divergence yields:\n",
        "\n",
        "$KL[P || Q] = \\int_{\\mathbb{R}^{n}} N(x; \\mu_{1}, \\Sigma_{1})\\ln \\frac{N(x; \\mu_{1}, \\Sigma_{1})}{N(x; \\mu_{2}, \\Sigma_{2})}dx$\n",
        "\n",
        "$= \\langle \\ln \\frac{N(x; \\mu_{1}, \\Sigma_{1})}{N(x; \\mu_{2}, \\Sigma_{2})} \\rangle_{p(x)}$\n",
        "\n",
        "When we use the probability density function of the multivariate normal distribution, this becomes:\n",
        "\n",
        "$KL[P || Q] = \\langle \\ln \\frac{N(x; \\mu_{1}, \\Sigma_{1})}{N(x; \\mu_{2}, \\Sigma_{2})} \\rangle_{p(x)}$\n",
        "\n",
        "$= \\langle \\ln \\frac{\\frac{1}{\\sqrt{(2\\pi)^{n}|\\Sigma_{1}|}}\\exp\\left[-\\frac{1}{2}(x - \\mu_{1})^{T}\\Sigma_{1}^{-1}(x - \\mu_{1})\\right]}{\\frac{1}{\\sqrt{(2\\pi)^{n}|\\Sigma_{2}|}}\\exp\\left[-\\frac{1}{2}(x - \\mu_{2})^{T}\\Sigma_{2}^{-1}(x - \\mu_{2})\\right]} \\rangle_{p(x)}$\n",
        "\n",
        "$= \\frac{1}{2} \\langle \\ln \\frac{|\\Sigma_{2}|}{|\\Sigma_{1}|} - (x - \\mu_{1})^{T}\\Sigma_{1}^{-1}(x - \\mu_{1}) + (x - \\mu_{2})^{T}\\Sigma_{2}^{-1}(x - \\mu_{2}) \\rangle_{p(x)}$\n",
        "\n",
        "Using the fact that $x=tr(x)$ if $x$ is a scalar, and the trace property $tr(ABC)=tr(BCA)$, we have $tr(x)= x$\n",
        "\n",
        "$= \\frac{1}{2}\\left\\langle \\ln \\left| \\Sigma_2 \\right| - \\left| \\Sigma_1 \\right| - tr\\left[\\Sigma^{-1}_1 (x - \\mu_1)(x - \\mu_1)^T\\right] + tr\\left[\\Sigma^{-1}_2 (x - \\mu_2)(x - \\mu_2)^T\\right]\\right\\rangle_{p(x)}$\n",
        "\n",
        "$= \\frac{1}{2} \\cdot \\left\\langle \\ln \\left| \\Sigma_2 \\right| / \\left| \\Sigma_1 \\right| -\n",
        "\\text{tr} \\left[ \\Sigma_1^{-1} (x - \\mu_1)(x - \\mu_1)^T \\right] +\n",
        "\\text{tr} \\left[ \\Sigma_2^{-1} \\left( x x^T - 2 \\mu_2 x^T + \\mu_2 \\mu_2^T \\right) \\right] \\right\\rangle_{p(x)}$\n",
        "\n",
        "Because trace function and expected value are both linear operators, the expectation can be moved inside the trace:\n",
        "\n",
        "\\begin{aligned}\n",
        "& = \\frac{1}{2} \\Biggl( \\ln \\left| \\Sigma_2 \\right| \\left| \\Sigma_1 \\right| - tr \\left[ \\Sigma_{1}^{-1} \\left\\langle \\left( x - \\mu_1 \\right)\\left(x - \\mu_1\\right)^T \\right\\rangle p(x) \\right] \\ + tr \\left[ \\Sigma_{2}^{-1} \\left\\langle xx^T - 2 \\mu_2 x^T + \\mu_2 \\mu_2^T \\right\\rangle_{p(x)} \\right] \\Biggr)\n",
        "\\end{aligned}\n",
        "\n",
        "$=\\frac{1}{2}\\left(\\ln \\left\\vert \\Sigma_2 \\right\\vert \\left\\vert \\Sigma_1 \\right\\vert - tr\\left[\\Sigma_1^{-1} \\left\\langle (x-\\mu_1)(x-\\mu_1)^T \\right\\rangle_{p(x)}\\right] + tr\\left[\\Sigma_2^{-1} \\left(\\left\\langle xx^T \\right\\rangle_{p(x)} - 2\\left\\langle \\mu_2 x^T \\right\\rangle_{p(x)} + \\left\\langle \\mu_2\\mu_2^T \\right\\rangle_{p(x)}\\right)\\right]\\right)$\n",
        "\n",
        "Using the expectation of a linear form for the multivariate normal distribution:\n",
        "\n",
        "$x \\sim N(\\mu, \\Sigma) \\implies \\langle A x \\rangle = A \\mu$\n",
        "\n",
        "and the expectation of a quadratic form for the multivariate normal distribution:\n",
        "\n",
        "$x \\sim N(\\mu, \\Sigma) \\implies \\langle x^T A x \\rangle = \\mu^T A \\mu + tr(A \\Sigma)$\n",
        "\n",
        "the Kullback-Leibler divergence from becomes:\n",
        "\n",
        "\\begin{align*} KL[P || Q] &= \\frac{1}{2} \\left( \\ln \\left| \\Sigma_2 \\right| \\left| \\Sigma_1 \\right| - tr \\left[ \\Sigma_{1}^{-1} \\right] + tr \\left[ \\Sigma_{2}^{-1} \\left( \\Sigma_1 + \\mu_1 \\mu_1^T - 2\\mu_2 \\mu_1^T + \\mu_2 \\mu_2^T \\right) \\right] \\right) \\end{align*}\n",
        "\\begin{align*} &= \\frac{1}{2} \\left( \\ln \\left| \\Sigma_2 \\right| \\left| \\Sigma_1 \\right| - n + tr \\left[ \\Sigma_{2}^{-1} \\Sigma_1 \\right] + tr \\left[ \\left( \\mu_2 - \\mu_1 \\right)^T \\Sigma_{2}^{-1} \\left( \\mu_2 - \\mu_1 \\right) \\right] \\right) \\end{align*}\n",
        "\\begin{align*}&= \\frac{1}{2} \\left[ \\ln \\left| \\Sigma_2 \\right| \\left| \\Sigma_1 \\right| - n + tr \\left[ \\Sigma_{2}^{-1} \\Sigma_1 \\right] + \\left( \\mu_2 - \\mu_1 \\right)^T \\Sigma_{2}^{-1} \\left( \\mu_2 - \\mu_1 \\right) \\right]. \\end{align*}\n",
        "\n",
        "Finally, rearranging the terms, we get:\n",
        "\n",
        "\\begin{align*} KL[P || Q] =& \\frac{1}{2} \\left[ (\\mu_2 - \\mu_1)^T \\Sigma_{2}^{-1} (\\mu_2 - \\mu_1) + \\text{tr} \\left( \\Sigma_{2}^{-1} \\Sigma_1 \\right) - \\ln \\left| \\Sigma_1 \\right| + \\ln \\left| \\Sigma_2 \\right| - n \\right]\n",
        "\\end{align*}"
      ]
    },
    {
      "cell_type": "markdown",
      "metadata": {
        "id": "plTLvWU4K_Ia"
      },
      "source": [
        "## Problem 5 [20 Points]\n",
        "\n",
        "Consider a two-dimensional random variable $z=(z_1,z_2)$ distributed as\n",
        "\n",
        "$$\n",
        "p(z_1,z_2) = \\mathcal{N}\\left(\\left[\\begin{matrix} 0 \\\\ 0 \\end{matrix}\\right],\n",
        "\\left[\\begin{matrix} 1 & 0 \\\\ 0 & 1 \\end{matrix}\\right]\\right).\n",
        "$$\n",
        "\n",
        "\n",
        "Also consider a transformation $z_1 = g_1(x_1) = x_1^3 - 6x_1^2 + 12x_1 - 8$ whose inverse mapping is $x_1 = g_1^{-1}(z_1) = z_1^{1/3} + 2$, and $z_2 = g_2(x_2) = x_2 + 1$ whose inverse mapping is $x_2 = g_2^{-1}(z_2) = z_2 - 1$. Generate $5000$ realizations for $(z_1, z_2)$ from $p(z_1,z_2)$ and compute the corresponding $(x_1, x_2)$ pairs according to the given transformation. Then, maximize the log-likelihood of the $(x_1, x_2)$ observations to estimate the parameters of the forward mapping that transforms $p(z)$ into $p(x)$ (consider a polynomial basis). Report the learned parameters, log-likelihood loss and a visualization of $p(x)$ at every step of your gradient ascent algorithm.\n"
      ]
    },
    {
      "cell_type": "code",
      "execution_count": null,
      "metadata": {
        "id": "643RZe3RK_Ib"
      },
      "outputs": [],
      "source": [
        "import jax.numpy as np   \n",
        "from jax import grad, jacfwd, jit, random, vmap\n",
        "from jax.scipy.stats import multivariate_normal\n",
        "from jax.tree_util import tree_map\n",
        "\n",
        "from IPython.display import clear_output"
      ]
    },
    {
      "cell_type": "code",
      "execution_count": null,
      "metadata": {
        "id": "FCWaK_rmK_Ic"
      },
      "outputs": [],
      "source": [
        "def g_inv(z, params):\n",
        "  x1 = params[0]* np.cbrt(z[0]) + params[1]\n",
        "  #print(z[0])\n",
        "  x2 = params[2] * z[1] + params[3]\n",
        "  #print(z[1])\n",
        "  return np.array([x1, x2])\n",
        "\n",
        "def g_fwd(X,params):\n",
        "  x1=params[0]*np.power(X[0],3)+params[1]*np.power(X[0],2)+params[2]*np.power(X[0],1)+params[3]\n",
        "  x2=params[4]*np.power(X[1],3)+params[5]*np.power(X[1],2)+params[6]*np.power(X[1],1)+params[7]\n",
        "  return np.array([x1, x2])\n"
      ]
    },
    {
      "cell_type": "code",
      "execution_count": null,
      "metadata": {
        "id": "0DgS0x_7K_Ic"
      },
      "outputs": [],
      "source": [
        "g_inv_vec = vmap(g_inv, in_axes=(0, None))\n",
        "g_fwd_vec = vmap(g_fwd, in_axes=(0, None))"
      ]
    },
    {
      "cell_type": "code",
      "execution_count": null,
      "metadata": {
        "colab": {
          "base_uri": "https://localhost:8080/"
        },
        "id": "gSxoCPAeK_Id",
        "outputId": "1c7147c9-817c-4d56-d235-07df4ef31160"
      },
      "outputs": [
        {
          "output_type": "stream",
          "name": "stderr",
          "text": [
            "WARNING:jax._src.lib.xla_bridge:No GPU/TPU found, falling back to CPU. (Set TF_CPP_MIN_LOG_LEVEL=0 and rerun for more info.)\n"
          ]
        },
        {
          "output_type": "stream",
          "name": "stdout",
          "text": [
            "[[ 1.3969241   0.25045034]\n",
            " [-2.1396856   0.29204696]\n",
            " [ 1.1461986  -0.6384599 ]\n",
            " ...\n",
            " [ 0.20302461 -0.04424291]\n",
            " [ 0.56993127  0.07566901]\n",
            " [ 1.3775586   0.7038264 ]]\n",
            "(5000, 2)\n",
            "x = g_inv(z) = [[ 3.117869   -0.7495496 ]\n",
            " [ 0.7114043  -0.70795304]\n",
            " [ 3.046534   -1.6384599 ]\n",
            " ...\n",
            " [ 2.5877368  -1.0442429 ]\n",
            " [ 2.829101   -0.924331  ]\n",
            " [ 3.1126795  -0.29617357]]\n",
            "(5000, 2)\n",
            "z = g_fwd(x) = [[ 1.3969269   0.25045037]\n",
            " [-2.1396856   0.29204696]\n",
            " [ 1.1462002  -0.6384599 ]\n",
            " ...\n",
            " [ 0.20302391 -0.04424286]\n",
            " [ 0.5699291   0.07566899]\n",
            " [ 1.3775616   0.7038264 ]]\n"
          ]
        }
      ],
      "source": [
        "rng_key = random.PRNGKey(0)\n",
        "z = random.normal(rng_key, shape=(5000, 2))\n",
        "params=1, 2, 1, -1\n",
        "x = g_inv_vec(z, params)\n",
        "params1= np.array([1, -6, 12, -8, 0, 0, 1, 1])\n",
        "z_back = g_fwd_vec(x,params1)\n",
        "\n",
        "\n",
        "\n",
        "print(z)\n",
        "print(z.shape)\n",
        "print(\"x = g_inv(z) =\", x)\n",
        "print(x.shape)\n",
        "print(\"z = g_fwd(x) =\", z_back)"
      ]
    },
    {
      "cell_type": "code",
      "execution_count": null,
      "metadata": {
        "colab": {
          "base_uri": "https://localhost:8080/",
          "height": 663
        },
        "id": "Bf6djHULK_Id",
        "outputId": "1778833e-a29d-45ff-8080-eabbbaec0132"
      },
      "outputs": [
        {
          "output_type": "stream",
          "name": "stdout",
          "text": [
            "[[ 0.40954202 -1.3310618 ]\n",
            " [-1.8526287  -1.5790561 ]\n",
            " [-1.3795527   1.534724  ]\n",
            " ...\n",
            " [ 0.10090402  0.5340228 ]\n",
            " [ 0.32329157 -2.323881  ]\n",
            " [ 0.74528337 -0.87408835]]\n",
            "[[ 2.742619   -2.3310618 ]\n",
            " [ 0.7718178  -2.5790563 ]\n",
            " [ 0.88678396  0.534724  ]\n",
            " ...\n",
            " [ 2.4655533  -0.4659772 ]\n",
            " [ 2.6863275  -3.323881  ]\n",
            " [ 2.9066517  -1.8740883 ]]\n",
            "[[ 0.409544   -1.3310618 ]\n",
            " [-1.8526282  -1.5790563 ]\n",
            " [-1.3795533   1.534724  ]\n",
            " ...\n",
            " [ 0.10090446  0.5340228 ]\n",
            " [ 0.32329178 -2.323881  ]\n",
            " [ 0.7452812  -0.8740883 ]]\n"
          ]
        },
        {
          "output_type": "execute_result",
          "data": {
            "text/plain": [
              "Text(0.5, 1.0, 'z = g(x) [reconstructed]')"
            ]
          },
          "metadata": {},
          "execution_count": 5
        },
        {
          "output_type": "display_data",
          "data": {
            "text/plain": [
              "<Figure size 864x288 with 3 Axes>"
            ],
            "image/png": "[encoded data removed]"
          },
          "metadata": {
            "needs_background": "light"
          }
        }
      ],
      "source": [
        "from IPython.display import clear_output\n",
        "import matplotlib.pyplot as plt\n",
        "rng_key = random.PRNGKey(1)\n",
        "z = random.normal(rng_key, (5000, 2))\n",
        "print(z)\n",
        "\n",
        "x     = g_inv_vec(z, params)\n",
        "z_rec = g_fwd_vec(x,params1)\n",
        "print(x)\n",
        "print(z_rec)\n",
        "\n",
        "fig, (ax1, ax2, ax3) = plt.subplots(1, 3, figsize=(12, 4))\n",
        "ax1.hist2d(z[:, 0], z[:, 1], bins=50, range=[(-5,5), (-5,5)], density=True)\n",
        "ax1.set_xlim(-5, 5)\n",
        "ax1.set_ylim(-5, 5)\n",
        "ax1.set_title('z ~ p(z)')\n",
        "\n",
        "ax2.hist2d(x[:, 0], x[:, 1], bins=50, range=[(-5,5), (-5,5)], density=True)\n",
        "ax2.set_xlim(-5, 5)\n",
        "ax2.set_ylim(-5, 5)\n",
        "ax2.set_title('x = g^{-1}(z)')\n",
        "\n",
        "ax3.hist2d(z_rec[:, 0], z_rec[:, 1], bins=50, range=[(-5,5), (-5,5)], density=True)\n",
        "ax3.set_xlim(-5, 5)\n",
        "ax3.set_ylim(-5, 5)\n",
        "ax3.set_title('z = g(x) [reconstructed]')\n"
      ]
    },
    {
      "cell_type": "code",
      "execution_count": null,
      "metadata": {
        "colab": {
          "base_uri": "https://localhost:8080/"
        },
        "id": "2z5sSVxkK_Id",
        "outputId": "ab7f9e87-326b-4837-87a6-9f4c1b162211"
      },
      "outputs": [
        {
          "output_type": "stream",
          "name": "stdout",
          "text": [
            "log p(z) = -4.292217\n",
            "log p(x) = -4.628736\n"
          ]
        }
      ],
      "source": [
        "z = random.normal(rng_key, (2,))\n",
        "x = g_inv(z, params)\n",
        "\n",
        "mu_z = np.zeros(2)\n",
        "cov_z = np.eye(2)\n",
        "\n",
        "logp_z = multivariate_normal.logpdf(z, mean=mu_z, cov=cov_z)\n",
        "\n",
        "# Compute the Jacobian of g using automatic differentiation\n",
        "J = jacfwd(g_fwd) # this return a callable function!\n",
        "\n",
        "# Compute the log-likelihood of x using the change of variables formula\n",
        "logp_x = multivariate_normal.logpdf(g_fwd(x, params1), mean=mu_z, cov=cov_z) + \\\n",
        "         np.log(np.abs(np.linalg.det(J(x, params1))))\n",
        "\n",
        "print(\"log p(z) =\", logp_z)\n",
        "print(\"log p(x) =\", logp_x)"
      ]
    },
    {
      "cell_type": "code",
      "execution_count": null,
      "metadata": {
        "colab": {
          "base_uri": "https://localhost:8080/"
        },
        "id": "7sW8ycPGK_Ie",
        "outputId": "c8810009-65d9-49d1-8e73-2e89d30423bd"
      },
      "outputs": [
        {
          "output_type": "stream",
          "name": "stdout",
          "text": [
            "log p(x) = [-2.3041358 -3.2910194 -2.6540308 ... -2.4160042 -4.2445364 -1.5949955]\n"
          ]
        }
      ],
      "source": [
        "J_vec = vmap(J, in_axes=(0,None)) # returns a callable function!\n",
        "det_vec = vmap(np.linalg.det) # returns a callable function!\n",
        "rng_key=random.PRNGKey(1)\n",
        "# Generate a batch of samples\n",
        "z = random.normal(rng_key, (5000, 2))\n",
        "x = g_inv_vec(z, params)\n",
        "\n",
        "# One more sanity check..\n",
        "\n",
        "#\\log p(x) from the change of variabled formula\n",
        "print(\"log p(x) =\", multivariate_normal.logpdf(g_fwd_vec(x,params1), \n",
        "mean=np.zeros(2), \n",
        "cov=np.eye(2)) + \n",
        "np.log(np.abs(det_vec(J_vec(x,params1)))))\n",
        "# # \\log p(x) from our analytical calculation\n",
        "#print(\"log p(x) =\", multivariate_normal.logpdf(x, mean=g_fwd_vec(mu_z,1, -6, 12, -8, 0, 0, 1, 1), cov=g_inv_vec(z, 1, 2, 1, -1) ))"
      ]
    },
    {
      "cell_type": "code",
      "execution_count": null,
      "metadata": {
        "id": "2IhTl6LuK_Ie"
      },
      "outputs": [],
      "source": [
        "z_train = random.normal(rng_key, (5000, 2))\n",
        "x_train = g_inv_vec(z_train, params)"
      ]
    },
    {
      "cell_type": "code",
      "execution_count": null,
      "metadata": {
        "id": "PMQbCvHvK_If"
      },
      "outputs": [],
      "source": [
        "@jit\n",
        "def loss(params, batch):\n",
        "    return -np.mean(multivariate_normal.logpdf(g_fwd_vec(batch, params), \n",
        "                                               mean=np.zeros(2), \n",
        "                                               cov=np.eye(2)) + \n",
        "                    np.log(np.abs(det_vec(J_vec(batch,params)))))"
      ]
    },
    {
      "cell_type": "code",
      "execution_count": null,
      "metadata": {
        "id": "YZpwTsZAK_If"
      },
      "outputs": [],
      "source": [
        "grad_loss = grad(loss)"
      ]
    },
    {
      "cell_type": "code",
      "execution_count": null,
      "metadata": {
        "colab": {
          "base_uri": "https://localhost:8080/",
          "height": 298
        },
        "id": "uTOHK1D_K_If",
        "outputId": "0848e5d0-5838-425d-a623-a8633d826a96"
      },
      "outputs": [
        {
          "output_type": "stream",
          "name": "stdout",
          "text": [
            "iteration = 1990, loss = 2.164945363998413\n"
          ]
        },
        {
          "output_type": "display_data",
          "data": {
            "text/plain": [
              "<Figure size 288x288 with 1 Axes>"
            ],
            "image/png": "[encoded data removed]"
          },
          "metadata": {
            "needs_background": "light"
          }
        }
      ],
      "source": [
        "rng_key = random.PRNGKey(0)\n",
        "# a1_est=random.normal(rng_key, (1,)) * 0.5+1\n",
        "# b1_est=random.normal(rng_key, (1,)) * 0.5-6\n",
        "# c1_est=random.normal(rng_key, (1,)) * 0.5-12\n",
        "# d1_est=random.normal(rng_key, (1,)) * 0.5-8\n",
        "# e1_est=random.normal(rng_key, (1,)) * 0.5+0\n",
        "# f1_est=random.normal(rng_key, (1,)) * 0.5+0\n",
        "# g1_est=random.normal(rng_key, (1,)) * 0.5+1\n",
        "# h1_est=random.normal(rng_key, (1,)) * 0.5+1\n",
        "params_est = params1 + random.normal(rng_key, (8,))*0.002\n",
        "# print(params_est)\n",
        "\n",
        "\n",
        "# # # Define a learning rate parameter\n",
        "lr = 0.001\n",
        "\n",
        "# # Define the gradient descent step\n",
        "def step(params, batch):\n",
        "  grads =grad_loss(params_est, batch)\n",
        "  params = tree_map(lambda x, g: x - lr*g, params_est, grads)\n",
        "  return params\n",
        "\n",
        "# # Initial parameters and training data batch\n",
        "params = params_est\n",
        "#print(params)\n",
        "batch = x_train\n",
        "\n",
        "for i in range(2000):\n",
        "    params = step(params, batch)\n",
        "    \n",
        "    # Show progress\n",
        "    if i % 10 == 0:\n",
        "        clear_output(wait=True)\n",
        "        params_est = params\n",
        "\n",
        "        plt.figure(figsize=(4, 4))\n",
        "        plt.title(\"iteration = {}, loss = {}\".format(i, loss(params, batch)))\n",
        "        print(\"iteration = {}, loss = {}\".format(i, loss(params, batch)))\n",
        "        \n",
        "        plt.hist2d(batch[:, 0], batch[:, 1], bins=50, range=[(-5,5), (-5,5)], density=True)\n",
        "        plt.xlim(-5, 5)\n",
        "        plt.ylim(-5, 5)\n",
        "\n",
        "        x = np.arange(-5.0, 5.0, 0.05)\n",
        "        y = np.arange(-5.0, 5.0, 0.05)\n",
        "        X, Y = np.meshgrid(x, y)\n",
        "        shape = X.shape\n",
        "        grid = np.hstack([X.reshape(-1, 1), Y.reshape(-1, 1)])\n",
        "        Z = np.exp(multivariate_normal.logpdf(g_fwd_vec(grid,params), mean=np.zeros(2),cov=np.eye(2)) + np.log(np.abs(det_vec(J_vec(grid,params)))))\n",
        "        Z = Z.reshape(shape)\n",
        "        CS = plt.contour(X, Y, Z, levels=10, lw=2)\n",
        "\n",
        "        plt.show( )"
      ]
    }
  ],
  "metadata": {
    "kernelspec": {
      "display_name": "Python 3",
      "language": "python",
      "name": "python3"
    },
    "language_info": {
      "codemirror_mode": {
        "name": "ipython",
        "version": 3
      },
      "file_extension": ".py",
      "mimetype": "text/x-python",
      "name": "python",
      "nbconvert_exporter": "python",
      "pygments_lexer": "ipython3",
      "version": "3.10.6 (tags/v3.10.6:9c7b4bd, Aug  1 2022, 21:53:49) [MSC v.1932 64 bit (AMD64)]"
    },
    "vscode": {
      "interpreter": {
        "hash": "46001093d95e05b9a104f5fe60da2f4be227a5a2b376abf000efa4e2223724e8"
      }
    },
    "colab": {
      "provenance": []
    }
  },
  "nbformat": 4,
  "nbformat_minor": 0
}