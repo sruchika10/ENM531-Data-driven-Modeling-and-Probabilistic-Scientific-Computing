{
  "cells": [
    {
      "cell_type": "markdown",
      "metadata": {
        "id": "HcEM6SndX1-F"
      },
      "source": [
        "# Assignment 5\n",
        "\n",
        "## Problem 1 [20 Points]\n",
        "\n",
        "Consider the following functions which are indexed by increasing levels of fidelity:\n",
        "\n",
        "$$f_3(x) = \\left(\\frac{-1.275 x_1^2}{\\pi^2} + \\frac{5x_1}{\\pi} + x_2 - 6 \\right)^2 + \\left(10 - \\frac{5}{4 \\pi}\\right) \\cos(x_1) + 10,$$\n",
        "$$f_2(x) = 10 \\sqrt{f_3(x - 2)} + 2(x_1 - 0.5) - 3(3x_2 - 1) - 1$$\n",
        "$$f_1(x) = f_2(1.2(x + 2)) - 3x_2 + 1.$$\n",
        "\n",
        "Given a set of noiseless multi-fidelity observations of $f_1$, $f_2$ and $f_3$,  train a multi-fidelity GP that can approximate the highest fidelity function $f_3$. Considering $n_1 = 80, n_2 = 40, n_3 = 20$ observations for each of the functions, obtained by randomly sampling in $[-5, 10] \\times [0, 15]$, find the relative $\\mathbb{L}_2$ error of the high-fidelty function on a test-grid. Report your performance over 100 different trials.\n"
      ]
    },
    {
      "cell_type": "markdown",
      "source": [
        "##Mathematical model:\n",
        "For x ϵ $ℝ^{2}$, y ϵ $ℝ$ the noiseless observations are modeled as : \n",
        "\n",
        "\\begin{align}\n",
        "  y_1 = f_1(x) \\\\\n",
        "  y_2 = f_2(x) \\\\\n",
        "  y_3 = f_3(x)\n",
        "\\end{align}\n",
        "\n",
        "where:\n",
        "\\begin{align}\n",
        "  f_1(x) ∼ \\text{GP} (0,K_1(x,x',θ_1)) \\\\\n",
        "  f_2(x) \\sim c_1f_1(x) + ϵ_2(x) \\\\\n",
        "  f_3(x) \\sim c_2f_2(x) + ϵ_3(x) \n",
        "\\end{align}\n",
        "where:\n",
        "\\begin{align}\n",
        "  ϵ_2(x) \\sim \\text{GP} (0,K_2(x,x',θ_2)) \\\\\n",
        "  ϵ_3(x) \\sim \\text{GP} (0,K_3(x,x',θ_3)) \\\\\n",
        "\\end{align}\n",
        "\n",
        "##Training phase :\n",
        "\n",
        "Given $\\mathcal{D}$ = {$x_1,y_1$}, {$x_2,y_2$}, {$x_3,y_3$}  :\n",
        "\\begin{align}\n",
        "p(y_1,y_2,y_3) = \\mathcal{N}\\left(\\begin{bmatrix}0\\\\0\\\\0 \\end{bmatrix}, \\begin{bmatrix} K_{11}(x_1,x_1) \\ \\ \\ K_{12}(x_1,x_2) \\ \\ \\ K_{13}(x_1,x_3)\\\\ K_{12}^T(x_1,x_2) \\ \\  \\ K_{22}(x_2,x_2) \\ \\ \\  K_{23}(x_2,x_3)\\\\ K_{13}^T (x_1,x_3) \\ \\  \\ K_{23}^T(x_2,x_3) \\ \\ \\  K_{33}(x_3,x_3) \\end{bmatrix}\\right)\n",
        "\\end{align}\n",
        "\n",
        "where:\n",
        "\\begin{align}\n",
        "K_{11}=K_1 \\\\\n",
        "K_{22}=c_1K_1\\\\\n",
        "K_{13}= 0\\\\\n",
        "K_{22}=c_1^2K_1+K_2\\\\\n",
        "K_{23}=c_2(c_1^2K_1+K_2)\\\\\n",
        "K_{33}=c_2^2(c_1^2K_1+K_2)+K_3\n",
        "\\end{align}\n",
        "\n",
        "##Prediction phase:\n",
        "\n",
        "Given  $x^*$ the joint posterior will be :\n",
        "\n",
        "\\begin{align}\n",
        "p\\left(\\begin{bmatrix}f(x^*) \\\\ y_1 \\\\ y_2\\\\ y_3 \\end{bmatrix}\\right) = \\mathcal{N}\\left(\\begin{bmatrix}0 \\\\ 0\\\\ 0 \\\\ 0 \\end{bmatrix},\\begin{bmatrix} K_{33}(x^*,x_1) \\ \\ \\ K_{13}(x^*,x_1) \\ \\ \\ K_{23}(x^* ,x_2) \\ \\ \\ K_{33}(x^* ,x_3)\\\\ \\ \\ \\ \\ \\ \\ \\ \\ \\ \\ \\ \\huge{κ} \\end{bmatrix}\\right)\n",
        "\\end{align}"
      ],
      "metadata": {
        "id": "HOwHmae-TlhG"
      }
    },
    {
      "cell_type": "code",
      "execution_count": null,
      "metadata": {
        "vscode": {
          "languageId": "plaintext"
        },
        "id": "OhVkis3CX1-K",
        "colab": {
          "base_uri": "https://localhost:8080/"
        },
        "outputId": "e3204628-1d83-4ae8-fede-b83e170906c1"
      },
      "outputs": [
        {
          "output_type": "stream",
          "name": "stdout",
          "text": [
            "Looking in indexes: https://pypi.org/simple, https://us-python.pkg.dev/colab-wheels/public/simple/\n",
            "Collecting PyDOE\n",
            "  Downloading pyDOE-0.3.8.zip (22 kB)\n",
            "  Preparing metadata (setup.py) ... \u001b[?25l\u001b[?25hdone\n",
            "Requirement already satisfied: numpy in /usr/local/lib/python3.10/dist-packages (from PyDOE) (1.22.4)\n",
            "Requirement already satisfied: scipy in /usr/local/lib/python3.10/dist-packages (from PyDOE) (1.10.1)\n",
            "Building wheels for collected packages: PyDOE\n",
            "  Building wheel for PyDOE (setup.py) ... \u001b[?25l\u001b[?25hdone\n",
            "  Created wheel for PyDOE: filename=pyDOE-0.3.8-py3-none-any.whl size=18184 sha256=4cd6a3451f33e78e99edfe48cca75c1d6700fe9545fdadb77474cca8e08b7eab\n",
            "  Stored in directory: /root/.cache/pip/wheels/ce/b6/d7/c6b64746dba6433c593e471e0ac3acf4f36040456d1d160d17\n",
            "Successfully built PyDOE\n",
            "Installing collected packages: PyDOE\n",
            "Successfully installed PyDOE-0.3.8\n"
          ]
        }
      ],
      "source": [
        "# your code here\n",
        "!pip install --upgrade PyDOE"
      ]
    },
    {
      "cell_type": "code",
      "source": [
        "import jax.numpy as np\n",
        "import numpy as onp\n",
        "from jax import vmap, jit, vjp, random\n",
        "from jax.scipy.linalg import cholesky, solve_triangular\n",
        "\n",
        "from jax.config import config\n",
        "config.update(\"jax_enable_x64\", True)\n",
        "\n",
        "from pyDOE import lhs\n",
        "from functools import partial\n",
        "from tqdm import trange\n",
        "from scipy.optimize import minimize\n",
        "import matplotlib.pyplot as plt\n",
        "from matplotlib import rc\n",
        "\n",
        "onp.random.seed(1234)"
      ],
      "metadata": {
        "id": "6dvrFWW9TpL6"
      },
      "execution_count": null,
      "outputs": []
    },
    {
      "cell_type": "code",
      "source": [
        "def RBF(x1, x2, params):\n",
        "    output_scale = params[0]\n",
        "    lengthscales = params[1:]\n",
        "    diffs = np.expand_dims(x1 / lengthscales, 1) - \\\n",
        "            np.expand_dims(x2 / lengthscales, 0)\n",
        "    r2 = np.sum(diffs**2, axis=2)\n",
        "    return output_scale * np.exp(-0.5 * r2)"
      ],
      "metadata": {
        "id": "afY1bnO-TsBc"
      },
      "execution_count": null,
      "outputs": []
    },
    {
      "cell_type": "code",
      "source": [
        "def minimize_lbfgs(objective, x0, bnds = None):\n",
        "    result = minimize(objective, x0, jac=True,\n",
        "                      method='L-BFGS-B', bounds = bnds,\n",
        "                      callback=None)\n",
        "    return result.x, result.fun"
      ],
      "metadata": {
        "id": "nsNR0lRCTumb"
      },
      "execution_count": null,
      "outputs": []
    },
    {
      "cell_type": "code",
      "source": [
        "class GPRegression:\n",
        "    # Initialize the class\n",
        "    def __init__(self, kernel_fn = RBF): \n",
        "        self.kernel = kernel_fn\n",
        "                              \n",
        "    def random_init_GP(self, rng_key, dim):\n",
        "        key1,key2=random.split(rng_key,2)\n",
        "\n",
        "        hyp = np.concatenate([np.log(random.uniform(key1,(9,))),random.uniform(key2,(2,))])\n",
        "        return hyp\n",
        "\n",
        "    def compute_cholesky(self, params, batch):\n",
        "        X1,X2,X3, _ = batch\n",
        "        # Fetch params\n",
        "        theta1 = np.exp(params[:(dim+1)])\n",
        "        theta2=np.exp(params[(dim+1):2*(dim+1)])\n",
        "        theta3=np.exp(params[2*(dim+1):3*(dim+1)])\n",
        "        c1,c2=params[3*(dim+1):]\n",
        "        #Form block matrices\n",
        "        k11=self.kernel(X1,X1,theta1)\n",
        "        k12=c1*self.kernel(X1,X2, theta1)\n",
        "        k13=np.zeros((X1.shape[0],X3.shape[0]))\n",
        "        k22=c1**2*self.kernel(X2,X2,theta1)+self.kernel(X2,X2,theta2)\n",
        "        k23=c2*(c1**2*self.kernel(X2,X3,theta1)+self.kernel(X2,X3,theta2))\n",
        "        k33=c2**2*(c1**2*self.kernel(X3,X3,theta1)+self.kernel(X3,X3,theta2))+ \\\n",
        "                           self.kernel(X3,X3,theta3)\n",
        "        K=np.vstack((np.hstack((k11, k12,k13)),\n",
        "               np.hstack((k12.T,k22, k23)),\n",
        "               np.hstack((k13.T,k23.T,k33)))) +10**(-14)\n",
        "\n",
        "        # Compute kernel\n",
        "        L = cholesky(K, lower=True)\n",
        "        return L\n",
        "\n",
        "    def likelihood(self, params, batch):\n",
        "        _,_,_, y = batch\n",
        "        N = y.shape[0]\n",
        "        # Compute Cholesky\n",
        "        L = self.compute_cholesky(params, batch)\n",
        "        # Compute negative log-marginal likelihood\n",
        "        alpha = solve_triangular(L.T,solve_triangular(L, y, lower=True))\n",
        "        NLML = 0.5*np.matmul(np.transpose(y),alpha) + \\\n",
        "               np.sum(np.log(np.diag(L))) + 0.5*N*np.log(2.0*np.pi)\n",
        "        return NLML\n",
        "\n",
        "    @partial(jit, static_argnums=(0,))\n",
        "    def likelihood_value_and_grad(self, params, batch):\n",
        "        fun = lambda params: self.likelihood(params, batch)\n",
        "        primals, f_vjp = vjp(fun, params)\n",
        "        grads = f_vjp(np.ones_like(primals))[0]\n",
        "        return primals, grads\n",
        "\n",
        "    def train(self, batch, rng_key, num_restarts = 10):\n",
        "        # Define objective that returns NumPy arrays (to be minimized with SciPy)\n",
        "        def objective(params):\n",
        "            value, grads = self.likelihood_value_and_grad(params, batch)\n",
        "            out = (onp.array(value), onp.array(grads))\n",
        "            return out\n",
        "        # Optimize with random restarts\n",
        "        params = []\n",
        "        likelihood = []\n",
        "        rng_key = random.split(rng_key, num_restarts)\n",
        "        for i in trange(num_restarts):\n",
        "            init = self.random_init_GP(rng_key[i], dim)\n",
        "            p, val = minimize_lbfgs(objective, init)\n",
        "            params.append(p)\n",
        "            likelihood.append(val)\n",
        "        params = np.vstack(params)\n",
        "        likelihood = np.vstack(likelihood)\n",
        "        #### find the best likelihood (excluding any NaNs) ####\n",
        "        bestlikelihood = np.nanmin(likelihood)\n",
        "        idx_best = np.where(likelihood == bestlikelihood)\n",
        "        idx_best = idx_best[0][0]\n",
        "        best_params = params[idx_best,:]\n",
        "        return best_params\n",
        "\n",
        "    @partial(jit, static_argnums=(0,))\n",
        "    def predict(self, params, batch, X_star):\n",
        "        X1,X2,X3, y = batch\n",
        "        # Fetch params\n",
        "        theta1 = np.exp(params[:(dim+1)])\n",
        "        theta2=np.exp(params[(dim+1):2*(dim+1)])\n",
        "        theta3=np.exp(params[2*(dim+1):3*(dim+1)])\n",
        "        c1,c2=params[3*(dim+1):]\n",
        "        # Compute kernels\n",
        "        k13_p=np.zeros((X_star.shape[0],X1.shape[0]))\n",
        "        k23_p=c2*(c1**2*self.kernel(X_star,X2,theta1)+self.kernel(X_star,X2,theta2))\n",
        "        k33_p=c2**2*(c1**2*self.kernel(X_star,X3,theta1)+self.kernel(X_star,X3,theta2))+ \\\n",
        "                          self.kernel(X_star,X3,theta3)\n",
        "        k_pp=c2**2*(c1**2*self.kernel(X_star,X_star,theta1)+self.kernel(X_star,X_star,theta2))+ \\\n",
        "                           self.kernel(X_star,X_star,theta3)\n",
        "\n",
        "       \n",
        "        k_pX=np.hstack((k13_p,k23_p,k33_p))\n",
        "        L = self.compute_cholesky(params, batch)\n",
        "        alpha = solve_triangular(L.T,solve_triangular(L, y, lower=True))\n",
        "        beta  = solve_triangular(L.T,solve_triangular(L, k_pX.T, lower=True))\n",
        "        # Compute predictive mean\n",
        "        mu = np.matmul(k_pX, alpha)\n",
        "        cov = k_pp - np.matmul(k_pX, beta)\n",
        "        std = np.sqrt(np.clip(np.diag(cov), a_min=0.))\n",
        "        return mu, std\n",
        "\n",
        "    @partial(jit, static_argnums=(0,))\n",
        "    def draw_posterior_sample(self, rng_key, params, batch, X_star):\n",
        "        X1,X2,X3, y = batch\n",
        "        # Fetch params\n",
        "        theta1 = np.exp(params[:(dim+1)])\n",
        "        theta2=np.exp(params[(dim+1):2*(dim+1)])\n",
        "        theta3=np.exp(params[2*(dim+1):3*(dim+1)])\n",
        "        c1,c2=params[3*(dim+1):]\n",
        "        # Compute kernels\n",
        "        k13_p=np.zeros((X_star.shape[0],X1.shape[0]))\n",
        "        k23_p=c2*(c1**2*self.kernel(X_star,X2,theta1)+self.kernel(X_star,X2,theta2))\n",
        "        k33_p=c2**2*(c1**2*self.kernel(X_star,X3,theta1)+self.kernel(X_star,X3,theta2))+ \\\n",
        "                          self.kernel(X_star,X3,theta3)\n",
        "        k_pp=c2**2*(c1**2*self.kernel(X_star,X_star,theta1)+self.kernel(X_star,X_star,theta2))+ \\\n",
        "                           self.kernel(X_star,X_star,theta3)\n",
        "\n",
        "       \n",
        "        k_pX=np.hstack((k13_p,k23_p,k33_p))\n",
        "        L = self.compute_cholesky(params, batch)\n",
        "        alpha = solve_triangular(L.T,solve_triangular(L, y, lower=True))\n",
        "        beta  = solve_triangular(L.T,solve_triangular(L, k_pX.T, lower=True))\n",
        "        # Compute predictive mean\n",
        "        mu = np.matmul(k_pX, alpha)\n",
        "        cov = k_pp - np.matmul(k_pX, beta)\n",
        "        sample = random.multivariate_normal(rng_key, mu, cov)\n",
        "        return sample  "
      ],
      "metadata": {
        "id": "Rc93E13cT2w0"
      },
      "execution_count": null,
      "outputs": []
    },
    {
      "cell_type": "code",
      "source": [
        "f3 = lambda x:(-1.275*x[0]**2/np.pi**2+5*x[0]/np.pi+x[1]-6)**2+(10-5/4/np.pi)*np.cos(x[0])+10\n",
        "f2 = lambda x:10*np.sqrt(f3(x - 2))+2*(x[0]-0.5)-3*(3*x[1]-1)-1\n",
        "f1 = lambda x:f2(1.2*(x+2))-3*x[1]+1"
      ],
      "metadata": {
        "id": "rgJMncsRT5b2"
      },
      "execution_count": null,
      "outputs": []
    },
    {
      "cell_type": "code",
      "source": [
        "N1 = 80\n",
        "N2=40\n",
        "N3=20\n",
        "dim = 2\n",
        "noise = 0.0\n",
        "lb = np.array([-5.0,10.0])\n",
        "ub = np.array([0.0,15.0])\n",
        "\n",
        "# Training data\n",
        "X1 = lb + (ub-lb)*lhs(dim, N1,criterion='center')\n",
        "X2 = lb + (ub-lb)*lhs(dim, N2,criterion='center')\n",
        "X3 = lb + (ub-lb)*lhs(dim, N3,criterion='center')\n",
        "y1 = vmap(f1)(X1)\n",
        "y2 = vmap(f2)(X2)\n",
        "y3 = vmap(f3)(X3)\n",
        "y=np.concatenate([y1,y2,y3])\n",
        "# Test data\n",
        "n_star = 1000\n",
        "X_star = lb + (ub-lb)*lhs(dim, n_star,criterion='center')\n",
        "y_star = vmap(f3)(X_star)"
      ],
      "metadata": {
        "id": "mmDgPN6zT7_J"
      },
      "execution_count": null,
      "outputs": []
    },
    {
      "cell_type": "code",
      "source": [
        "model = GPRegression(kernel_fn = RBF)"
      ],
      "metadata": {
        "id": "p3_JVR8uT8Vz"
      },
      "execution_count": null,
      "outputs": []
    },
    {
      "cell_type": "code",
      "source": [
        "mu_y, sigma_y = y.mean(0), y.std(0)\n",
        "X_train1 = (X1 - lb)/(ub-lb)\n",
        "X_train2 = (X2 - lb)/(ub-lb)\n",
        "X_train3 = (X3 - lb)/(ub-lb)\n",
        "y_train = (y - mu_y)/sigma_y\n",
        "\n",
        "# Train model\n",
        "train_key = random.PRNGKey(0)\n",
        "opt_params = model.train((X_train1,X_train2,X_train3, y_train), train_key, num_restarts = 100)"
      ],
      "metadata": {
        "colab": {
          "base_uri": "https://localhost:8080/"
        },
        "id": "Tvb73mQdUBgo",
        "outputId": "e32662a4-1e38-41f4-bb82-2ea8055bfc4e"
      },
      "execution_count": null,
      "outputs": [
        {
          "output_type": "stream",
          "name": "stderr",
          "text": [
            "100%|██████████| 100/100 [00:25<00:00,  3.99it/s]\n"
          ]
        }
      ]
    },
    {
      "cell_type": "code",
      "source": [
        "X_test = (X_star - lb)/(ub-lb)\n",
        "\n",
        "# Make predictions\n",
        "mean, std = model.predict(opt_params, (X_train1,X_train2,X_train3, y_train), X_test)\n",
        "\n",
        "# De-normalize predictions\n",
        "mean, std = mean*sigma_y + mu_y, std*sigma_y\n",
        "\n",
        "# Uncertainty bands\n",
        "lower = mean - 2.0*std\n",
        "upper = mean + 2.0*std\n",
        "\n",
        "# Draw posterior samples\n",
        "num_draws = 10\n",
        "test_keys = random.split(random.PRNGKey(0), num_draws)\n",
        "sample_fn = lambda key: model.draw_posterior_sample(key, opt_params, (X_train1,X_train2,X_train3, y_train), X_test)\n",
        "f_samples = vmap(sample_fn)(test_keys)\n",
        "f_samples = f_samples*sigma_y + mu_y\n",
        "\n",
        "# Check accuracy\n",
        "error = np.linalg.norm(mean-y_star,2)/np.linalg.norm(y_star,2)\n",
        "print(\"Relative L2 error for f3 on test grid: %e\" % (error))"
      ],
      "metadata": {
        "colab": {
          "base_uri": "https://localhost:8080/"
        },
        "id": "83s4cRn2UCF4",
        "outputId": "555c214b-6065-46a7-987c-1cd807f0b1be"
      },
      "execution_count": null,
      "outputs": [
        {
          "output_type": "stream",
          "name": "stdout",
          "text": [
            "Relative L2 error for f3 on test grid: 3.659891e-04\n"
          ]
        }
      ]
    },
    {
      "cell_type": "markdown",
      "metadata": {
        "id": "eKHizJRgX1-N"
      },
      "source": [
        "\n",
        "## Problem 2 [20 Points]\n",
        "\n",
        "i) Consider the following definitions for a kernel $K(x, x')$:\n",
        "- Definition A: $K(x, x')$ is valid if there exist a mapping function $\\phi(x)$ that $K(x, x') = \\phi(x)^T \\phi(x')$\n",
        "- Definition B: $K(x, x')$ is valid if for any finite set of training examples $x_1, \\cdots, x_n$, the matrix $K$ with elements defined as $K_{ij} = K(x_i, x_j)$ is positive semidefinite.\n",
        "\n",
        "Show that Definition A $\\implies$ Definition B. Would $K(x, x') = \\tanh(x\\cdot x' - 1)$ be a valid kernel?\n",
        "\n",
        "ii) One way to build valid kernels is by constructing them from simpler kernel functions: assuming $K_1(x, x')$ and $K_2(x, x')$ are kernels\n",
        "- Scaling: $f(x) K(x, x') f(x')$\n",
        "- Sum: $K_1(x, x') + K_2(x, x')$\n",
        "- Product: $K_1(x, x') K_2(x, x')$\n",
        "\n",
        "Prove that these operations result in a valid kernel function. Do note that the feature vectors of different kernels may be of different length.\n",
        "\n",
        "iii) Using kernels $K_0(x, x') = 1$ and $K_1(x, x') = x^T x'$ propose steps to arrive at the kernel using the earlier steps:\n",
        "\n",
        "$$K(x, x') = \\left(1 + \\left(\\frac{x}{\\|x\\|}\\right)^T \\left(\\frac{x'}{\\|x'\\|}\\right)\\right)^3$$\n"
      ]
    },
    {
      "cell_type": "markdown",
      "source": [
        "1)If definition A is true:\n",
        "$$\n",
        "K(x, x')=\\Phi^T\\Phi(x')\\\\\n",
        "$$\n",
        "consider  the matrix $$K_{ij}=\\Phi(x_{i})^T\\Phi(x_{j}) $$\n",
        "The above matrix is symmetric i.e\n",
        "$$K_{ji} =\\Phi(x_{j})^T\\Phi(x_{i})=\\Phi(x_{i})^T\\Phi(x_{j})=K_{ij}$$\\\n",
        "$$∑ C_{i}C_{j} K_{ij}=∑C_{i}C_{j}Φ(x_{i})^TΦ(x_{j})$$\\\n",
        "                     $$=∑C_{i}Φ(x_{i})^T∑C_{j}Φ(x_{j})$$\\\n",
        "                     $$=(∑C_{i}Φ(x_{i}))^T(∑C_{j}\\phi(x_{j}))$$\\\n",
        "                     $$||∑C_{i}Φ(x_{i})||^2 \\geq 0$$\n",
        "K(x,x')=tanh(x.x'-1) would not be a valid kernel since the gram matrix that will form will not be positive semi-definite.Therefore violating the definition.\n",
        "\n",
        "\n"
      ],
      "metadata": {
        "id": "WcFO-phfqdwV"
      }
    },
    {
      "cell_type": "markdown",
      "metadata": {
        "id": "uoFCgPP-X1-P"
      },
      "source": [
        "2) If $K_{1}(x,x')$ and $K_{2}(x,x')$ are kernels.\n",
        "\n",
        "Scaling:\n",
        "\n",
        "$K_{1}(x,x')=Φ_{1}(x)^TΦ_{1}(x')$\n",
        "\n",
        "f(x)$K_{1}(x,x')$f(x')=f(x)$Φ_{1}(x)^TΦ_{1}(x')^T$f(x')\n",
        "\n",
        "$[\\phi_{1}(x)f(x)]^T[\\phi_{1}(x')f(x')]$\n",
        "\n",
        "Hence by definition A this is a kernel.\n",
        "\n",
        "Sum:\n",
        "\n",
        "Consider the gram matrix $K(x_{i},x{j})=K_{1}(x_{i},x{j})+K_{2}(x_{i},x_{j})$\n",
        "Since $K_{1}(x_{i},x{j}) and K_{2}(x_{i},x_{j}),K(x_{i},x{j})$ is symmetric.\n",
        "\n",
        "Since $K_{1}(x_{i},x{j}) and K_{2}(x_{i},x_{j}),K(x_{i},x{j})$ are positive semi-definite.$K(x_{i},x{j})$ is also positive semi-definite.\n",
        "\n",
        "So, $K_{1}(x,x')+K_{2}(x,x')$ is a valid kernel function.\n",
        "\n",
        "\n",
        "Product:\n",
        "\n",
        "Consider the gram matrix $K_{ij}=K_{1}(x_{i},x{j})K_{2}(x_{i},x{j})$\n",
        "Since $K_{1}(x_{i},x{j})$ and $K_{2}(x_{i},x{j})$ are symmetric:\n",
        "$K_{ji}=K_{1}(x_{j},x_{i})K_{2}(x_{j},x_{i})$\\\n",
        "        $=K_{1}(x_{i},x_{j})K_{2}(x_{i},x_{j})$\\\n",
        "$=K_{ij}$\\\n",
        "Hence $K_{ij}$ is symmetric \n",
        "\n",
        "Since $K_{1}(x_{i},x{j})$ and $K_{2}(x_{i},x{j})$ are positive definite.\\\n",
        "$K_{ij}=K_{1}(x_{i},x_{j})K_{2}(x_{i},x_{j})$ is also positive  definite by \"schur\" product theorem.\n"
      ]
    },
    {
      "cell_type": "markdown",
      "source": [
        "3)\\\n",
        "Scale $K_{1}(x,x')$ with $$f(x)=\\left(\\frac{x}{\\|x\\|}\\right)^T \\left(\\frac{x'}{\\|x'\\|}\\right)$$\n",
        "\n",
        "Add k_{0}(x,x')=1 to the kernel obtained in the previous step to get \n",
        "$$\\left(1 + \\left(\\frac{x}{\\|x\\|}\\right)^T \\left(\\frac{x'}{\\|x'\\|}\\right)\\right)$$\n",
        "\n",
        "Multiply the kernel obtained in step 3 by itself thrice to get  $$K(x, x') = \\left(1 + \\left(\\frac{x}{\\|x\\|}\\right)^T \\left(\\frac{x'}{\\|x'\\|}\\right)\\right)^3$$"
      ],
      "metadata": {
        "id": "qE1-BMGTvCt6"
      }
    },
    {
      "cell_type": "markdown",
      "metadata": {
        "id": "c4an30XBX1-Q"
      },
      "source": [
        "\n",
        "\n",
        "## Problem 3 [20 Points]\n",
        "Consider the Helmholtz equation in one dimension:\n",
        "\n",
        "$$\\frac{\\partial^{2}}{\\partial{x}^2}u(x) - \\gamma u(x) = f(x), \\ \\ x\\in[-1,1].$$\n",
        "\n",
        "The exact solution for this problem is $u(x) = \\sin(\\pi x)$, corresponding to $f(x) = -\\pi^2 \\sin(\\pi x) - \\gamma \\sin(\\pi x)$. First, consider $\\gamma = 5\\sqrt{2}$ and generate a training data-set $\\{X_u,y_u\\}$ and $\\{X_f,y_f\\}$ by sampling the exact solution for $u(x)$ and $f(x)$, respectively. Specifically, use $N_u=3$ and $N_f=10$ data points sampled randomly on a Latin Hypercube grid.\n",
        "\n",
        "Then use this data-set to train the following Gaussian process model in order to predict the underlying functions $u(x)$ and $f(x)$, as well as to learn the unknown parameter $\\gamma$:\n",
        "\n",
        "$u(x)\\sim\\mathcal{GP}(0, k(x,x', \\theta)), \\qquad f(x)\\sim\\mathcal{GP}(0, g(x,x';\\theta, \\gamma))$,\n",
        "\n",
        "where $g(x,x';\\theta, \\gamma) = \\mathcal{L}_{x}^{\\gamma}\\mathcal{L}^{\\gamma}_{x'}k(x,x';\\theta)$, $\\mathcal{L}_{x}^{\\gamma}:= \\frac{\\partial^{2}}{\\partial{x}^2} - \\gamma$, and  $k(x,x';\\theta)$ is the standard RBF kernel. Use symbolic calculations to construct the necessary kernels and note how $\\gamma$ becomes a kernel hyper-parameter for  $g(x,x';\\theta, \\gamma)$ ([reference](https://www.sciencedirect.com/science/article/pii/S0021999117305582)). Plot your predictions for $u(x)$ and $f(x)$ against the exact solution, and report their relative error in the $\\mathbb{L}_2$ norm. Also report the predicted value for $\\gamma$ and the corresponding %-error with respect to the exact value of $5\\sqrt{2}$.\n"
      ]
    },
    {
      "cell_type": "code",
      "execution_count": null,
      "metadata": {
        "vscode": {
          "languageId": "plaintext"
        },
        "id": "jkF52pPfX1-R",
        "colab": {
          "base_uri": "https://localhost:8080/"
        },
        "outputId": "f8bc70a1-c631-497f-ab6f-d9382f06c5fd"
      },
      "outputs": [
        {
          "output_type": "stream",
          "name": "stdout",
          "text": [
            "Looking in indexes: https://pypi.org/simple, https://us-python.pkg.dev/colab-wheels/public/simple/\n",
            "Collecting git+https://github.com/paraklas/sympy2jax.git\n",
            "  Cloning https://github.com/paraklas/sympy2jax.git to /tmp/pip-req-build-7wbwkv76\n",
            "  Running command git clone --filter=blob:none --quiet https://github.com/paraklas/sympy2jax.git /tmp/pip-req-build-7wbwkv76\n",
            "  Resolved https://github.com/paraklas/sympy2jax.git to commit fb4bbbf4ab065c6db488cdb62ed262a42fb8f91c\n",
            "  Preparing metadata (setup.py) ... \u001b[?25l\u001b[?25hdone\n",
            "Requirement already satisfied: jax>=0.2.0 in /usr/local/lib/python3.10/dist-packages (from sympy2jax==0.1.0) (0.4.8)\n",
            "Requirement already satisfied: sympy>=1.7.1 in /usr/local/lib/python3.10/dist-packages (from sympy2jax==0.1.0) (1.11.1)\n",
            "Requirement already satisfied: ml-dtypes>=0.0.3 in /usr/local/lib/python3.10/dist-packages (from jax>=0.2.0->sympy2jax==0.1.0) (0.1.0)\n",
            "Requirement already satisfied: opt-einsum in /usr/local/lib/python3.10/dist-packages (from jax>=0.2.0->sympy2jax==0.1.0) (3.3.0)\n",
            "Requirement already satisfied: numpy>=1.21 in /usr/local/lib/python3.10/dist-packages (from jax>=0.2.0->sympy2jax==0.1.0) (1.22.4)\n",
            "Requirement already satisfied: scipy>=1.7 in /usr/local/lib/python3.10/dist-packages (from jax>=0.2.0->sympy2jax==0.1.0) (1.10.1)\n",
            "Requirement already satisfied: mpmath>=0.19 in /usr/local/lib/python3.10/dist-packages (from sympy>=1.7.1->sympy2jax==0.1.0) (1.3.0)\n",
            "Building wheels for collected packages: sympy2jax\n",
            "  Building wheel for sympy2jax (setup.py) ... \u001b[?25l\u001b[?25hdone\n",
            "  Created wheel for sympy2jax: filename=sympy2jax-0.1.0-py3-none-any.whl size=8882 sha256=0aa7511a25f3eeb573a7221484acc8094a6a095fe598499ebc79cbed31dd9a62\n",
            "  Stored in directory: /tmp/pip-ephem-wheel-cache-imt5apqg/wheels/fb/a5/4f/c148733c389fd19ecfb685abf46d9dd2c522e1857585f05c4c\n",
            "Successfully built sympy2jax\n",
            "Installing collected packages: sympy2jax\n",
            "Successfully installed sympy2jax-0.1.0\n",
            "Looking in indexes: https://pypi.org/simple, https://us-python.pkg.dev/colab-wheels/public/simple/\n",
            "Requirement already satisfied: PyDOE in /usr/local/lib/python3.10/dist-packages (0.3.8)\n",
            "Requirement already satisfied: numpy in /usr/local/lib/python3.10/dist-packages (from PyDOE) (1.22.4)\n",
            "Requirement already satisfied: scipy in /usr/local/lib/python3.10/dist-packages (from PyDOE) (1.10.1)\n"
          ]
        }
      ],
      "source": [
        "# your code here!\n",
        "!pip install git+https://github.com/paraklas/sympy2jax.git\n",
        "!pip install --upgrade PyDOE"
      ]
    },
    {
      "cell_type": "code",
      "source": [
        "import jax.numpy as np\n",
        "from jax import random, vmap, jit, jvp\n",
        "from jax.scipy.linalg import cholesky, solve_triangular\n",
        "from jax.config import config\n",
        "config.update(\"jax_enable_x64\", True)\n",
        "\n",
        "import sympy as sp\n",
        "from sympy2jax import sympy2jax\n",
        "import matplotlib.pyplot as plt\n",
        "\n",
        "import jax.numpy as np\n",
        "import numpy as onp\n",
        "from jax import vmap, jit, vjp, random\n",
        "from jax.scipy.linalg import cholesky, solve_triangular\n",
        "\n",
        "from jax.config import config\n",
        "config.update(\"jax_enable_x64\", True)\n",
        "\n",
        "from pyDOE import lhs\n",
        "from functools import partial\n",
        "from tqdm import trange\n",
        "from scipy.optimize import minimize\n",
        "import matplotlib.pyplot as plt\n",
        "from matplotlib import rc\n",
        "\n",
        "onp.random.seed(1234)"
      ],
      "metadata": {
        "id": "RTPnPF2RUNG6"
      },
      "execution_count": null,
      "outputs": []
    },
    {
      "cell_type": "code",
      "source": [
        "def operator(k, x):\n",
        "    return sp.Derivative(k, x)"
      ],
      "metadata": {
        "id": "AFCgroW1UPAI"
      },
      "execution_count": null,
      "outputs": []
    },
    {
      "cell_type": "code",
      "source": [
        "x, xp = sp.symbols('x xp')\n",
        "sigma, ell,gamma = sp.symbols('sigma ell,gamma')\n",
        "\n",
        "k_uu = sp.simplify(sigma*sp.exp(-0.5*(sp.Pow((x-xp)/ell,2))))\n",
        "k_uf = sp.simplify(operator(k_uu, xp)-gamma*k_uu)\n",
        "k_fu=sp.simplify(operator(k_uu, x)-gamma*k_uu)\n",
        "k_ff = sp.simplify(operator(k_uf,x)-gamma*k_uf)"
      ],
      "metadata": {
        "id": "jVr9_GO_USC4"
      },
      "execution_count": null,
      "outputs": []
    },
    {
      "cell_type": "code",
      "source": [
        "k_uu_fn, k_uu_params = sympy2jax(k_uu, [x, xp, sigma, ell])\n",
        "k_uf_fn, k_uf_params = sympy2jax(k_uf, [x, xp, sigma, ell,gamma])\n",
        "k_fu_fn, k_fu_params = sympy2jax(k_fu, [x, xp, sigma, ell,gamma])\n",
        "k_ff_fn, k_ff_params = sympy2jax(k_ff, [x, xp, sigma, ell,gamma])"
      ],
      "metadata": {
        "id": "VwpWEN22UUWA"
      },
      "execution_count": null,
      "outputs": []
    },
    {
      "cell_type": "code",
      "source": [
        "def _k_uu(params, x, xp):\n",
        "    sigma = params[0:1]\n",
        "    ell = params[1:2]\n",
        "    inputs = np.concatenate([x, xp, sigma, ell]).reshape(1,4)\n",
        "    return k_uu_fn(inputs, k_uu_params)[0]\n",
        "    \n",
        "def _k_uf(params, x, xp):\n",
        "    sigma = params[0:1]\n",
        "    ell = params[1:2]\n",
        "    gamma=params[2:3]\n",
        "    inputs = np.concatenate([x, xp, sigma, ell,gamma]).reshape(1,5)\n",
        "    return k_uf_fn(inputs, k_uf_params)[0]\n",
        "    \n",
        "def _k_fu(params, x, xp):\n",
        "    sigma = params[0:1]\n",
        "    ell = params[1:2]\n",
        "    gamma=params[2:3]\n",
        "    inputs = np.concatenate([x, xp, sigma, ell,gamma]).reshape(1,5)\n",
        "    return k_fu_fn(inputs, k_fu_params)[0]\n",
        "\n",
        "def _k_ff(params, x, xp):\n",
        "    sigma = params[0:1]\n",
        "    ell = params[1:2]\n",
        "    gamma=params[2:3]\n",
        "    inputs = np.concatenate([x, xp, sigma, ell,gamma]).reshape(1,5)\n",
        "    return k_ff_fn(inputs, k_ff_params)[0]"
      ],
      "metadata": {
        "id": "4hNvRyIjUX6p"
      },
      "execution_count": null,
      "outputs": []
    },
    {
      "cell_type": "code",
      "source": [
        "def vectorize(kernel):\n",
        "    vec_fun = vmap(vmap(kernel, in_axes=(None,None,0)), in_axes=(None,0,None))\n",
        "    return vec_fun\n",
        "\n",
        "\n",
        "k_uu_vec = jit(vectorize(_k_uu))\n",
        "k_uf_vec = jit(vectorize(_k_uf))\n",
        "k_fu_vec = jit(vectorize(_k_fu))\n",
        "k_ff_vec = jit(vectorize(_k_ff))"
      ],
      "metadata": {
        "id": "gYBUUF0aUad8"
      },
      "execution_count": null,
      "outputs": []
    },
    {
      "cell_type": "code",
      "source": [
        "def minimize_lbfgs(objective, x0, bnds = None):\n",
        "    result = minimize(objective, x0, jac=True,\n",
        "                      method='L-BFGS-B', bounds = bnds,\n",
        "                      callback=None)\n",
        "    return result.x, result.fun"
      ],
      "metadata": {
        "id": "u5b36YFWUb99"
      },
      "execution_count": null,
      "outputs": []
    },
    {
      "cell_type": "code",
      "source": [
        "class GPRegression:\n",
        "    # Initialize the class\n",
        "    def __init__(self, K1 = k_uu_vec,K2=k_uf_vec,K3=k_ff_vec,K4=k_fu_vec): \n",
        "        self.kuu = K1\n",
        "        self.kuf = K2\n",
        "        self.kff = K3\n",
        "        self.kfu = K4\n",
        "                              \n",
        "    def random_init_GP(self, rng_key, dim):\n",
        "        hyp = np.log(10*random.uniform(rng_key,(2+dim,))+1e-8)\n",
        "        return hyp\n",
        "\n",
        "\n",
        "    def compute_cholesky(self, params, batch):\n",
        "        Xu,Xf,_= batch\n",
        "        # Compute kernel\n",
        "        kuu=self.kuu(np.exp(params[:-1]),Xu,Xu)\n",
        "        kuf=self.kuf(np.exp(params),Xu,Xf)\n",
        "        kff=self.kff(np.exp(params),Xf,Xf)\n",
        "        K=np.vstack((np.hstack((kuu, kuf)),\n",
        "               np.hstack((kuf.T, kff))))\n",
        "        K=K+10**-8*np.eye(np.shape(K)[0])\n",
        "        L = cholesky(K, lower=True)\n",
        "        return L\n",
        "\n",
        "    def likelihood(self, params, batch):\n",
        "        _,_, y = batch\n",
        "        N = y.shape[0]\n",
        "        # Compute Cholesky\n",
        "        L = self.compute_cholesky(params, batch)\n",
        "        # Compute negative log-marginal likelihood\n",
        "        alpha = solve_triangular(L.T,solve_triangular(L, y, lower=True))\n",
        "        NLML = 0.5*np.matmul(np.transpose(y),alpha) + \\\n",
        "               np.sum(np.log(np.diag(L))) + 0.5*N*np.log(2.0*np.pi)\n",
        "        return NLML\n",
        "\n",
        "    @partial(jit, static_argnums=(0,))\n",
        "    def likelihood_value_and_grad(self, params, batch):\n",
        "        fun = lambda params: self.likelihood(params, batch)\n",
        "        primals, f_vjp = vjp(fun, params)\n",
        "        grads = f_vjp(np.ones_like(primals))[0]\n",
        "        return primals, grads\n",
        "\n",
        "    def train(self, batch, rng_key, num_restarts = 10):\n",
        "        # Define objective that returns NumPy arrays (to be minimized with SciPy)\n",
        "        def objective(params):\n",
        "            value, grads = self.likelihood_value_and_grad(params, batch)\n",
        "            out = (onp.array(value), onp.array(grads))\n",
        "            return out\n",
        "        # Optimize with random restarts\n",
        "        params = []\n",
        "        likelihood = []\n",
        "        rng_key = random.split(rng_key, num_restarts)\n",
        "        for i in trange(num_restarts):\n",
        "            init = self.random_init_GP(rng_key[i], dim)\n",
        "            p, val = minimize_lbfgs(objective, init)\n",
        "            params.append(p)\n",
        "            likelihood.append(val)\n",
        "        params = np.vstack(params)\n",
        "        likelihood = np.vstack(likelihood)\n",
        "        #### find the best likelihood (excluding any NaNs) ####\n",
        "        #### find the best likelihood (excluding any NaNs) ####\n",
        "        bestlikelihood = np.nanmin(likelihood)\n",
        "        idx_best = np.where(likelihood == bestlikelihood)\n",
        "        idx_best = idx_best[0][0]\n",
        "        best_params = params[idx_best,:]\n",
        "        return best_params\n",
        "\n",
        "    @partial(jit, static_argnums=(0,))\n",
        "    def predict1(self, params, batch, X_star):\n",
        "        Xu,Xf, y = batch\n",
        "        # Compute kernels\n",
        "        k_pp=self.kuu(np.exp(params[:-1]),X_star,X_star)\n",
        "        k1=self.kuu(np.exp(params),X_star,Xu)\n",
        "        k2=self.kuf(np.exp(params),X_star,Xf)\n",
        "        k_pX=np.hstack((k1,k2))\n",
        "        L = self.compute_cholesky(params, batch)\n",
        "        alpha = solve_triangular(L.T,solve_triangular(L, y, lower=True))\n",
        "        beta  = solve_triangular(L.T,solve_triangular(L, k_pX.T, lower=True))\n",
        "        # Compute predictive mean\n",
        "        mu = np.matmul(k_pX, alpha)[:,0]\n",
        "        cov = k_pp - np.matmul(k_pX, beta)\n",
        "        std = np.sqrt(np.clip(np.diag(cov), a_min=0.))\n",
        "        return mu, std\n",
        "\n",
        "    @partial(jit, static_argnums=(0,))\n",
        "    def draw_posterior1(self, rng_key, params, batch, X_star):\n",
        "        Xu,Xf, y = batch\n",
        "        # Compute kernels\n",
        "        k_pp=self.kuu(np.exp(params[:-1]),X_star,X_star)\n",
        "        k1=self.kuu(np.exp(params),X_star,Xu)\n",
        "        k2=self.kuf(np.exp(params),X_star,Xf)\n",
        "        k_pX=np.hstack((k1,k2))\n",
        "        L = self.compute_cholesky(params, batch)\n",
        "        alpha = solve_triangular(L.T,solve_triangular(L, y, lower=True))\n",
        "        beta  = solve_triangular(L.T,solve_triangular(L, k_pX.T, lower=True))\n",
        "        # Compute predictive mean\n",
        "        mu = np.matmul(k_pX, alpha)[:,0]\n",
        "        cov = k_pp - np.matmul(k_pX, beta)\n",
        "        sample = random.multivariate_normal(rng_key, mu, cov)\n",
        "        return sample   \n",
        "\n",
        "    @partial(jit, static_argnums=(0,))\n",
        "    def predict2(self, params, batch, X_star):\n",
        "        Xu,Xf, y = batch\n",
        "        # Compute kernels\n",
        "        k_pp=self.kff(np.exp(params),X_star,X_star)\n",
        "        k1=self.kfu(np.exp(params),X_star,Xu)\n",
        "        k2=self.kff(np.exp(params),X_star,Xf)\n",
        "        k_pX=np.hstack((k1,k2))\n",
        "        L = self.compute_cholesky(params, batch)\n",
        "        alpha = solve_triangular(L.T,solve_triangular(L, y, lower=True))\n",
        "        beta  = solve_triangular(L.T,solve_triangular(L, k_pX.T, lower=True))\n",
        "        # Compute predictive mean\n",
        "        mu = np.matmul(k_pX, alpha)[:,0]\n",
        "        cov = k_pp - np.matmul(k_pX, beta)\n",
        "        std = np.sqrt(np.clip(np.diag(cov), a_min=0.))\n",
        "        return mu, std\n",
        "\n",
        "    @partial(jit, static_argnums=(0,))\n",
        "    def draw_posterior2(self, rng_key, params, batch, X_star):\n",
        "        Xu,Xf, y = batch\n",
        "        # Compute kernels\n",
        "        k_pp=self.kff(np.exp(params),X_star,X_star)\n",
        "        k1=self.kfu(np.exp(params),X_star,Xu)\n",
        "        k2=self.kff(np.exp(params),X_star,Xf)\n",
        "        k_pX=np.hstack((k1,k2))\n",
        "        L = self.compute_cholesky(params, batch)\n",
        "        alpha = solve_triangular(L.T,solve_triangular(L, y, lower=True))\n",
        "        beta  = solve_triangular(L.T,solve_triangular(L, k_pX.T, lower=True))\n",
        "        # Compute predictive mean\n",
        "        mu = np.matmul(k_pX, alpha)[:,0]\n",
        "        cov = k_pp - np.matmul(k_pX, beta)\n",
        "        sample = random.multivariate_normal(rng_key, mu, cov)\n",
        "        return sample   "
      ],
      "metadata": {
        "id": "INwezJAhUgbC"
      },
      "execution_count": null,
      "outputs": []
    },
    {
      "cell_type": "code",
      "source": [
        "u = lambda x: np.sin(np.pi * x)\n",
        "f = lambda x, gamma: -(np.pi ** 2 + gamma) * np.sin(np.pi * x)\n",
        "\n",
        "\n",
        "\n",
        "Nu = 3\n",
        "Nf=10\n",
        "dim = 1\n",
        "noise = 0.0\n",
        "lb = np.array([-1.0,-1.0])\n",
        "ub = np.array([1.0,1.0])\n",
        "gamma=5*2**(0.5)\n",
        "\n",
        "# Training data\n",
        "Xu = lb[0] + (ub[0]-lb[0])*lhs(dim, Nu,criterion='center')\n",
        "Xf = lb[1] + (ub[1]-lb[1])*lhs(dim, Nf,criterion='center')\n",
        "yu = u(Xu)\n",
        "yf = vmap(f,in_axes=(0,None))(Xf,gamma)\n",
        "\n",
        "# Test data\n",
        "n_star = 50\n",
        "X_star = np.linspace(lb[0], ub[0], n_star)[:,None]\n",
        "u_star = vmap(u)(X_star)\n",
        "f_star = vmap(f,in_axes=(0,None))(X_star,gamma)\n",
        "y_train=np.concatenate([yu,yf])\n"
      ],
      "metadata": {
        "id": "V7zdsfjXUj01"
      },
      "execution_count": null,
      "outputs": []
    },
    {
      "cell_type": "code",
      "source": [
        "model = GPRegression()"
      ],
      "metadata": {
        "id": "1aeJFJfSUlqM"
      },
      "execution_count": null,
      "outputs": []
    },
    {
      "cell_type": "code",
      "source": [
        "Xu_train = (Xu-lb[0])/(ub[0]-lb[0])\n",
        "Xf_train = (Xf-lb[1])/(ub[1]-lb[1])\n",
        "\n",
        "mu_y,sigma_y=y_train.mean(0),y_train.std(0)\n",
        "\n",
        "y_train=(y_train-mu_y)/sigma_y\n",
        "\n",
        "# Train model\n",
        "train_key = random.PRNGKey(0)\n",
        "opt_params = model.train((Xu_train,Xf_train, y_train), train_key, num_restarts = 100)"
      ],
      "metadata": {
        "colab": {
          "base_uri": "https://localhost:8080/"
        },
        "id": "fN-O8vnRUpr4",
        "outputId": "3d4677d6-a569-4c5c-8adc-79a3a0d58639"
      },
      "execution_count": null,
      "outputs": [
        {
          "output_type": "stream",
          "name": "stderr",
          "text": [
            "100%|██████████| 100/100 [00:18<00:00,  5.43it/s]\n"
          ]
        }
      ]
    },
    {
      "cell_type": "code",
      "source": [
        "X_test = (X_star-lb[0])/(ub[0]-lb[0])\n",
        "\n",
        "# Make predictions\n",
        "mean, std = model.predict1(opt_params, (Xu_train,Xf_train, y_train), X_test)\n",
        "\n",
        "# De-normalize predictions\n",
        "mean, std = mean*sigma_y + mu_y, std*sigma_y\n",
        "\n",
        "# Uncertainty bands\n",
        "lower = mean - 2.0*std\n",
        "upper = mean + 2.0*std\n",
        "\n",
        "# Draw posterior samples\n",
        "num_draws = 10\n",
        "test_keys = random.split(random.PRNGKey(0), num_draws)\n",
        "sample_fn = lambda key: model.draw_posterior1(key, opt_params,  (Xu_train,Xf_train, y_train), X_test)\n",
        "f_samples = vmap(sample_fn)(test_keys)\n",
        "f_samples = f_samples*sigma_y + mu_y\n",
        "\n",
        "# Check accuracy\n",
        "error = np.linalg.norm(mean-u_star[:,0],2)/np.linalg.norm(u_star[:,0],2)\n",
        "print(\"Relative L2 error u: %e\" % (error))"
      ],
      "metadata": {
        "colab": {
          "base_uri": "https://localhost:8080/"
        },
        "id": "SYAHNCByUsbx",
        "outputId": "25f2391b-dac5-4f7b-9617-33c708871c6b"
      },
      "execution_count": null,
      "outputs": [
        {
          "output_type": "stream",
          "name": "stdout",
          "text": [
            "Relative L2 error u: 3.408395e-01\n"
          ]
        }
      ]
    },
    {
      "cell_type": "code",
      "source": [
        "plt.rcParams.update({'font.size': 16})\n",
        "plt.rcParams['axes.linewidth']=3\n",
        "\n",
        "plt.figure(figsize = (12,7))\n",
        "plt.plot(X_star, u_star, lw = 3)\n",
        "plt.plot(X_star, mean, 'r--', lw = 3)\n",
        "plt.plot(Xu, yu, 'kx', ms = 12)\n",
        "plt.fill_between(X_star.flatten(), lower.flatten(), upper.flatten(), \n",
        "                  facecolor='orange', alpha=0.5, label=\"Two std band\")\n",
        "for i in range(num_draws):\n",
        "     plt.plot(X_star, f_samples[i,:], '-', color='gray', lw = 0.5)"
      ],
      "metadata": {
        "colab": {
          "base_uri": "https://localhost:8080/",
          "height": 605
        },
        "id": "6n7Wcfn4Utif",
        "outputId": "e6e0b816-7daf-462d-ed53-c5501ef0e700"
      },
      "execution_count": null,
      "outputs": [
        {
          "output_type": "display_data",
          "data": {
            "text/plain": [
              "<Figure size 1200x700 with 1 Axes>"
            ],
            "image/png": "[encoded data removed]"
          },
          "metadata": {}
        }
      ]
    },
    {
      "cell_type": "code",
      "source": [
        "mean, std = model.predict2(opt_params, (Xu_train,Xf_train, y_train), X_test)\n",
        "\n",
        "# De-normalize predictions\n",
        "mean, std = mean*sigma_y + mu_y, std*sigma_y\n",
        "\n",
        "# Uncertainty bands\n",
        "lower = mean - 2.0*std\n",
        "upper = mean + 2.0*std\n",
        "\n",
        "# Draw posterior samples\n",
        "num_draws = 10\n",
        "test_keys = random.split(random.PRNGKey(0), num_draws)\n",
        "sample_fn = lambda key: model.draw_posterior2(key, opt_params,  (Xu_train,Xf_train, y_train), X_test)\n",
        "f_samples = vmap(sample_fn)(test_keys)\n",
        "f_samples = f_samples*sigma_y + mu_y\n",
        "\n",
        "# Check accuracy\n",
        "error = np.linalg.norm(mean-f_star[:,0],2)/np.linalg.norm(f_star[:,0],2)\n",
        "print(\"Relative L2 error f: %e\" % (error))"
      ],
      "metadata": {
        "colab": {
          "base_uri": "https://localhost:8080/"
        },
        "id": "-4M18UvxUx36",
        "outputId": "88c4f30b-e636-476a-fd60-f3c1fa56ab10"
      },
      "execution_count": null,
      "outputs": [
        {
          "output_type": "stream",
          "name": "stdout",
          "text": [
            "Relative L2 error f: 5.109941e-01\n"
          ]
        }
      ]
    },
    {
      "cell_type": "code",
      "source": [
        "plt.rcParams.update({'font.size': 16})\n",
        "plt.rcParams['axes.linewidth']=3\n",
        "\n",
        "plt.figure(figsize = (12,7))\n",
        "plt.plot(X_star, f_star, lw = 3)\n",
        "plt.plot(X_star, mean, 'r--', lw = 3)\n",
        "plt.plot(Xf, yf, 'kx', ms = 12)\n",
        "plt.fill_between(X_star.flatten(), lower.flatten(), upper.flatten(), \n",
        "                  facecolor='orange', alpha=0.5, label=\"Two std band\")\n",
        "for i in range(num_draws):\n",
        "   plt.plot(X_star, f_samples[i,:], '-', color='gray', lw = 0.5)"
      ],
      "metadata": {
        "colab": {
          "base_uri": "https://localhost:8080/",
          "height": 605
        },
        "id": "v1uy04krU0PY",
        "outputId": "ed6b4592-7064-42c8-a570-8155a88ceb28"
      },
      "execution_count": null,
      "outputs": [
        {
          "output_type": "display_data",
          "data": {
            "text/plain": [
              "<Figure size 1200x700 with 1 Axes>"
            ],
            "image/png": "[encoded data removed]"
          },
          "metadata": {}
        }
      ]
    },
    {
      "cell_type": "code",
      "source": [
        "gamma_pred=np.exp(opt_params[-1])\n",
        "error=(gamma_pred-gamma)/gamma*100\n",
        "print(\"Predicted value of gamma = \",gamma_pred)\n",
        "print(\"Error in gamma = \",error,\"%\")\n"
      ],
      "metadata": {
        "colab": {
          "base_uri": "https://localhost:8080/"
        },
        "id": "LDifvyhyU2Bq",
        "outputId": "dcf04324-44a2-410b-d69a-569f149d72dd"
      },
      "execution_count": null,
      "outputs": [
        {
          "output_type": "stream",
          "name": "stdout",
          "text": [
            "Predicted value of gamma =  17.977440263687587\n",
            "Error in gamma =  154.23939837659134 %\n"
          ]
        }
      ]
    },
    {
      "cell_type": "markdown",
      "source": [
        "The mean of the posterior predictions for u and f match well with the true curves.\n",
        "\n",
        "However, the value of $γ$ predicted has a large error. This could be due to lower number of samples used for training. This should improve if we train on higher number of samples."
      ],
      "metadata": {
        "id": "6vo0p46xU4Ys"
      }
    },
    {
      "cell_type": "markdown",
      "metadata": {
        "id": "Eleged_hX1-S"
      },
      "source": [
        "## Problem 4 [20 Points]\n",
        "\n",
        "Modify the provided [active learning tutorial](https://github.com/PredictiveIntelligenceLab/ENM531/blob/main/Notebooks/active_learning.ipynb) to implement a Bayesian optimization loop for minimizing the two-dimensional [Michalewicz  function](https://www.sfu.ca/~ssurjano/michal.html), using the following acquisition functions:\n",
        "\n",
        "- Probability of Improvement:\n",
        "\n",
        "$$\\alpha(x;\\mathcal{D}) := \\Phi(f_{\\text{min}}\\lvert \\mu(x), \\Sigma(x))$$\n",
        "\n",
        "- Expected Improvement:\n",
        "\n",
        "$$\\alpha(x;\\mathcal{D}) := (f_{\\text{min}} - \\mu(x)) \\Phi(f_{\\text{min}}\\lvert \\mu(x), \\Sigma(x)) + \\Sigma(x) \\mathcal{N}(f_{\\text{min}}\\lvert \\mu(x), \\Sigma(x))$$\n",
        "\n",
        "- Upper Confidence Bound:\n",
        "\n",
        "$$\\alpha(x;\\mathcal{D}) := \\mu(x) + 2 \\Sigma(x)$$\n",
        "\n",
        "where $\\mu(x)$ and $\\Sigma(x)$ denotes the posterior mean and posterior standard deviation, respectively, of a Gaussian process model trained on a regression data-set $\\mathcal{D}$. Compare the convergence of the different acquisition criteria by simulating each case over $25$ independent trials, starting from a randomized initial experimental design."
      ]
    },
    {
      "cell_type": "markdown",
      "source": [
        "!pip install --upgrade PyDOE\n"
      ],
      "metadata": {
        "id": "HNr-0Ec0XBLw"
      }
    },
    {
      "cell_type": "code",
      "source": [
        "!pip install --upgrade PyDOE"
      ],
      "metadata": {
        "colab": {
          "base_uri": "https://localhost:8080/"
        },
        "id": "edQqw2jO0Z4F",
        "outputId": "81fec768-aac3-4b90-e3ca-ee3d67620759"
      },
      "execution_count": null,
      "outputs": [
        {
          "output_type": "stream",
          "name": "stdout",
          "text": [
            "Looking in indexes: https://pypi.org/simple, https://us-python.pkg.dev/colab-wheels/public/simple/\n",
            "Collecting PyDOE\n",
            "  Downloading pyDOE-0.3.8.zip (22 kB)\n",
            "  Preparing metadata (setup.py) ... \u001b[?25l\u001b[?25hdone\n",
            "Requirement already satisfied: numpy in /usr/local/lib/python3.10/dist-packages (from PyDOE) (1.22.4)\n",
            "Requirement already satisfied: scipy in /usr/local/lib/python3.10/dist-packages (from PyDOE) (1.10.1)\n",
            "Building wheels for collected packages: PyDOE\n",
            "  Building wheel for PyDOE (setup.py) ... \u001b[?25l\u001b[?25hdone\n",
            "  Created wheel for PyDOE: filename=pyDOE-0.3.8-py3-none-any.whl size=18184 sha256=952c65e0790bbeb5adddcd16b025d85a32f1cdce4bdaafcb80c4c3d004913bed\n",
            "  Stored in directory: /root/.cache/pip/wheels/ce/b6/d7/c6b64746dba6433c593e471e0ac3acf4f36040456d1d160d17\n",
            "Successfully built PyDOE\n",
            "Installing collected packages: PyDOE\n",
            "Successfully installed PyDOE-0.3.8\n"
          ]
        }
      ]
    },
    {
      "cell_type": "code",
      "source": [
        "import jax.numpy as np\n",
        "import numpy as onp\n",
        "import jax.scipy as jsp\n",
        "from jax import vmap, jit, vjp, random\n",
        "from jax.scipy.linalg import cholesky, solve_triangular\n",
        "\n",
        "from jax.config import config\n",
        "config.update(\"jax_enable_x64\", True)\n",
        "\n",
        "from pyDOE import lhs\n",
        "from functools import partial\n",
        "from tqdm import trange\n",
        "from scipy.optimize import minimize\n",
        "import matplotlib.pyplot as plt\n",
        "from matplotlib import rc\n",
        "\n",
        "onp.random.seed(1234)"
      ],
      "metadata": {
        "id": "fuHEt8I10cIg"
      },
      "execution_count": null,
      "outputs": []
    },
    {
      "cell_type": "code",
      "source": [
        "def RBF(x1, x2, params):\n",
        "    output_scale = params[0]\n",
        "    lengthscales = params[1:]\n",
        "    diffs = np.expand_dims(x1 / lengthscales, 1) - \\\n",
        "            np.expand_dims(x2 / lengthscales, 0)\n",
        "    r2 = np.sum(diffs**2, axis=2)\n",
        "    return output_scale * np.exp(-0.5 * r2)"
      ],
      "metadata": {
        "id": "X0I2-G6x0jLp"
      },
      "execution_count": null,
      "outputs": []
    },
    {
      "cell_type": "code",
      "source": [
        "def minimize_lbfgs(objective, x0, bnds = None):\n",
        "    result = minimize(objective, x0, jac=True,\n",
        "                      method='L-BFGS-B', bounds = bnds,\n",
        "                      callback=None)\n",
        "    return result.x, result.fun"
      ],
      "metadata": {
        "id": "_DKalHqd0mht"
      },
      "execution_count": null,
      "outputs": []
    },
    {
      "cell_type": "code",
      "source": [
        "# A minimal Gaussian process class\n",
        "class GPRegression:\n",
        "    # Initialize the class\n",
        "    def __init__(self, kernel_fn = RBF, acq_fn = None): \n",
        "        self.kernel = kernel_fn\n",
        "        self.acq_fn = acq_fn\n",
        "                              \n",
        "    def random_init_GP(self, rng_key, dim):\n",
        "        logsigma_f = np.log(50.0*random.uniform(rng_key, (1,)))\n",
        "        loglength  = np.log(random.uniform(rng_key, (dim,)) + 1e-8)\n",
        "        logsigma_n = np.array([-4.0]) + random.normal(rng_key, (1,))\n",
        "        hyp = np.concatenate([logsigma_f, loglength, logsigma_n])\n",
        "        return hyp\n",
        "\n",
        "    def compute_cholesky(self, params, batch):\n",
        "        X, _ = batch\n",
        "        N, D = X.shape\n",
        "        # Fetch params\n",
        "        sigma_n = np.exp(params[-1])\n",
        "        theta = np.exp(params[:-1])\n",
        "        # Compute kernel\n",
        "        K = self.kernel(X, X, theta) + np.eye(N)*(sigma_n + 1e-8)\n",
        "        L = cholesky(K, lower=True)\n",
        "        return L\n",
        "\n",
        "    def likelihood(self, params, batch):\n",
        "        _, y = batch\n",
        "        N = y.shape[0]\n",
        "        # Compute Cholesky\n",
        "        L = self.compute_cholesky(params, batch)\n",
        "        # Compute negative log-marginal likelihood\n",
        "        alpha = solve_triangular(L.T,solve_triangular(L, y, lower=True))\n",
        "        NLML = 0.5*np.matmul(np.transpose(y),alpha) + \\\n",
        "               np.sum(np.log(np.diag(L))) + 0.5*N*np.log(2.0*np.pi)\n",
        "        return NLML\n",
        "\n",
        "    @partial(jit, static_argnums=(0,))\n",
        "    def likelihood_value_and_grad(self, params, batch):\n",
        "        fun = lambda params: self.likelihood(params, batch)\n",
        "        primals, f_vjp = vjp(fun, params)\n",
        "        grads = f_vjp(np.ones_like(primals))[0]\n",
        "        return primals, grads\n",
        "\n",
        "    def train(self, batch, rng_key, num_restarts = 10):\n",
        "        # Define objective that returns NumPy arrays (to be minimized with SciPy)\n",
        "        def objective(params):\n",
        "            value, grads = self.likelihood_value_and_grad(params, batch)\n",
        "            out = (onp.array(value), onp.array(grads))\n",
        "            return out\n",
        "        # Optimize with random restarts\n",
        "        params = []\n",
        "        likelihood = []\n",
        "        X, _ = batch\n",
        "        dim = X.shape[1]\n",
        "        rng_key = random.split(rng_key, num_restarts)\n",
        "        for i in trange(num_restarts):\n",
        "            init = self.random_init_GP(rng_key[i], dim)\n",
        "            p, val = minimize_lbfgs(objective, init)\n",
        "            params.append(p)\n",
        "            likelihood.append(val)\n",
        "        params = np.vstack(params)\n",
        "        likelihood = np.vstack(likelihood)\n",
        "        #### find the best likelihood (excluding any NaNs) ####\n",
        "        bestlikelihood = np.nanmin(likelihood)\n",
        "        idx_best = np.where(likelihood == bestlikelihood)\n",
        "        idx_best = idx_best[0][0]\n",
        "        best_params = params[idx_best,:]\n",
        "        return best_params\n",
        "\n",
        "    @partial(jit, static_argnums=(0,))\n",
        "    def predict(self, params, batch, X_star):\n",
        "        X, y = batch\n",
        "        # Fetch params\n",
        "        sigma_n = np.exp(params[-1])\n",
        "        theta = np.exp(params[:-1])\n",
        "        # Compute kernels\n",
        "        k_pp = self.kernel(X_star, X_star, theta) + np.eye(X_star.shape[0])*(sigma_n + 1e-8)\n",
        "        k_pX = self.kernel(X_star, X, theta)\n",
        "        L = self.compute_cholesky(params, batch)\n",
        "        alpha = solve_triangular(L.T,solve_triangular(L, y, lower=True))\n",
        "        beta  = solve_triangular(L.T,solve_triangular(L, k_pX.T, lower=True))\n",
        "        # Compute predictive mean, std\n",
        "        mu = np.matmul(k_pX, alpha)\n",
        "        cov = k_pp - np.matmul(k_pX, beta)\n",
        "        std = np.sqrt(np.clip(np.diag(cov), a_min=0.))\n",
        "        return mu, std\n",
        "\n",
        "    @partial(jit, static_argnums=(0,))\n",
        "    def draw_posterior_sample(self, rng_key, params, batch, X_star):\n",
        "        X, y = batch\n",
        "        N, D = X.shape\n",
        "        # Fetch params\n",
        "        sigma_n = np.exp(params[-1])\n",
        "        theta = np.exp(params[:-1])\n",
        "        # Compute kernels\n",
        "        k_pp = self.kernel(X_star, X_star, theta) + np.eye(X_star.shape[0])*(sigma_n + 1e-8)\n",
        "        k_pX = self.kernel(X_star, X, theta)\n",
        "        L = self.compute_cholesky(params, batch)\n",
        "        alpha = solve_triangular(L.T,solve_triangular(L, y, lower=True))\n",
        "        beta  = solve_triangular(L.T,solve_triangular(L, k_pX.T, lower=True))\n",
        "        # Compute predictive mean\n",
        "        mu = np.matmul(k_pX, alpha)\n",
        "        cov = k_pp - np.matmul(k_pX, beta)\n",
        "        sample = random.multivariate_normal(rng_key, mu, cov)\n",
        "        return sample    \n",
        "\n",
        "    def acquisition(self, params, batch, x):\n",
        "        x = x[None,:]\n",
        "        _,y=batch\n",
        "        mean, std = self.predict(params, batch, x)\n",
        "        if self.acq_fn == 'LCB':\n",
        "            return mean[0]-0.5*std[0]\n",
        "\n",
        "        elif self.acq_fn == 'PI':\n",
        "            fmin=np.min(y)\n",
        "            theta=np.exp(params[:-1])\n",
        "            sigma_n=np.exp(params[-1])\n",
        "            k_xx=self.kernel(x,x,theta)+sigma_n   \n",
        "            return -jsp.stats.norm.cdf(fmin,mean,k_xx)\n",
        "        elif self.acq_fn == 'EI':\n",
        "            fmin=np.min(y)\n",
        "            theta=np.exp(params[:-1])\n",
        "            sigma_n=np.exp(params[-1])\n",
        "            k_xx=self.kernel(x,x,theta)+sigma_n  \n",
        "            a=(fmin-mean)*jsp.stats.norm.cdf(fmin,mean,k_xx)\n",
        "            b=k_xx*jsp.stats.norm.pdf(fmin,mean,k_xx)\n",
        "            return -(a+b)            \n",
        "        elif self.acq_fn == 'US':\n",
        "            return -std[0]\n",
        "        else:\n",
        "            raise NotImplementedError\n",
        "\n",
        "    @partial(jit, static_argnums=(0,))\n",
        "    def acq_value_and_grad(self, params, batch, x):\n",
        "        fun = lambda x: self.acquisition(params, batch, x)\n",
        "        primals, f_vjp = vjp(fun, x)\n",
        "        grads = f_vjp(np.ones_like(primals))[0]\n",
        "        return primals, grads\n",
        "\n",
        "    def next_best_point(self, params, batch, bounds, rng_key, num_restarts = 10):\n",
        "        # Define objective that returns NumPy arrays\n",
        "        def objective(x):\n",
        "            x = (x - lb)/(ub-lb)\n",
        "            value, grads = self.acq_value_and_grad(params, batch, x)\n",
        "            out = (onp.array(value), onp.array(grads))\n",
        "            return out\n",
        "        # Optimize with random restarts\n",
        "        loc = []\n",
        "        acq = []\n",
        "        lb, ub = bounds\n",
        "        dim = lb.shape[0]\n",
        "        onp.random.seed(rng_key[0])\n",
        "        x0 = lb + (ub-lb)*lhs(dim, num_restarts,criterion='center')\n",
        "        dom_bounds = tuple(map(tuple, np.vstack((lb, ub)).T))\n",
        "        for i in trange(num_restarts):\n",
        "            pos, val = minimize_lbfgs(objective, x0[i,:], bnds = dom_bounds)\n",
        "            loc.append(pos)\n",
        "            acq.append(val)\n",
        "        loc = np.vstack(loc)\n",
        "        acq = np.vstack(acq)\n",
        "        idx_best = np.argmin(acq)\n",
        "        x_new = loc[idx_best:idx_best+1,:]\n",
        "        return x_new"
      ],
      "metadata": {
        "id": "I71CvkIS0pwN"
      },
      "execution_count": null,
      "outputs": []
    },
    {
      "cell_type": "code",
      "source": [
        "\n",
        "def branin():\n",
        "    m=7\n",
        "    dim = 2\n",
        "    lb = np.array([0, 0])\n",
        "    ub = np.array([np.pi, np.pi])\n",
        "    def f(x):\n",
        "        sum=0\n",
        "        for i in range(dim):\n",
        "          term=-np.sin(x[i])*(np.sin((i+1)*x[i]**2/np.pi))**(2*m)\n",
        "          sum+=term\n",
        "        return sum\n",
        "    return f, dim, (lb, ub)"
      ],
      "metadata": {
        "id": "6_Y1aOo10ydk"
      },
      "execution_count": null,
      "outputs": []
    },
    {
      "cell_type": "code",
      "source": [
        "\n",
        "# Define test function\n",
        "f, dim, bounds = branin()\n",
        "\n",
        "# Problem settings\n",
        "N = 10\n",
        "noise = 0.0\n",
        "lb, ub = bounds\n",
        "\n",
        "# Initial training data\n",
        "X = lb + (ub-lb)*lhs(dim, N,criterion='center')\n",
        "y = vmap(f)(X)\n",
        "\n",
        "# Test data\n",
        "nn = 80\n",
        "xx = np.linspace(lb[0], ub[0], nn)\n",
        "yy = np.linspace(lb[1], ub[1], nn)\n",
        "XX, YY = np.meshgrid(xx, yy)\n",
        "X_star = np.concatenate([XX.flatten()[:,None], \n",
        "                          YY.flatten()[:,None]], axis = 1)\n",
        "y_star = vmap(f)(X_star)\n",
        "\n",
        "# Normalized test inputs\n",
        "X_test = (X_star - lb)/(ub-lb)"
      ],
      "metadata": {
        "id": "L6cFHAMU0ziM"
      },
      "execution_count": null,
      "outputs": []
    },
    {
      "cell_type": "code",
      "source": [
        "\n",
        "model = GPRegression(kernel_fn = RBF, acq_fn = 'LCB')"
      ],
      "metadata": {
        "id": "Qxs4oHi202M0"
      },
      "execution_count": null,
      "outputs": []
    },
    {
      "cell_type": "code",
      "source": [
        "\n",
        "# Active learning loop\n",
        "num_iter = 50\n",
        "error_log = []\n",
        "\n",
        "for it in range(num_iter):\n",
        "    print('\\n')\n",
        "    print('-------------------------------------------------------------------')\n",
        "    print('------------------------- Iteration %d/%d -------------------------' % (it+1, num_iter))\n",
        "    print('-------------------------------------------------------------------')\n",
        "\n",
        "    # Normalize training data\n",
        "    mu_y, sigma_y = y.mean(0), y.std(0)\n",
        "    X_train = (X - lb)/(ub-lb)\n",
        "    y_train = (y - mu_y)/sigma_y\n",
        "\n",
        "    # Train model\n",
        "    print('\\nTrain GP...')\n",
        "    train_key = random.PRNGKey(it)\n",
        "    opt_params = model.train((X_train, y_train), train_key, num_restarts = 50)\n",
        "\n",
        "    # Select next best point\n",
        "    print('\\nCompute next acquisition point...')\n",
        "    new_X = model.next_best_point(opt_params, (X_train, y_train), bounds, train_key, num_restarts = 50)\n",
        "\n",
        "    # Acquire data\n",
        "    new_y = vmap(f)(new_X)\n",
        "    new_y = new_y + noise*new_y.std(0)*onp.random.randn(1,)\n",
        "\n",
        "    # Augment training data\n",
        "    X = np.concatenate([X, new_X], axis = 0)\n",
        "    y = np.concatenate([y, new_y], axis = 0)\n",
        "\n",
        "    # Monitor prediction error\n",
        "    mean, std = model.predict(opt_params, (X_train, y_train), X_test)\n",
        "    mean, std = mean*sigma_y + mu_y, std*sigma_y      # De-normalize predictions\n",
        "    error = np.linalg.norm(mean-y_star,2)/np.linalg.norm(y_star,2)\n",
        "    print('\\nRelative L2 error: %e\\n' % (error))\n",
        "    error_log.append(error)"
      ],
      "metadata": {
        "colab": {
          "base_uri": "https://localhost:8080/"
        },
        "id": "pD-9VA4q05sH",
        "outputId": "530cdd70-a2bb-4692-84a8-c8b8062e0fcd"
      },
      "execution_count": null,
      "outputs": [
        {
          "output_type": "stream",
          "name": "stdout",
          "text": [
            "\n",
            "\n",
            "-------------------------------------------------------------------\n",
            "------------------------- Iteration 1/50 -------------------------\n",
            "-------------------------------------------------------------------\n",
            "\n",
            "Train GP...\n"
          ]
        },
        {
          "output_type": "stream",
          "name": "stderr",
          "text": [
            "100%|██████████| 50/50 [00:05<00:00,  9.96it/s]\n"
          ]
        },
        {
          "output_type": "stream",
          "name": "stdout",
          "text": [
            "\n",
            "Compute next acquisition point...\n"
          ]
        },
        {
          "output_type": "stream",
          "name": "stderr",
          "text": [
            "100%|██████████| 50/50 [00:02<00:00, 24.60it/s]\n"
          ]
        },
        {
          "output_type": "stream",
          "name": "stdout",
          "text": [
            "\n",
            "Relative L2 error: 7.692855e-01\n",
            "\n",
            "\n",
            "\n",
            "-------------------------------------------------------------------\n",
            "------------------------- Iteration 2/50 -------------------------\n",
            "-------------------------------------------------------------------\n",
            "\n",
            "Train GP...\n"
          ]
        },
        {
          "output_type": "stream",
          "name": "stderr",
          "text": [
            "100%|██████████| 50/50 [00:02<00:00, 19.96it/s]\n"
          ]
        },
        {
          "output_type": "stream",
          "name": "stdout",
          "text": [
            "\n",
            "Compute next acquisition point...\n"
          ]
        },
        {
          "output_type": "stream",
          "name": "stderr",
          "text": [
            "100%|██████████| 50/50 [00:01<00:00, 43.01it/s]\n"
          ]
        },
        {
          "output_type": "stream",
          "name": "stdout",
          "text": [
            "\n",
            "Relative L2 error: 7.909484e-01\n",
            "\n",
            "\n",
            "\n",
            "-------------------------------------------------------------------\n",
            "------------------------- Iteration 3/50 -------------------------\n",
            "-------------------------------------------------------------------\n",
            "\n",
            "Train GP...\n"
          ]
        },
        {
          "output_type": "stream",
          "name": "stderr",
          "text": [
            "100%|██████████| 50/50 [00:04<00:00, 11.75it/s]\n"
          ]
        },
        {
          "output_type": "stream",
          "name": "stdout",
          "text": [
            "\n",
            "Compute next acquisition point...\n"
          ]
        },
        {
          "output_type": "stream",
          "name": "stderr",
          "text": [
            "100%|██████████| 50/50 [00:01<00:00, 35.55it/s]\n"
          ]
        },
        {
          "output_type": "stream",
          "name": "stdout",
          "text": [
            "\n",
            "Relative L2 error: 7.246971e-01\n",
            "\n",
            "\n",
            "\n",
            "-------------------------------------------------------------------\n",
            "------------------------- Iteration 4/50 -------------------------\n",
            "-------------------------------------------------------------------\n",
            "\n",
            "Train GP...\n"
          ]
        },
        {
          "output_type": "stream",
          "name": "stderr",
          "text": [
            "100%|██████████| 50/50 [00:04<00:00, 12.26it/s]\n"
          ]
        },
        {
          "output_type": "stream",
          "name": "stdout",
          "text": [
            "\n",
            "Compute next acquisition point...\n"
          ]
        },
        {
          "output_type": "stream",
          "name": "stderr",
          "text": [
            "100%|██████████| 50/50 [00:01<00:00, 47.84it/s]\n"
          ]
        },
        {
          "output_type": "stream",
          "name": "stdout",
          "text": [
            "\n",
            "Relative L2 error: 7.477539e-01\n",
            "\n",
            "\n",
            "\n",
            "-------------------------------------------------------------------\n",
            "------------------------- Iteration 5/50 -------------------------\n",
            "-------------------------------------------------------------------\n",
            "\n",
            "Train GP...\n"
          ]
        },
        {
          "output_type": "stream",
          "name": "stderr",
          "text": [
            "100%|██████████| 50/50 [00:04<00:00, 11.50it/s]\n"
          ]
        },
        {
          "output_type": "stream",
          "name": "stdout",
          "text": [
            "\n",
            "Compute next acquisition point...\n"
          ]
        },
        {
          "output_type": "stream",
          "name": "stderr",
          "text": [
            "100%|██████████| 50/50 [00:00<00:00, 51.43it/s]\n"
          ]
        },
        {
          "output_type": "stream",
          "name": "stdout",
          "text": [
            "\n",
            "Relative L2 error: 7.241176e-01\n",
            "\n",
            "\n",
            "\n",
            "-------------------------------------------------------------------\n",
            "------------------------- Iteration 6/50 -------------------------\n",
            "-------------------------------------------------------------------\n",
            "\n",
            "Train GP...\n"
          ]
        },
        {
          "output_type": "stream",
          "name": "stderr",
          "text": [
            "100%|██████████| 50/50 [00:03<00:00, 13.33it/s]\n"
          ]
        },
        {
          "output_type": "stream",
          "name": "stdout",
          "text": [
            "\n",
            "Compute next acquisition point...\n"
          ]
        },
        {
          "output_type": "stream",
          "name": "stderr",
          "text": [
            "100%|██████████| 50/50 [00:01<00:00, 48.86it/s]\n"
          ]
        },
        {
          "output_type": "stream",
          "name": "stdout",
          "text": [
            "\n",
            "Relative L2 error: 7.297743e-01\n",
            "\n",
            "\n",
            "\n",
            "-------------------------------------------------------------------\n",
            "------------------------- Iteration 7/50 -------------------------\n",
            "-------------------------------------------------------------------\n",
            "\n",
            "Train GP...\n"
          ]
        },
        {
          "output_type": "stream",
          "name": "stderr",
          "text": [
            "100%|██████████| 50/50 [00:03<00:00, 13.34it/s]\n"
          ]
        },
        {
          "output_type": "stream",
          "name": "stdout",
          "text": [
            "\n",
            "Compute next acquisition point...\n"
          ]
        },
        {
          "output_type": "stream",
          "name": "stderr",
          "text": [
            "100%|██████████| 50/50 [00:01<00:00, 43.56it/s]\n"
          ]
        },
        {
          "output_type": "stream",
          "name": "stdout",
          "text": [
            "\n",
            "Relative L2 error: 7.309903e-01\n",
            "\n",
            "\n",
            "\n",
            "-------------------------------------------------------------------\n",
            "------------------------- Iteration 8/50 -------------------------\n",
            "-------------------------------------------------------------------\n",
            "\n",
            "Train GP...\n"
          ]
        },
        {
          "output_type": "stream",
          "name": "stderr",
          "text": [
            "100%|██████████| 50/50 [00:03<00:00, 13.94it/s]\n"
          ]
        },
        {
          "output_type": "stream",
          "name": "stdout",
          "text": [
            "\n",
            "Compute next acquisition point...\n"
          ]
        },
        {
          "output_type": "stream",
          "name": "stderr",
          "text": [
            "100%|██████████| 50/50 [00:01<00:00, 31.06it/s]\n"
          ]
        },
        {
          "output_type": "stream",
          "name": "stdout",
          "text": [
            "\n",
            "Relative L2 error: 7.411006e-01\n",
            "\n",
            "\n",
            "\n",
            "-------------------------------------------------------------------\n",
            "------------------------- Iteration 9/50 -------------------------\n",
            "-------------------------------------------------------------------\n",
            "\n",
            "Train GP...\n"
          ]
        },
        {
          "output_type": "stream",
          "name": "stderr",
          "text": [
            "100%|██████████| 50/50 [00:04<00:00, 11.66it/s]\n"
          ]
        },
        {
          "output_type": "stream",
          "name": "stdout",
          "text": [
            "\n",
            "Compute next acquisition point...\n"
          ]
        },
        {
          "output_type": "stream",
          "name": "stderr",
          "text": [
            "100%|██████████| 50/50 [00:01<00:00, 32.69it/s]\n"
          ]
        },
        {
          "output_type": "stream",
          "name": "stdout",
          "text": [
            "\n",
            "Relative L2 error: 7.723163e-01\n",
            "\n",
            "\n",
            "\n",
            "-------------------------------------------------------------------\n",
            "------------------------- Iteration 10/50 -------------------------\n",
            "-------------------------------------------------------------------\n",
            "\n",
            "Train GP...\n"
          ]
        },
        {
          "output_type": "stream",
          "name": "stderr",
          "text": [
            "100%|██████████| 50/50 [00:02<00:00, 17.52it/s]\n"
          ]
        },
        {
          "output_type": "stream",
          "name": "stdout",
          "text": [
            "\n",
            "Compute next acquisition point...\n"
          ]
        },
        {
          "output_type": "stream",
          "name": "stderr",
          "text": [
            "100%|██████████| 50/50 [00:01<00:00, 38.81it/s]\n"
          ]
        },
        {
          "output_type": "stream",
          "name": "stdout",
          "text": [
            "\n",
            "Relative L2 error: 8.712019e-01\n",
            "\n",
            "\n",
            "\n",
            "-------------------------------------------------------------------\n",
            "------------------------- Iteration 11/50 -------------------------\n",
            "-------------------------------------------------------------------\n",
            "\n",
            "Train GP...\n"
          ]
        },
        {
          "output_type": "stream",
          "name": "stderr",
          "text": [
            "100%|██████████| 50/50 [00:04<00:00, 12.10it/s]\n"
          ]
        },
        {
          "output_type": "stream",
          "name": "stdout",
          "text": [
            "\n",
            "Compute next acquisition point...\n"
          ]
        },
        {
          "output_type": "stream",
          "name": "stderr",
          "text": [
            "100%|██████████| 50/50 [00:01<00:00, 42.62it/s]\n"
          ]
        },
        {
          "output_type": "stream",
          "name": "stdout",
          "text": [
            "\n",
            "Relative L2 error: 9.295877e-01\n",
            "\n",
            "\n",
            "\n",
            "-------------------------------------------------------------------\n",
            "------------------------- Iteration 12/50 -------------------------\n",
            "-------------------------------------------------------------------\n",
            "\n",
            "Train GP...\n"
          ]
        },
        {
          "output_type": "stream",
          "name": "stderr",
          "text": [
            "100%|██████████| 50/50 [00:03<00:00, 14.69it/s]\n"
          ]
        },
        {
          "output_type": "stream",
          "name": "stdout",
          "text": [
            "\n",
            "Compute next acquisition point...\n"
          ]
        },
        {
          "output_type": "stream",
          "name": "stderr",
          "text": [
            "100%|██████████| 50/50 [00:01<00:00, 46.57it/s]\n"
          ]
        },
        {
          "output_type": "stream",
          "name": "stdout",
          "text": [
            "\n",
            "Relative L2 error: 9.688710e-01\n",
            "\n",
            "\n",
            "\n",
            "-------------------------------------------------------------------\n",
            "------------------------- Iteration 13/50 -------------------------\n",
            "-------------------------------------------------------------------\n",
            "\n",
            "Train GP...\n"
          ]
        },
        {
          "output_type": "stream",
          "name": "stderr",
          "text": [
            "100%|██████████| 50/50 [00:03<00:00, 13.68it/s]\n"
          ]
        },
        {
          "output_type": "stream",
          "name": "stdout",
          "text": [
            "\n",
            "Compute next acquisition point...\n"
          ]
        },
        {
          "output_type": "stream",
          "name": "stderr",
          "text": [
            "100%|██████████| 50/50 [00:01<00:00, 39.67it/s]\n"
          ]
        },
        {
          "output_type": "stream",
          "name": "stdout",
          "text": [
            "\n",
            "Relative L2 error: 1.054841e+00\n",
            "\n",
            "\n",
            "\n",
            "-------------------------------------------------------------------\n",
            "------------------------- Iteration 14/50 -------------------------\n",
            "-------------------------------------------------------------------\n",
            "\n",
            "Train GP...\n"
          ]
        },
        {
          "output_type": "stream",
          "name": "stderr",
          "text": [
            "100%|██████████| 50/50 [00:03<00:00, 15.95it/s]\n"
          ]
        },
        {
          "output_type": "stream",
          "name": "stdout",
          "text": [
            "\n",
            "Compute next acquisition point...\n"
          ]
        },
        {
          "output_type": "stream",
          "name": "stderr",
          "text": [
            "100%|██████████| 50/50 [00:01<00:00, 37.80it/s]\n"
          ]
        },
        {
          "output_type": "stream",
          "name": "stdout",
          "text": [
            "\n",
            "Relative L2 error: 1.155716e+00\n",
            "\n",
            "\n",
            "\n",
            "-------------------------------------------------------------------\n",
            "------------------------- Iteration 15/50 -------------------------\n",
            "-------------------------------------------------------------------\n",
            "\n",
            "Train GP...\n"
          ]
        },
        {
          "output_type": "stream",
          "name": "stderr",
          "text": [
            "100%|██████████| 50/50 [00:06<00:00,  8.12it/s]\n"
          ]
        },
        {
          "output_type": "stream",
          "name": "stdout",
          "text": [
            "\n",
            "Compute next acquisition point...\n"
          ]
        },
        {
          "output_type": "stream",
          "name": "stderr",
          "text": [
            "100%|██████████| 50/50 [00:01<00:00, 44.94it/s]\n"
          ]
        },
        {
          "output_type": "stream",
          "name": "stdout",
          "text": [
            "\n",
            "Relative L2 error: 1.215637e+00\n",
            "\n",
            "\n",
            "\n",
            "-------------------------------------------------------------------\n",
            "------------------------- Iteration 16/50 -------------------------\n",
            "-------------------------------------------------------------------\n",
            "\n",
            "Train GP...\n"
          ]
        },
        {
          "output_type": "stream",
          "name": "stderr",
          "text": [
            "100%|██████████| 50/50 [00:04<00:00, 11.60it/s]\n"
          ]
        },
        {
          "output_type": "stream",
          "name": "stdout",
          "text": [
            "\n",
            "Compute next acquisition point...\n"
          ]
        },
        {
          "output_type": "stream",
          "name": "stderr",
          "text": [
            "100%|██████████| 50/50 [00:01<00:00, 45.27it/s]\n"
          ]
        },
        {
          "output_type": "stream",
          "name": "stdout",
          "text": [
            "\n",
            "Relative L2 error: 1.268546e+00\n",
            "\n",
            "\n",
            "\n",
            "-------------------------------------------------------------------\n",
            "------------------------- Iteration 17/50 -------------------------\n",
            "-------------------------------------------------------------------\n",
            "\n",
            "Train GP...\n"
          ]
        },
        {
          "output_type": "stream",
          "name": "stderr",
          "text": [
            "100%|██████████| 50/50 [00:05<00:00,  9.85it/s]\n"
          ]
        },
        {
          "output_type": "stream",
          "name": "stdout",
          "text": [
            "\n",
            "Compute next acquisition point...\n"
          ]
        },
        {
          "output_type": "stream",
          "name": "stderr",
          "text": [
            "100%|██████████| 50/50 [00:01<00:00, 45.82it/s]\n"
          ]
        },
        {
          "output_type": "stream",
          "name": "stdout",
          "text": [
            "\n",
            "Relative L2 error: 1.230627e+00\n",
            "\n",
            "\n",
            "\n",
            "-------------------------------------------------------------------\n",
            "------------------------- Iteration 18/50 -------------------------\n",
            "-------------------------------------------------------------------\n",
            "\n",
            "Train GP...\n"
          ]
        },
        {
          "output_type": "stream",
          "name": "stderr",
          "text": [
            "100%|██████████| 50/50 [00:04<00:00, 10.53it/s]\n"
          ]
        },
        {
          "output_type": "stream",
          "name": "stdout",
          "text": [
            "\n",
            "Compute next acquisition point...\n"
          ]
        },
        {
          "output_type": "stream",
          "name": "stderr",
          "text": [
            "100%|██████████| 50/50 [00:01<00:00, 32.30it/s]\n"
          ]
        },
        {
          "output_type": "stream",
          "name": "stdout",
          "text": [
            "\n",
            "Relative L2 error: 1.276750e+00\n",
            "\n",
            "\n",
            "\n",
            "-------------------------------------------------------------------\n",
            "------------------------- Iteration 19/50 -------------------------\n",
            "-------------------------------------------------------------------\n",
            "\n",
            "Train GP...\n"
          ]
        },
        {
          "output_type": "stream",
          "name": "stderr",
          "text": [
            "100%|██████████| 50/50 [00:04<00:00, 11.11it/s]\n"
          ]
        },
        {
          "output_type": "stream",
          "name": "stdout",
          "text": [
            "\n",
            "Compute next acquisition point...\n"
          ]
        },
        {
          "output_type": "stream",
          "name": "stderr",
          "text": [
            "100%|██████████| 50/50 [00:01<00:00, 29.02it/s]\n"
          ]
        },
        {
          "output_type": "stream",
          "name": "stdout",
          "text": [
            "\n",
            "Relative L2 error: 1.221761e+00\n",
            "\n",
            "\n",
            "\n",
            "-------------------------------------------------------------------\n",
            "------------------------- Iteration 20/50 -------------------------\n",
            "-------------------------------------------------------------------\n",
            "\n",
            "Train GP...\n"
          ]
        },
        {
          "output_type": "stream",
          "name": "stderr",
          "text": [
            "100%|██████████| 50/50 [00:05<00:00,  9.67it/s]\n"
          ]
        },
        {
          "output_type": "stream",
          "name": "stdout",
          "text": [
            "\n",
            "Compute next acquisition point...\n"
          ]
        },
        {
          "output_type": "stream",
          "name": "stderr",
          "text": [
            "100%|██████████| 50/50 [00:01<00:00, 38.08it/s]\n"
          ]
        },
        {
          "output_type": "stream",
          "name": "stdout",
          "text": [
            "\n",
            "Relative L2 error: 1.261937e+00\n",
            "\n",
            "\n",
            "\n",
            "-------------------------------------------------------------------\n",
            "------------------------- Iteration 21/50 -------------------------\n",
            "-------------------------------------------------------------------\n",
            "\n",
            "Train GP...\n"
          ]
        },
        {
          "output_type": "stream",
          "name": "stderr",
          "text": [
            "100%|██████████| 50/50 [00:04<00:00, 10.99it/s]\n"
          ]
        },
        {
          "output_type": "stream",
          "name": "stdout",
          "text": [
            "\n",
            "Compute next acquisition point...\n"
          ]
        },
        {
          "output_type": "stream",
          "name": "stderr",
          "text": [
            "100%|██████████| 50/50 [00:01<00:00, 44.02it/s]\n"
          ]
        },
        {
          "output_type": "stream",
          "name": "stdout",
          "text": [
            "\n",
            "Relative L2 error: 1.298842e+00\n",
            "\n",
            "\n",
            "\n",
            "-------------------------------------------------------------------\n",
            "------------------------- Iteration 22/50 -------------------------\n",
            "-------------------------------------------------------------------\n",
            "\n",
            "Train GP...\n"
          ]
        },
        {
          "output_type": "stream",
          "name": "stderr",
          "text": [
            "100%|██████████| 50/50 [00:04<00:00, 10.37it/s]\n"
          ]
        },
        {
          "output_type": "stream",
          "name": "stdout",
          "text": [
            "\n",
            "Compute next acquisition point...\n"
          ]
        },
        {
          "output_type": "stream",
          "name": "stderr",
          "text": [
            "100%|██████████| 50/50 [00:01<00:00, 46.83it/s]\n"
          ]
        },
        {
          "output_type": "stream",
          "name": "stdout",
          "text": [
            "\n",
            "Relative L2 error: 1.332908e+00\n",
            "\n",
            "\n",
            "\n",
            "-------------------------------------------------------------------\n",
            "------------------------- Iteration 23/50 -------------------------\n",
            "-------------------------------------------------------------------\n",
            "\n",
            "Train GP...\n"
          ]
        },
        {
          "output_type": "stream",
          "name": "stderr",
          "text": [
            "100%|██████████| 50/50 [00:04<00:00, 11.35it/s]\n"
          ]
        },
        {
          "output_type": "stream",
          "name": "stdout",
          "text": [
            "\n",
            "Compute next acquisition point...\n"
          ]
        },
        {
          "output_type": "stream",
          "name": "stderr",
          "text": [
            "100%|██████████| 50/50 [00:01<00:00, 34.06it/s]\n"
          ]
        },
        {
          "output_type": "stream",
          "name": "stdout",
          "text": [
            "\n",
            "Relative L2 error: 1.364456e+00\n",
            "\n",
            "\n",
            "\n",
            "-------------------------------------------------------------------\n",
            "------------------------- Iteration 24/50 -------------------------\n",
            "-------------------------------------------------------------------\n",
            "\n",
            "Train GP...\n"
          ]
        },
        {
          "output_type": "stream",
          "name": "stderr",
          "text": [
            "100%|██████████| 50/50 [00:04<00:00, 11.02it/s]\n"
          ]
        },
        {
          "output_type": "stream",
          "name": "stdout",
          "text": [
            "\n",
            "Compute next acquisition point...\n"
          ]
        },
        {
          "output_type": "stream",
          "name": "stderr",
          "text": [
            "100%|██████████| 50/50 [00:01<00:00, 48.80it/s]\n"
          ]
        },
        {
          "output_type": "stream",
          "name": "stdout",
          "text": [
            "\n",
            "Relative L2 error: 1.393775e+00\n",
            "\n",
            "\n",
            "\n",
            "-------------------------------------------------------------------\n",
            "------------------------- Iteration 25/50 -------------------------\n",
            "-------------------------------------------------------------------\n",
            "\n",
            "Train GP...\n"
          ]
        },
        {
          "output_type": "stream",
          "name": "stderr",
          "text": [
            "100%|██████████| 50/50 [00:04<00:00, 10.22it/s]\n"
          ]
        },
        {
          "output_type": "stream",
          "name": "stdout",
          "text": [
            "\n",
            "Compute next acquisition point...\n"
          ]
        },
        {
          "output_type": "stream",
          "name": "stderr",
          "text": [
            "100%|██████████| 50/50 [00:01<00:00, 48.61it/s]\n"
          ]
        },
        {
          "output_type": "stream",
          "name": "stdout",
          "text": [
            "\n",
            "Relative L2 error: 1.421096e+00\n",
            "\n",
            "\n",
            "\n",
            "-------------------------------------------------------------------\n",
            "------------------------- Iteration 26/50 -------------------------\n",
            "-------------------------------------------------------------------\n",
            "\n",
            "Train GP...\n"
          ]
        },
        {
          "output_type": "stream",
          "name": "stderr",
          "text": [
            "100%|██████████| 50/50 [00:04<00:00, 11.22it/s]\n"
          ]
        },
        {
          "output_type": "stream",
          "name": "stdout",
          "text": [
            "\n",
            "Compute next acquisition point...\n"
          ]
        },
        {
          "output_type": "stream",
          "name": "stderr",
          "text": [
            "100%|██████████| 50/50 [00:01<00:00, 43.53it/s]\n"
          ]
        },
        {
          "output_type": "stream",
          "name": "stdout",
          "text": [
            "\n",
            "Relative L2 error: 1.446628e+00\n",
            "\n",
            "\n",
            "\n",
            "-------------------------------------------------------------------\n",
            "------------------------- Iteration 27/50 -------------------------\n",
            "-------------------------------------------------------------------\n",
            "\n",
            "Train GP...\n"
          ]
        },
        {
          "output_type": "stream",
          "name": "stderr",
          "text": [
            "100%|██████████| 50/50 [00:05<00:00,  9.70it/s]\n"
          ]
        },
        {
          "output_type": "stream",
          "name": "stdout",
          "text": [
            "\n",
            "Compute next acquisition point...\n"
          ]
        },
        {
          "output_type": "stream",
          "name": "stderr",
          "text": [
            "100%|██████████| 50/50 [00:01<00:00, 47.56it/s]\n"
          ]
        },
        {
          "output_type": "stream",
          "name": "stdout",
          "text": [
            "\n",
            "Relative L2 error: 1.470526e+00\n",
            "\n",
            "\n",
            "\n",
            "-------------------------------------------------------------------\n",
            "------------------------- Iteration 28/50 -------------------------\n",
            "-------------------------------------------------------------------\n",
            "\n",
            "Train GP...\n"
          ]
        },
        {
          "output_type": "stream",
          "name": "stderr",
          "text": [
            "100%|██████████| 50/50 [00:04<00:00, 10.76it/s]\n"
          ]
        },
        {
          "output_type": "stream",
          "name": "stdout",
          "text": [
            "\n",
            "Compute next acquisition point...\n"
          ]
        },
        {
          "output_type": "stream",
          "name": "stderr",
          "text": [
            "100%|██████████| 50/50 [00:01<00:00, 32.37it/s]\n"
          ]
        },
        {
          "output_type": "stream",
          "name": "stdout",
          "text": [
            "\n",
            "Relative L2 error: 1.492961e+00\n",
            "\n",
            "\n",
            "\n",
            "-------------------------------------------------------------------\n",
            "------------------------- Iteration 29/50 -------------------------\n",
            "-------------------------------------------------------------------\n",
            "\n",
            "Train GP...\n"
          ]
        },
        {
          "output_type": "stream",
          "name": "stderr",
          "text": [
            "100%|██████████| 50/50 [00:04<00:00, 10.73it/s]\n"
          ]
        },
        {
          "output_type": "stream",
          "name": "stdout",
          "text": [
            "\n",
            "Compute next acquisition point...\n"
          ]
        },
        {
          "output_type": "stream",
          "name": "stderr",
          "text": [
            "100%|██████████| 50/50 [00:01<00:00, 48.36it/s]\n"
          ]
        },
        {
          "output_type": "stream",
          "name": "stdout",
          "text": [
            "\n",
            "Relative L2 error: 1.514070e+00\n",
            "\n",
            "\n",
            "\n",
            "-------------------------------------------------------------------\n",
            "------------------------- Iteration 30/50 -------------------------\n",
            "-------------------------------------------------------------------\n",
            "\n",
            "Train GP...\n"
          ]
        },
        {
          "output_type": "stream",
          "name": "stderr",
          "text": [
            "100%|██████████| 50/50 [00:04<00:00, 10.14it/s]\n"
          ]
        },
        {
          "output_type": "stream",
          "name": "stdout",
          "text": [
            "\n",
            "Compute next acquisition point...\n"
          ]
        },
        {
          "output_type": "stream",
          "name": "stderr",
          "text": [
            "100%|██████████| 50/50 [00:01<00:00, 48.54it/s]\n"
          ]
        },
        {
          "output_type": "stream",
          "name": "stdout",
          "text": [
            "\n",
            "Relative L2 error: 1.533958e+00\n",
            "\n",
            "\n",
            "\n",
            "-------------------------------------------------------------------\n",
            "------------------------- Iteration 31/50 -------------------------\n",
            "-------------------------------------------------------------------\n",
            "\n",
            "Train GP...\n"
          ]
        },
        {
          "output_type": "stream",
          "name": "stderr",
          "text": [
            "100%|██████████| 50/50 [00:04<00:00, 10.86it/s]\n"
          ]
        },
        {
          "output_type": "stream",
          "name": "stdout",
          "text": [
            "\n",
            "Compute next acquisition point...\n"
          ]
        },
        {
          "output_type": "stream",
          "name": "stderr",
          "text": [
            "100%|██████████| 50/50 [00:00<00:00, 51.41it/s]\n"
          ]
        },
        {
          "output_type": "stream",
          "name": "stdout",
          "text": [
            "\n",
            "Relative L2 error: 1.552747e+00\n",
            "\n",
            "\n",
            "\n",
            "-------------------------------------------------------------------\n",
            "------------------------- Iteration 32/50 -------------------------\n",
            "-------------------------------------------------------------------\n",
            "\n",
            "Train GP...\n"
          ]
        },
        {
          "output_type": "stream",
          "name": "stderr",
          "text": [
            "100%|██████████| 50/50 [00:05<00:00,  9.71it/s]\n"
          ]
        },
        {
          "output_type": "stream",
          "name": "stdout",
          "text": [
            "\n",
            "Compute next acquisition point...\n"
          ]
        },
        {
          "output_type": "stream",
          "name": "stderr",
          "text": [
            "100%|██████████| 50/50 [00:00<00:00, 50.66it/s]\n"
          ]
        },
        {
          "output_type": "stream",
          "name": "stdout",
          "text": [
            "\n",
            "Relative L2 error: 1.570511e+00\n",
            "\n",
            "\n",
            "\n",
            "-------------------------------------------------------------------\n",
            "------------------------- Iteration 33/50 -------------------------\n",
            "-------------------------------------------------------------------\n",
            "\n",
            "Train GP...\n"
          ]
        },
        {
          "output_type": "stream",
          "name": "stderr",
          "text": [
            "100%|██████████| 50/50 [00:04<00:00, 10.87it/s]\n"
          ]
        },
        {
          "output_type": "stream",
          "name": "stdout",
          "text": [
            "\n",
            "Compute next acquisition point...\n"
          ]
        },
        {
          "output_type": "stream",
          "name": "stderr",
          "text": [
            "100%|██████████| 50/50 [00:01<00:00, 46.66it/s]\n"
          ]
        },
        {
          "output_type": "stream",
          "name": "stdout",
          "text": [
            "\n",
            "Relative L2 error: 1.587342e+00\n",
            "\n",
            "\n",
            "\n",
            "-------------------------------------------------------------------\n",
            "------------------------- Iteration 34/50 -------------------------\n",
            "-------------------------------------------------------------------\n",
            "\n",
            "Train GP...\n"
          ]
        },
        {
          "output_type": "stream",
          "name": "stderr",
          "text": [
            "100%|██████████| 50/50 [00:05<00:00,  9.32it/s]\n"
          ]
        },
        {
          "output_type": "stream",
          "name": "stdout",
          "text": [
            "\n",
            "Compute next acquisition point...\n"
          ]
        },
        {
          "output_type": "stream",
          "name": "stderr",
          "text": [
            "100%|██████████| 50/50 [00:00<00:00, 50.99it/s]\n"
          ]
        },
        {
          "output_type": "stream",
          "name": "stdout",
          "text": [
            "\n",
            "Relative L2 error: 1.603309e+00\n",
            "\n",
            "\n",
            "\n",
            "-------------------------------------------------------------------\n",
            "------------------------- Iteration 35/50 -------------------------\n",
            "-------------------------------------------------------------------\n",
            "\n",
            "Train GP...\n"
          ]
        },
        {
          "output_type": "stream",
          "name": "stderr",
          "text": [
            "100%|██████████| 50/50 [00:04<00:00, 10.05it/s]\n"
          ]
        },
        {
          "output_type": "stream",
          "name": "stdout",
          "text": [
            "\n",
            "Compute next acquisition point...\n"
          ]
        },
        {
          "output_type": "stream",
          "name": "stderr",
          "text": [
            "100%|██████████| 50/50 [00:01<00:00, 49.57it/s]\n"
          ]
        },
        {
          "output_type": "stream",
          "name": "stdout",
          "text": [
            "\n",
            "Relative L2 error: 1.618482e+00\n",
            "\n",
            "\n",
            "\n",
            "-------------------------------------------------------------------\n",
            "------------------------- Iteration 36/50 -------------------------\n",
            "-------------------------------------------------------------------\n",
            "\n",
            "Train GP...\n"
          ]
        },
        {
          "output_type": "stream",
          "name": "stderr",
          "text": [
            "100%|██████████| 50/50 [00:04<00:00, 10.95it/s]\n"
          ]
        },
        {
          "output_type": "stream",
          "name": "stdout",
          "text": [
            "\n",
            "Compute next acquisition point...\n"
          ]
        },
        {
          "output_type": "stream",
          "name": "stderr",
          "text": [
            "100%|██████████| 50/50 [00:00<00:00, 50.92it/s]\n"
          ]
        },
        {
          "output_type": "stream",
          "name": "stdout",
          "text": [
            "\n",
            "Relative L2 error: 1.632927e+00\n",
            "\n",
            "\n",
            "\n",
            "-------------------------------------------------------------------\n",
            "------------------------- Iteration 37/50 -------------------------\n",
            "-------------------------------------------------------------------\n",
            "\n",
            "Train GP...\n"
          ]
        },
        {
          "output_type": "stream",
          "name": "stderr",
          "text": [
            "100%|██████████| 50/50 [00:05<00:00,  9.44it/s]\n"
          ]
        },
        {
          "output_type": "stream",
          "name": "stdout",
          "text": [
            "\n",
            "Compute next acquisition point...\n"
          ]
        },
        {
          "output_type": "stream",
          "name": "stderr",
          "text": [
            "100%|██████████| 50/50 [00:01<00:00, 49.22it/s]\n"
          ]
        },
        {
          "output_type": "stream",
          "name": "stdout",
          "text": [
            "\n",
            "Relative L2 error: 1.646673e+00\n",
            "\n",
            "\n",
            "\n",
            "-------------------------------------------------------------------\n",
            "------------------------- Iteration 38/50 -------------------------\n",
            "-------------------------------------------------------------------\n",
            "\n",
            "Train GP...\n"
          ]
        },
        {
          "output_type": "stream",
          "name": "stderr",
          "text": [
            "100%|██████████| 50/50 [00:04<00:00, 10.83it/s]\n"
          ]
        },
        {
          "output_type": "stream",
          "name": "stdout",
          "text": [
            "\n",
            "Compute next acquisition point...\n"
          ]
        },
        {
          "output_type": "stream",
          "name": "stderr",
          "text": [
            "100%|██████████| 50/50 [00:01<00:00, 45.27it/s]\n"
          ]
        },
        {
          "output_type": "stream",
          "name": "stdout",
          "text": [
            "\n",
            "Relative L2 error: 1.659794e+00\n",
            "\n",
            "\n",
            "\n",
            "-------------------------------------------------------------------\n",
            "------------------------- Iteration 39/50 -------------------------\n",
            "-------------------------------------------------------------------\n",
            "\n",
            "Train GP...\n"
          ]
        },
        {
          "output_type": "stream",
          "name": "stderr",
          "text": [
            "100%|██████████| 50/50 [00:04<00:00, 10.34it/s]\n"
          ]
        },
        {
          "output_type": "stream",
          "name": "stdout",
          "text": [
            "\n",
            "Compute next acquisition point...\n"
          ]
        },
        {
          "output_type": "stream",
          "name": "stderr",
          "text": [
            "100%|██████████| 50/50 [00:01<00:00, 49.40it/s]\n"
          ]
        },
        {
          "output_type": "stream",
          "name": "stdout",
          "text": [
            "\n",
            "Relative L2 error: 1.672319e+00\n",
            "\n",
            "\n",
            "\n",
            "-------------------------------------------------------------------\n",
            "------------------------- Iteration 40/50 -------------------------\n",
            "-------------------------------------------------------------------\n",
            "\n",
            "Train GP...\n"
          ]
        },
        {
          "output_type": "stream",
          "name": "stderr",
          "text": [
            "100%|██████████| 50/50 [00:05<00:00,  9.54it/s]\n"
          ]
        },
        {
          "output_type": "stream",
          "name": "stdout",
          "text": [
            "\n",
            "Compute next acquisition point...\n"
          ]
        },
        {
          "output_type": "stream",
          "name": "stderr",
          "text": [
            "100%|██████████| 50/50 [00:01<00:00, 45.06it/s]\n"
          ]
        },
        {
          "output_type": "stream",
          "name": "stdout",
          "text": [
            "\n",
            "Relative L2 error: 1.684294e+00\n",
            "\n",
            "\n",
            "\n",
            "-------------------------------------------------------------------\n",
            "------------------------- Iteration 41/50 -------------------------\n",
            "-------------------------------------------------------------------\n",
            "\n",
            "Train GP...\n"
          ]
        },
        {
          "output_type": "stream",
          "name": "stderr",
          "text": [
            "100%|██████████| 50/50 [00:05<00:00,  8.95it/s]\n"
          ]
        },
        {
          "output_type": "stream",
          "name": "stdout",
          "text": [
            "\n",
            "Compute next acquisition point...\n"
          ]
        },
        {
          "output_type": "stream",
          "name": "stderr",
          "text": [
            "100%|██████████| 50/50 [00:01<00:00, 49.24it/s]\n"
          ]
        },
        {
          "output_type": "stream",
          "name": "stdout",
          "text": [
            "\n",
            "Relative L2 error: 1.695752e+00\n",
            "\n",
            "\n",
            "\n",
            "-------------------------------------------------------------------\n",
            "------------------------- Iteration 42/50 -------------------------\n",
            "-------------------------------------------------------------------\n",
            "\n",
            "Train GP...\n"
          ]
        },
        {
          "output_type": "stream",
          "name": "stderr",
          "text": [
            "100%|██████████| 50/50 [00:05<00:00,  8.55it/s]\n"
          ]
        },
        {
          "output_type": "stream",
          "name": "stdout",
          "text": [
            "\n",
            "Compute next acquisition point...\n"
          ]
        },
        {
          "output_type": "stream",
          "name": "stderr",
          "text": [
            "100%|██████████| 50/50 [00:00<00:00, 51.57it/s]\n"
          ]
        },
        {
          "output_type": "stream",
          "name": "stdout",
          "text": [
            "\n",
            "Relative L2 error: 1.706736e+00\n",
            "\n",
            "\n",
            "\n",
            "-------------------------------------------------------------------\n",
            "------------------------- Iteration 43/50 -------------------------\n",
            "-------------------------------------------------------------------\n",
            "\n",
            "Train GP...\n"
          ]
        },
        {
          "output_type": "stream",
          "name": "stderr",
          "text": [
            "100%|██████████| 50/50 [00:04<00:00, 10.12it/s]\n"
          ]
        },
        {
          "output_type": "stream",
          "name": "stdout",
          "text": [
            "\n",
            "Compute next acquisition point...\n"
          ]
        },
        {
          "output_type": "stream",
          "name": "stderr",
          "text": [
            "100%|██████████| 50/50 [00:01<00:00, 26.86it/s]\n"
          ]
        },
        {
          "output_type": "stream",
          "name": "stdout",
          "text": [
            "\n",
            "Relative L2 error: 1.717259e+00\n",
            "\n",
            "\n",
            "\n",
            "-------------------------------------------------------------------\n",
            "------------------------- Iteration 44/50 -------------------------\n",
            "-------------------------------------------------------------------\n",
            "\n",
            "Train GP...\n"
          ]
        },
        {
          "output_type": "stream",
          "name": "stderr",
          "text": [
            "100%|██████████| 50/50 [00:04<00:00, 10.16it/s]\n"
          ]
        },
        {
          "output_type": "stream",
          "name": "stdout",
          "text": [
            "\n",
            "Compute next acquisition point...\n"
          ]
        },
        {
          "output_type": "stream",
          "name": "stderr",
          "text": [
            "100%|██████████| 50/50 [00:00<00:00, 50.61it/s]\n"
          ]
        },
        {
          "output_type": "stream",
          "name": "stdout",
          "text": [
            "\n",
            "Relative L2 error: 1.727362e+00\n",
            "\n",
            "\n",
            "\n",
            "-------------------------------------------------------------------\n",
            "------------------------- Iteration 45/50 -------------------------\n",
            "-------------------------------------------------------------------\n",
            "\n",
            "Train GP...\n"
          ]
        },
        {
          "output_type": "stream",
          "name": "stderr",
          "text": [
            "100%|██████████| 50/50 [00:05<00:00,  9.21it/s]\n"
          ]
        },
        {
          "output_type": "stream",
          "name": "stdout",
          "text": [
            "\n",
            "Compute next acquisition point...\n"
          ]
        },
        {
          "output_type": "stream",
          "name": "stderr",
          "text": [
            "100%|██████████| 50/50 [00:00<00:00, 50.93it/s]\n"
          ]
        },
        {
          "output_type": "stream",
          "name": "stdout",
          "text": [
            "\n",
            "Relative L2 error: 1.737063e+00\n",
            "\n",
            "\n",
            "\n",
            "-------------------------------------------------------------------\n",
            "------------------------- Iteration 46/50 -------------------------\n",
            "-------------------------------------------------------------------\n",
            "\n",
            "Train GP...\n"
          ]
        },
        {
          "output_type": "stream",
          "name": "stderr",
          "text": [
            "100%|██████████| 50/50 [00:05<00:00,  9.73it/s]\n"
          ]
        },
        {
          "output_type": "stream",
          "name": "stdout",
          "text": [
            "\n",
            "Compute next acquisition point...\n"
          ]
        },
        {
          "output_type": "stream",
          "name": "stderr",
          "text": [
            "100%|██████████| 50/50 [00:01<00:00, 45.42it/s]\n"
          ]
        },
        {
          "output_type": "stream",
          "name": "stdout",
          "text": [
            "\n",
            "Relative L2 error: 1.746391e+00\n",
            "\n",
            "\n",
            "\n",
            "-------------------------------------------------------------------\n",
            "------------------------- Iteration 47/50 -------------------------\n",
            "-------------------------------------------------------------------\n",
            "\n",
            "Train GP...\n"
          ]
        },
        {
          "output_type": "stream",
          "name": "stderr",
          "text": [
            "100%|██████████| 50/50 [00:04<00:00, 10.03it/s]\n"
          ]
        },
        {
          "output_type": "stream",
          "name": "stdout",
          "text": [
            "\n",
            "Compute next acquisition point...\n"
          ]
        },
        {
          "output_type": "stream",
          "name": "stderr",
          "text": [
            "100%|██████████| 50/50 [00:00<00:00, 51.80it/s]\n"
          ]
        },
        {
          "output_type": "stream",
          "name": "stdout",
          "text": [
            "\n",
            "Relative L2 error: 1.755352e+00\n",
            "\n",
            "\n",
            "\n",
            "-------------------------------------------------------------------\n",
            "------------------------- Iteration 48/50 -------------------------\n",
            "-------------------------------------------------------------------\n",
            "\n",
            "Train GP...\n"
          ]
        },
        {
          "output_type": "stream",
          "name": "stderr",
          "text": [
            "100%|██████████| 50/50 [00:05<00:00,  9.09it/s]\n"
          ]
        },
        {
          "output_type": "stream",
          "name": "stdout",
          "text": [
            "\n",
            "Compute next acquisition point...\n"
          ]
        },
        {
          "output_type": "stream",
          "name": "stderr",
          "text": [
            "100%|██████████| 50/50 [00:00<00:00, 52.88it/s]\n"
          ]
        },
        {
          "output_type": "stream",
          "name": "stdout",
          "text": [
            "\n",
            "Relative L2 error: 1.693966e+00\n",
            "\n",
            "\n",
            "\n",
            "-------------------------------------------------------------------\n",
            "------------------------- Iteration 49/50 -------------------------\n",
            "-------------------------------------------------------------------\n",
            "\n",
            "Train GP...\n"
          ]
        },
        {
          "output_type": "stream",
          "name": "stderr",
          "text": [
            "100%|██████████| 50/50 [00:04<00:00, 10.26it/s]\n"
          ]
        },
        {
          "output_type": "stream",
          "name": "stdout",
          "text": [
            "\n",
            "Compute next acquisition point...\n"
          ]
        },
        {
          "output_type": "stream",
          "name": "stderr",
          "text": [
            "100%|██████████| 50/50 [00:00<00:00, 52.18it/s]\n"
          ]
        },
        {
          "output_type": "stream",
          "name": "stdout",
          "text": [
            "\n",
            "Relative L2 error: 1.701815e+00\n",
            "\n",
            "\n",
            "\n",
            "-------------------------------------------------------------------\n",
            "------------------------- Iteration 50/50 -------------------------\n",
            "-------------------------------------------------------------------\n",
            "\n",
            "Train GP...\n"
          ]
        },
        {
          "output_type": "stream",
          "name": "stderr",
          "text": [
            "100%|██████████| 50/50 [00:05<00:00,  8.81it/s]\n"
          ]
        },
        {
          "output_type": "stream",
          "name": "stdout",
          "text": [
            "\n",
            "Compute next acquisition point...\n"
          ]
        },
        {
          "output_type": "stream",
          "name": "stderr",
          "text": [
            "100%|██████████| 50/50 [00:00<00:00, 51.57it/s]\n"
          ]
        },
        {
          "output_type": "stream",
          "name": "stdout",
          "text": [
            "\n",
            "Relative L2 error: 1.709384e+00\n",
            "\n"
          ]
        }
      ]
    },
    {
      "cell_type": "code",
      "source": [
        "x_lcb=X[-num_iter:]\n",
        "y_lcb=vmap(f)(x_lcb)"
      ],
      "metadata": {
        "id": "lTWOE1-308x7"
      },
      "execution_count": null,
      "outputs": []
    },
    {
      "cell_type": "code",
      "source": [
        "\n",
        "# Define test function\n",
        "f, dim, bounds = branin()\n",
        "\n",
        "# Problem settings\n",
        "N = 10\n",
        "noise = 0.0\n",
        "lb, ub = bounds\n",
        "\n",
        "# Initial training data\n",
        "X = lb + (ub-lb)*lhs(dim, N,criterion='center')\n",
        "y = vmap(f)(X)\n",
        "#y = y + noise*y.std(0)*onp.random.randn(N,)\n",
        "\n",
        "# Test data\n",
        "nn = 80\n",
        "xx = np.linspace(lb[0], ub[0], nn)\n",
        "yy = np.linspace(lb[1], ub[1], nn)\n",
        "XX, YY = np.meshgrid(xx, yy)\n",
        "X_star = np.concatenate([XX.flatten()[:,None], \n",
        "                          YY.flatten()[:,None]], axis = 1)\n",
        "y_star = vmap(f)(X_star)\n",
        "\n",
        "# Normalized test inputs\n",
        "X_test = (X_star - lb)/(ub-lb)"
      ],
      "metadata": {
        "id": "gb8_cbQZ1CGh"
      },
      "execution_count": null,
      "outputs": []
    },
    {
      "cell_type": "code",
      "source": [
        "model = GPRegression(kernel_fn = RBF, acq_fn = 'PI')"
      ],
      "metadata": {
        "id": "MsU4OsWp1FgC"
      },
      "execution_count": null,
      "outputs": []
    },
    {
      "cell_type": "code",
      "source": [
        "\n",
        "# Active learning loop\n",
        "num_iter = 50\n",
        "error_log = []\n",
        "\n",
        "for it in range(num_iter):\n",
        "    print('\\n')\n",
        "    print('-------------------------------------------------------------------')\n",
        "    print('------------------------- Iteration %d/%d -------------------------' % (it+1, num_iter))\n",
        "    print('-------------------------------------------------------------------')\n",
        "\n",
        "    # Normalize training data\n",
        "    mu_y, sigma_y = y.mean(0), y.std(0)\n",
        "    X_train = (X - lb)/(ub-lb)\n",
        "    y_train = (y - mu_y)/sigma_y\n",
        "\n",
        "    # Train model\n",
        "    print('\\nTrain GP...')\n",
        "    train_key = random.PRNGKey(it)\n",
        "    opt_params = model.train((X_train, y_train), train_key, num_restarts = 50)\n",
        "\n",
        "    # Select next best point\n",
        "    print('\\nCompute next acquisition point...')\n",
        "    new_X = model.next_best_point(opt_params, (X_train, y_train), bounds, train_key, num_restarts = 50)\n",
        "\n",
        "    # Acquire data\n",
        "    new_y = vmap(f)(new_X)\n",
        "    new_y = new_y + noise*new_y.std(0)*onp.random.randn(1,)\n",
        "\n",
        "    # Augment training data\n",
        "    X = np.concatenate([X, new_X], axis = 0)\n",
        "    y = np.concatenate([y, new_y], axis = 0)\n",
        "\n",
        "    # Monitor prediction error\n",
        "    mean, std = model.predict(opt_params, (X_train, y_train), X_test)\n",
        "    mean, std = mean*sigma_y + mu_y, std*sigma_y      # De-normalize predictions\n",
        "    error = np.linalg.norm(mean-y_star,2)/np.linalg.norm(y_star,2)\n",
        "    print('\\nRelative L2 error: %e\\n' % (error))\n",
        "    error_log.append(error)"
      ],
      "metadata": {
        "colab": {
          "base_uri": "https://localhost:8080/"
        },
        "id": "moYgJBcY1IMS",
        "outputId": "8a54ccf9-ce30-4637-cefe-4e641d52f475"
      },
      "execution_count": null,
      "outputs": [
        {
          "output_type": "stream",
          "name": "stdout",
          "text": [
            "\n",
            "\n",
            "-------------------------------------------------------------------\n",
            "------------------------- Iteration 1/50 -------------------------\n",
            "-------------------------------------------------------------------\n",
            "\n",
            "Train GP...\n"
          ]
        },
        {
          "output_type": "stream",
          "name": "stderr",
          "text": [
            "100%|██████████| 50/50 [00:02<00:00, 18.23it/s]\n"
          ]
        },
        {
          "output_type": "stream",
          "name": "stdout",
          "text": [
            "\n",
            "Compute next acquisition point...\n"
          ]
        },
        {
          "output_type": "stream",
          "name": "stderr",
          "text": [
            "100%|██████████| 50/50 [00:01<00:00, 32.31it/s]\n"
          ]
        },
        {
          "output_type": "stream",
          "name": "stdout",
          "text": [
            "\n",
            "Relative L2 error: 7.699597e-01\n",
            "\n",
            "\n",
            "\n",
            "-------------------------------------------------------------------\n",
            "------------------------- Iteration 2/50 -------------------------\n",
            "-------------------------------------------------------------------\n",
            "\n",
            "Train GP...\n"
          ]
        },
        {
          "output_type": "stream",
          "name": "stderr",
          "text": [
            "100%|██████████| 50/50 [00:03<00:00, 14.54it/s]\n"
          ]
        },
        {
          "output_type": "stream",
          "name": "stdout",
          "text": [
            "\n",
            "Compute next acquisition point...\n"
          ]
        },
        {
          "output_type": "stream",
          "name": "stderr",
          "text": [
            "100%|██████████| 50/50 [00:01<00:00, 42.80it/s]\n"
          ]
        },
        {
          "output_type": "stream",
          "name": "stdout",
          "text": [
            "\n",
            "Relative L2 error: 7.646077e-01\n",
            "\n",
            "\n",
            "\n",
            "-------------------------------------------------------------------\n",
            "------------------------- Iteration 3/50 -------------------------\n",
            "-------------------------------------------------------------------\n",
            "\n",
            "Train GP...\n"
          ]
        },
        {
          "output_type": "stream",
          "name": "stderr",
          "text": [
            "100%|██████████| 50/50 [00:03<00:00, 16.06it/s]\n"
          ]
        },
        {
          "output_type": "stream",
          "name": "stdout",
          "text": [
            "\n",
            "Compute next acquisition point...\n"
          ]
        },
        {
          "output_type": "stream",
          "name": "stderr",
          "text": [
            "100%|██████████| 50/50 [00:01<00:00, 25.68it/s]\n"
          ]
        },
        {
          "output_type": "stream",
          "name": "stdout",
          "text": [
            "\n",
            "Relative L2 error: 7.320258e-01\n",
            "\n",
            "\n",
            "\n",
            "-------------------------------------------------------------------\n",
            "------------------------- Iteration 4/50 -------------------------\n",
            "-------------------------------------------------------------------\n",
            "\n",
            "Train GP...\n"
          ]
        },
        {
          "output_type": "stream",
          "name": "stderr",
          "text": [
            "100%|██████████| 50/50 [00:03<00:00, 15.85it/s]\n"
          ]
        },
        {
          "output_type": "stream",
          "name": "stdout",
          "text": [
            "\n",
            "Compute next acquisition point...\n"
          ]
        },
        {
          "output_type": "stream",
          "name": "stderr",
          "text": [
            "100%|██████████| 50/50 [00:01<00:00, 26.95it/s]\n"
          ]
        },
        {
          "output_type": "stream",
          "name": "stdout",
          "text": [
            "\n",
            "Relative L2 error: 8.621913e-01\n",
            "\n",
            "\n",
            "\n",
            "-------------------------------------------------------------------\n",
            "------------------------- Iteration 5/50 -------------------------\n",
            "-------------------------------------------------------------------\n",
            "\n",
            "Train GP...\n"
          ]
        },
        {
          "output_type": "stream",
          "name": "stderr",
          "text": [
            "100%|██████████| 50/50 [00:03<00:00, 14.02it/s]\n"
          ]
        },
        {
          "output_type": "stream",
          "name": "stdout",
          "text": [
            "\n",
            "Compute next acquisition point...\n"
          ]
        },
        {
          "output_type": "stream",
          "name": "stderr",
          "text": [
            "100%|██████████| 50/50 [00:01<00:00, 25.40it/s]\n"
          ]
        },
        {
          "output_type": "stream",
          "name": "stdout",
          "text": [
            "\n",
            "Relative L2 error: 8.942026e-01\n",
            "\n",
            "\n",
            "\n",
            "-------------------------------------------------------------------\n",
            "------------------------- Iteration 6/50 -------------------------\n",
            "-------------------------------------------------------------------\n",
            "\n",
            "Train GP...\n"
          ]
        },
        {
          "output_type": "stream",
          "name": "stderr",
          "text": [
            "100%|██████████| 50/50 [00:04<00:00, 12.14it/s]\n"
          ]
        },
        {
          "output_type": "stream",
          "name": "stdout",
          "text": [
            "\n",
            "Compute next acquisition point...\n"
          ]
        },
        {
          "output_type": "stream",
          "name": "stderr",
          "text": [
            "100%|██████████| 50/50 [00:01<00:00, 26.03it/s]\n"
          ]
        },
        {
          "output_type": "stream",
          "name": "stdout",
          "text": [
            "\n",
            "Relative L2 error: 9.448701e-01\n",
            "\n",
            "\n",
            "\n",
            "-------------------------------------------------------------------\n",
            "------------------------- Iteration 7/50 -------------------------\n",
            "-------------------------------------------------------------------\n",
            "\n",
            "Train GP...\n"
          ]
        },
        {
          "output_type": "stream",
          "name": "stderr",
          "text": [
            "100%|██████████| 50/50 [00:03<00:00, 13.22it/s]\n"
          ]
        },
        {
          "output_type": "stream",
          "name": "stdout",
          "text": [
            "\n",
            "Compute next acquisition point...\n"
          ]
        },
        {
          "output_type": "stream",
          "name": "stderr",
          "text": [
            "100%|██████████| 50/50 [00:01<00:00, 35.12it/s]\n"
          ]
        },
        {
          "output_type": "stream",
          "name": "stdout",
          "text": [
            "\n",
            "Relative L2 error: 1.016250e+00\n",
            "\n",
            "\n",
            "\n",
            "-------------------------------------------------------------------\n",
            "------------------------- Iteration 8/50 -------------------------\n",
            "-------------------------------------------------------------------\n",
            "\n",
            "Train GP...\n"
          ]
        },
        {
          "output_type": "stream",
          "name": "stderr",
          "text": [
            "100%|██████████| 50/50 [00:04<00:00, 12.07it/s]\n"
          ]
        },
        {
          "output_type": "stream",
          "name": "stdout",
          "text": [
            "\n",
            "Compute next acquisition point...\n"
          ]
        },
        {
          "output_type": "stream",
          "name": "stderr",
          "text": [
            "100%|██████████| 50/50 [00:01<00:00, 26.23it/s]\n"
          ]
        },
        {
          "output_type": "stream",
          "name": "stdout",
          "text": [
            "\n",
            "Relative L2 error: 1.131076e+00\n",
            "\n",
            "\n",
            "\n",
            "-------------------------------------------------------------------\n",
            "------------------------- Iteration 9/50 -------------------------\n",
            "-------------------------------------------------------------------\n",
            "\n",
            "Train GP...\n"
          ]
        },
        {
          "output_type": "stream",
          "name": "stderr",
          "text": [
            "100%|██████████| 50/50 [00:04<00:00, 12.29it/s]\n"
          ]
        },
        {
          "output_type": "stream",
          "name": "stdout",
          "text": [
            "\n",
            "Compute next acquisition point...\n"
          ]
        },
        {
          "output_type": "stream",
          "name": "stderr",
          "text": [
            "100%|██████████| 50/50 [00:01<00:00, 36.15it/s]\n"
          ]
        },
        {
          "output_type": "stream",
          "name": "stdout",
          "text": [
            "\n",
            "Relative L2 error: 1.195298e+00\n",
            "\n",
            "\n",
            "\n",
            "-------------------------------------------------------------------\n",
            "------------------------- Iteration 10/50 -------------------------\n",
            "-------------------------------------------------------------------\n",
            "\n",
            "Train GP...\n"
          ]
        },
        {
          "output_type": "stream",
          "name": "stderr",
          "text": [
            "100%|██████████| 50/50 [00:04<00:00, 11.38it/s]\n"
          ]
        },
        {
          "output_type": "stream",
          "name": "stdout",
          "text": [
            "\n",
            "Compute next acquisition point...\n"
          ]
        },
        {
          "output_type": "stream",
          "name": "stderr",
          "text": [
            "100%|██████████| 50/50 [00:01<00:00, 27.37it/s]\n"
          ]
        },
        {
          "output_type": "stream",
          "name": "stdout",
          "text": [
            "\n",
            "Relative L2 error: 1.247639e+00\n",
            "\n",
            "\n",
            "\n",
            "-------------------------------------------------------------------\n",
            "------------------------- Iteration 11/50 -------------------------\n",
            "-------------------------------------------------------------------\n",
            "\n",
            "Train GP...\n"
          ]
        },
        {
          "output_type": "stream",
          "name": "stderr",
          "text": [
            "100%|██████████| 50/50 [00:04<00:00, 12.19it/s]\n"
          ]
        },
        {
          "output_type": "stream",
          "name": "stdout",
          "text": [
            "\n",
            "Compute next acquisition point...\n"
          ]
        },
        {
          "output_type": "stream",
          "name": "stderr",
          "text": [
            "100%|██████████| 50/50 [00:01<00:00, 35.23it/s]\n"
          ]
        },
        {
          "output_type": "stream",
          "name": "stdout",
          "text": [
            "\n",
            "Relative L2 error: 1.302746e+00\n",
            "\n",
            "\n",
            "\n",
            "-------------------------------------------------------------------\n",
            "------------------------- Iteration 12/50 -------------------------\n",
            "-------------------------------------------------------------------\n",
            "\n",
            "Train GP...\n"
          ]
        },
        {
          "output_type": "stream",
          "name": "stderr",
          "text": [
            "100%|██████████| 50/50 [00:04<00:00, 11.52it/s]\n"
          ]
        },
        {
          "output_type": "stream",
          "name": "stdout",
          "text": [
            "\n",
            "Compute next acquisition point...\n"
          ]
        },
        {
          "output_type": "stream",
          "name": "stderr",
          "text": [
            "100%|██████████| 50/50 [00:01<00:00, 26.83it/s]\n"
          ]
        },
        {
          "output_type": "stream",
          "name": "stdout",
          "text": [
            "\n",
            "Relative L2 error: 1.348561e+00\n",
            "\n",
            "\n",
            "\n",
            "-------------------------------------------------------------------\n",
            "------------------------- Iteration 13/50 -------------------------\n",
            "-------------------------------------------------------------------\n",
            "\n",
            "Train GP...\n"
          ]
        },
        {
          "output_type": "stream",
          "name": "stderr",
          "text": [
            "100%|██████████| 50/50 [00:04<00:00, 12.11it/s]\n"
          ]
        },
        {
          "output_type": "stream",
          "name": "stdout",
          "text": [
            "\n",
            "Compute next acquisition point...\n"
          ]
        },
        {
          "output_type": "stream",
          "name": "stderr",
          "text": [
            "100%|██████████| 50/50 [00:01<00:00, 38.30it/s]\n"
          ]
        },
        {
          "output_type": "stream",
          "name": "stdout",
          "text": [
            "\n",
            "Relative L2 error: 1.390563e+00\n",
            "\n",
            "\n",
            "\n",
            "-------------------------------------------------------------------\n",
            "------------------------- Iteration 14/50 -------------------------\n",
            "-------------------------------------------------------------------\n",
            "\n",
            "Train GP...\n"
          ]
        },
        {
          "output_type": "stream",
          "name": "stderr",
          "text": [
            "100%|██████████| 50/50 [00:04<00:00, 11.87it/s]\n"
          ]
        },
        {
          "output_type": "stream",
          "name": "stdout",
          "text": [
            "\n",
            "Compute next acquisition point...\n"
          ]
        },
        {
          "output_type": "stream",
          "name": "stderr",
          "text": [
            "100%|██████████| 50/50 [00:01<00:00, 28.51it/s]\n"
          ]
        },
        {
          "output_type": "stream",
          "name": "stdout",
          "text": [
            "\n",
            "Relative L2 error: 1.428276e+00\n",
            "\n",
            "\n",
            "\n",
            "-------------------------------------------------------------------\n",
            "------------------------- Iteration 15/50 -------------------------\n",
            "-------------------------------------------------------------------\n",
            "\n",
            "Train GP...\n"
          ]
        },
        {
          "output_type": "stream",
          "name": "stderr",
          "text": [
            "100%|██████████| 50/50 [00:04<00:00, 10.33it/s]\n"
          ]
        },
        {
          "output_type": "stream",
          "name": "stdout",
          "text": [
            "\n",
            "Compute next acquisition point...\n"
          ]
        },
        {
          "output_type": "stream",
          "name": "stderr",
          "text": [
            "100%|██████████| 50/50 [00:01<00:00, 41.32it/s]\n"
          ]
        },
        {
          "output_type": "stream",
          "name": "stdout",
          "text": [
            "\n",
            "Relative L2 error: 1.462249e+00\n",
            "\n",
            "\n",
            "\n",
            "-------------------------------------------------------------------\n",
            "------------------------- Iteration 16/50 -------------------------\n",
            "-------------------------------------------------------------------\n",
            "\n",
            "Train GP...\n"
          ]
        },
        {
          "output_type": "stream",
          "name": "stderr",
          "text": [
            "100%|██████████| 50/50 [00:04<00:00, 11.37it/s]\n"
          ]
        },
        {
          "output_type": "stream",
          "name": "stdout",
          "text": [
            "\n",
            "Compute next acquisition point...\n"
          ]
        },
        {
          "output_type": "stream",
          "name": "stderr",
          "text": [
            "100%|██████████| 50/50 [00:01<00:00, 32.21it/s]\n"
          ]
        },
        {
          "output_type": "stream",
          "name": "stdout",
          "text": [
            "\n",
            "Relative L2 error: 1.374622e+00\n",
            "\n",
            "\n",
            "\n",
            "-------------------------------------------------------------------\n",
            "------------------------- Iteration 17/50 -------------------------\n",
            "-------------------------------------------------------------------\n",
            "\n",
            "Train GP...\n"
          ]
        },
        {
          "output_type": "stream",
          "name": "stderr",
          "text": [
            "100%|██████████| 50/50 [00:03<00:00, 12.85it/s]\n"
          ]
        },
        {
          "output_type": "stream",
          "name": "stdout",
          "text": [
            "\n",
            "Compute next acquisition point...\n"
          ]
        },
        {
          "output_type": "stream",
          "name": "stderr",
          "text": [
            "100%|██████████| 50/50 [00:01<00:00, 36.68it/s]\n"
          ]
        },
        {
          "output_type": "stream",
          "name": "stdout",
          "text": [
            "\n",
            "Relative L2 error: 1.404535e+00\n",
            "\n",
            "\n",
            "\n",
            "-------------------------------------------------------------------\n",
            "------------------------- Iteration 18/50 -------------------------\n",
            "-------------------------------------------------------------------\n",
            "\n",
            "Train GP...\n"
          ]
        },
        {
          "output_type": "stream",
          "name": "stderr",
          "text": [
            "100%|██████████| 50/50 [00:04<00:00, 11.76it/s]\n"
          ]
        },
        {
          "output_type": "stream",
          "name": "stdout",
          "text": [
            "\n",
            "Compute next acquisition point...\n"
          ]
        },
        {
          "output_type": "stream",
          "name": "stderr",
          "text": [
            "100%|██████████| 50/50 [00:01<00:00, 29.70it/s]\n"
          ]
        },
        {
          "output_type": "stream",
          "name": "stdout",
          "text": [
            "\n",
            "Relative L2 error: 1.313534e+00\n",
            "\n",
            "\n",
            "\n",
            "-------------------------------------------------------------------\n",
            "------------------------- Iteration 19/50 -------------------------\n",
            "-------------------------------------------------------------------\n",
            "\n",
            "Train GP...\n"
          ]
        },
        {
          "output_type": "stream",
          "name": "stderr",
          "text": [
            "100%|██████████| 50/50 [00:03<00:00, 12.96it/s]\n"
          ]
        },
        {
          "output_type": "stream",
          "name": "stdout",
          "text": [
            "\n",
            "Compute next acquisition point...\n"
          ]
        },
        {
          "output_type": "stream",
          "name": "stderr",
          "text": [
            "100%|██████████| 50/50 [00:01<00:00, 40.03it/s]\n"
          ]
        },
        {
          "output_type": "stream",
          "name": "stdout",
          "text": [
            "\n",
            "Relative L2 error: 1.339299e+00\n",
            "\n",
            "\n",
            "\n",
            "-------------------------------------------------------------------\n",
            "------------------------- Iteration 20/50 -------------------------\n",
            "-------------------------------------------------------------------\n",
            "\n",
            "Train GP...\n"
          ]
        },
        {
          "output_type": "stream",
          "name": "stderr",
          "text": [
            "100%|██████████| 50/50 [00:04<00:00, 11.97it/s]\n"
          ]
        },
        {
          "output_type": "stream",
          "name": "stdout",
          "text": [
            "\n",
            "Compute next acquisition point...\n"
          ]
        },
        {
          "output_type": "stream",
          "name": "stderr",
          "text": [
            "100%|██████████| 50/50 [00:01<00:00, 26.83it/s]\n"
          ]
        },
        {
          "output_type": "stream",
          "name": "stdout",
          "text": [
            "\n",
            "Relative L2 error: 1.244053e+00\n",
            "\n",
            "\n",
            "\n",
            "-------------------------------------------------------------------\n",
            "------------------------- Iteration 21/50 -------------------------\n",
            "-------------------------------------------------------------------\n",
            "\n",
            "Train GP...\n"
          ]
        },
        {
          "output_type": "stream",
          "name": "stderr",
          "text": [
            "100%|██████████| 50/50 [00:04<00:00, 12.47it/s]\n"
          ]
        },
        {
          "output_type": "stream",
          "name": "stdout",
          "text": [
            "\n",
            "Compute next acquisition point...\n"
          ]
        },
        {
          "output_type": "stream",
          "name": "stderr",
          "text": [
            "100%|██████████| 50/50 [00:01<00:00, 38.32it/s]\n"
          ]
        },
        {
          "output_type": "stream",
          "name": "stdout",
          "text": [
            "\n",
            "Relative L2 error: 1.265070e+00\n",
            "\n",
            "\n",
            "\n",
            "-------------------------------------------------------------------\n",
            "------------------------- Iteration 22/50 -------------------------\n",
            "-------------------------------------------------------------------\n",
            "\n",
            "Train GP...\n"
          ]
        },
        {
          "output_type": "stream",
          "name": "stderr",
          "text": [
            "100%|██████████| 50/50 [00:03<00:00, 13.09it/s]\n"
          ]
        },
        {
          "output_type": "stream",
          "name": "stdout",
          "text": [
            "\n",
            "Compute next acquisition point...\n"
          ]
        },
        {
          "output_type": "stream",
          "name": "stderr",
          "text": [
            "100%|██████████| 50/50 [00:01<00:00, 26.73it/s]\n"
          ]
        },
        {
          "output_type": "stream",
          "name": "stdout",
          "text": [
            "\n",
            "Relative L2 error: 1.158302e+00\n",
            "\n",
            "\n",
            "\n",
            "-------------------------------------------------------------------\n",
            "------------------------- Iteration 23/50 -------------------------\n",
            "-------------------------------------------------------------------\n",
            "\n",
            "Train GP...\n"
          ]
        },
        {
          "output_type": "stream",
          "name": "stderr",
          "text": [
            "100%|██████████| 50/50 [00:03<00:00, 14.02it/s]\n"
          ]
        },
        {
          "output_type": "stream",
          "name": "stdout",
          "text": [
            "\n",
            "Compute next acquisition point...\n"
          ]
        },
        {
          "output_type": "stream",
          "name": "stderr",
          "text": [
            "100%|██████████| 50/50 [00:01<00:00, 37.95it/s]\n"
          ]
        },
        {
          "output_type": "stream",
          "name": "stdout",
          "text": [
            "\n",
            "Relative L2 error: 1.060289e+00\n",
            "\n",
            "\n",
            "\n",
            "-------------------------------------------------------------------\n",
            "------------------------- Iteration 24/50 -------------------------\n",
            "-------------------------------------------------------------------\n",
            "\n",
            "Train GP...\n"
          ]
        },
        {
          "output_type": "stream",
          "name": "stderr",
          "text": [
            "100%|██████████| 50/50 [00:03<00:00, 13.82it/s]\n"
          ]
        },
        {
          "output_type": "stream",
          "name": "stdout",
          "text": [
            "\n",
            "Compute next acquisition point...\n"
          ]
        },
        {
          "output_type": "stream",
          "name": "stderr",
          "text": [
            "100%|██████████| 50/50 [00:01<00:00, 35.29it/s]\n"
          ]
        },
        {
          "output_type": "stream",
          "name": "stdout",
          "text": [
            "\n",
            "Relative L2 error: 1.073797e+00\n",
            "\n",
            "\n",
            "\n",
            "-------------------------------------------------------------------\n",
            "------------------------- Iteration 25/50 -------------------------\n",
            "-------------------------------------------------------------------\n",
            "\n",
            "Train GP...\n"
          ]
        },
        {
          "output_type": "stream",
          "name": "stderr",
          "text": [
            "100%|██████████| 50/50 [00:04<00:00, 12.02it/s]\n"
          ]
        },
        {
          "output_type": "stream",
          "name": "stdout",
          "text": [
            "\n",
            "Compute next acquisition point...\n"
          ]
        },
        {
          "output_type": "stream",
          "name": "stderr",
          "text": [
            "100%|██████████| 50/50 [00:01<00:00, 37.89it/s]\n"
          ]
        },
        {
          "output_type": "stream",
          "name": "stdout",
          "text": [
            "\n",
            "Relative L2 error: 1.022114e+00\n",
            "\n",
            "\n",
            "\n",
            "-------------------------------------------------------------------\n",
            "------------------------- Iteration 26/50 -------------------------\n",
            "-------------------------------------------------------------------\n",
            "\n",
            "Train GP...\n"
          ]
        },
        {
          "output_type": "stream",
          "name": "stderr",
          "text": [
            "100%|██████████| 50/50 [00:03<00:00, 13.73it/s]\n"
          ]
        },
        {
          "output_type": "stream",
          "name": "stdout",
          "text": [
            "\n",
            "Compute next acquisition point...\n"
          ]
        },
        {
          "output_type": "stream",
          "name": "stderr",
          "text": [
            "100%|██████████| 50/50 [00:01<00:00, 37.82it/s]\n"
          ]
        },
        {
          "output_type": "stream",
          "name": "stdout",
          "text": [
            "\n",
            "Relative L2 error: 1.033794e+00\n",
            "\n",
            "\n",
            "\n",
            "-------------------------------------------------------------------\n",
            "------------------------- Iteration 27/50 -------------------------\n",
            "-------------------------------------------------------------------\n",
            "\n",
            "Train GP...\n"
          ]
        },
        {
          "output_type": "stream",
          "name": "stderr",
          "text": [
            "100%|██████████| 50/50 [00:04<00:00, 12.23it/s]\n"
          ]
        },
        {
          "output_type": "stream",
          "name": "stdout",
          "text": [
            "\n",
            "Compute next acquisition point...\n"
          ]
        },
        {
          "output_type": "stream",
          "name": "stderr",
          "text": [
            "100%|██████████| 50/50 [00:01<00:00, 37.39it/s]\n"
          ]
        },
        {
          "output_type": "stream",
          "name": "stdout",
          "text": [
            "\n",
            "Relative L2 error: 9.001247e-01\n",
            "\n",
            "\n",
            "\n",
            "-------------------------------------------------------------------\n",
            "------------------------- Iteration 28/50 -------------------------\n",
            "-------------------------------------------------------------------\n",
            "\n",
            "Train GP...\n"
          ]
        },
        {
          "output_type": "stream",
          "name": "stderr",
          "text": [
            "100%|██████████| 50/50 [00:03<00:00, 12.73it/s]\n"
          ]
        },
        {
          "output_type": "stream",
          "name": "stdout",
          "text": [
            "\n",
            "Compute next acquisition point...\n"
          ]
        },
        {
          "output_type": "stream",
          "name": "stderr",
          "text": [
            "100%|██████████| 50/50 [00:01<00:00, 38.41it/s]\n"
          ]
        },
        {
          "output_type": "stream",
          "name": "stdout",
          "text": [
            "\n",
            "Relative L2 error: 9.073931e-01\n",
            "\n",
            "\n",
            "\n",
            "-------------------------------------------------------------------\n",
            "------------------------- Iteration 29/50 -------------------------\n",
            "-------------------------------------------------------------------\n",
            "\n",
            "Train GP...\n"
          ]
        },
        {
          "output_type": "stream",
          "name": "stderr",
          "text": [
            "100%|██████████| 50/50 [00:03<00:00, 12.58it/s]\n"
          ]
        },
        {
          "output_type": "stream",
          "name": "stdout",
          "text": [
            "\n",
            "Compute next acquisition point...\n"
          ]
        },
        {
          "output_type": "stream",
          "name": "stderr",
          "text": [
            "100%|██████████| 50/50 [00:01<00:00, 39.43it/s]\n"
          ]
        },
        {
          "output_type": "stream",
          "name": "stdout",
          "text": [
            "\n",
            "Relative L2 error: 9.165534e-01\n",
            "\n",
            "\n",
            "\n",
            "-------------------------------------------------------------------\n",
            "------------------------- Iteration 30/50 -------------------------\n",
            "-------------------------------------------------------------------\n",
            "\n",
            "Train GP...\n"
          ]
        },
        {
          "output_type": "stream",
          "name": "stderr",
          "text": [
            "100%|██████████| 50/50 [00:03<00:00, 13.26it/s]\n"
          ]
        },
        {
          "output_type": "stream",
          "name": "stdout",
          "text": [
            "\n",
            "Compute next acquisition point...\n"
          ]
        },
        {
          "output_type": "stream",
          "name": "stderr",
          "text": [
            "100%|██████████| 50/50 [00:01<00:00, 39.46it/s]\n"
          ]
        },
        {
          "output_type": "stream",
          "name": "stdout",
          "text": [
            "\n",
            "Relative L2 error: 9.222268e-01\n",
            "\n",
            "\n",
            "\n",
            "-------------------------------------------------------------------\n",
            "------------------------- Iteration 31/50 -------------------------\n",
            "-------------------------------------------------------------------\n",
            "\n",
            "Train GP...\n"
          ]
        },
        {
          "output_type": "stream",
          "name": "stderr",
          "text": [
            "100%|██████████| 50/50 [00:03<00:00, 13.37it/s]\n"
          ]
        },
        {
          "output_type": "stream",
          "name": "stdout",
          "text": [
            "\n",
            "Compute next acquisition point...\n"
          ]
        },
        {
          "output_type": "stream",
          "name": "stderr",
          "text": [
            "100%|██████████| 50/50 [00:01<00:00, 28.76it/s]\n"
          ]
        },
        {
          "output_type": "stream",
          "name": "stdout",
          "text": [
            "\n",
            "Relative L2 error: 9.272864e-01\n",
            "\n",
            "\n",
            "\n",
            "-------------------------------------------------------------------\n",
            "------------------------- Iteration 32/50 -------------------------\n",
            "-------------------------------------------------------------------\n",
            "\n",
            "Train GP...\n"
          ]
        },
        {
          "output_type": "stream",
          "name": "stderr",
          "text": [
            "100%|██████████| 50/50 [00:03<00:00, 15.10it/s]\n"
          ]
        },
        {
          "output_type": "stream",
          "name": "stdout",
          "text": [
            "\n",
            "Compute next acquisition point...\n"
          ]
        },
        {
          "output_type": "stream",
          "name": "stderr",
          "text": [
            "100%|██████████| 50/50 [00:01<00:00, 39.58it/s]\n"
          ]
        },
        {
          "output_type": "stream",
          "name": "stdout",
          "text": [
            "\n",
            "Relative L2 error: 9.318412e-01\n",
            "\n",
            "\n",
            "\n",
            "-------------------------------------------------------------------\n",
            "------------------------- Iteration 33/50 -------------------------\n",
            "-------------------------------------------------------------------\n",
            "\n",
            "Train GP...\n"
          ]
        },
        {
          "output_type": "stream",
          "name": "stderr",
          "text": [
            "100%|██████████| 50/50 [00:03<00:00, 13.16it/s]\n"
          ]
        },
        {
          "output_type": "stream",
          "name": "stdout",
          "text": [
            "\n",
            "Compute next acquisition point...\n"
          ]
        },
        {
          "output_type": "stream",
          "name": "stderr",
          "text": [
            "100%|██████████| 50/50 [00:01<00:00, 29.37it/s]\n"
          ]
        },
        {
          "output_type": "stream",
          "name": "stdout",
          "text": [
            "\n",
            "Relative L2 error: 9.359520e-01\n",
            "\n",
            "\n",
            "\n",
            "-------------------------------------------------------------------\n",
            "------------------------- Iteration 34/50 -------------------------\n",
            "-------------------------------------------------------------------\n",
            "\n",
            "Train GP...\n"
          ]
        },
        {
          "output_type": "stream",
          "name": "stderr",
          "text": [
            "100%|██████████| 50/50 [00:03<00:00, 13.02it/s]\n"
          ]
        },
        {
          "output_type": "stream",
          "name": "stdout",
          "text": [
            "\n",
            "Compute next acquisition point...\n"
          ]
        },
        {
          "output_type": "stream",
          "name": "stderr",
          "text": [
            "100%|██████████| 50/50 [00:01<00:00, 39.30it/s]\n"
          ]
        },
        {
          "output_type": "stream",
          "name": "stdout",
          "text": [
            "\n",
            "Relative L2 error: 9.397027e-01\n",
            "\n",
            "\n",
            "\n",
            "-------------------------------------------------------------------\n",
            "------------------------- Iteration 35/50 -------------------------\n",
            "-------------------------------------------------------------------\n",
            "\n",
            "Train GP...\n"
          ]
        },
        {
          "output_type": "stream",
          "name": "stderr",
          "text": [
            "100%|██████████| 50/50 [00:03<00:00, 12.86it/s]\n"
          ]
        },
        {
          "output_type": "stream",
          "name": "stdout",
          "text": [
            "\n",
            "Compute next acquisition point...\n"
          ]
        },
        {
          "output_type": "stream",
          "name": "stderr",
          "text": [
            "100%|██████████| 50/50 [00:01<00:00, 36.31it/s]\n"
          ]
        },
        {
          "output_type": "stream",
          "name": "stdout",
          "text": [
            "\n",
            "Relative L2 error: 9.431314e-01\n",
            "\n",
            "\n",
            "\n",
            "-------------------------------------------------------------------\n",
            "------------------------- Iteration 36/50 -------------------------\n",
            "-------------------------------------------------------------------\n",
            "\n",
            "Train GP...\n"
          ]
        },
        {
          "output_type": "stream",
          "name": "stderr",
          "text": [
            "100%|██████████| 50/50 [00:04<00:00, 11.23it/s]\n"
          ]
        },
        {
          "output_type": "stream",
          "name": "stdout",
          "text": [
            "\n",
            "Compute next acquisition point...\n"
          ]
        },
        {
          "output_type": "stream",
          "name": "stderr",
          "text": [
            "100%|██████████| 50/50 [00:01<00:00, 37.41it/s]\n"
          ]
        },
        {
          "output_type": "stream",
          "name": "stdout",
          "text": [
            "\n",
            "Relative L2 error: 9.462704e-01\n",
            "\n",
            "\n",
            "\n",
            "-------------------------------------------------------------------\n",
            "------------------------- Iteration 37/50 -------------------------\n",
            "-------------------------------------------------------------------\n",
            "\n",
            "Train GP...\n"
          ]
        },
        {
          "output_type": "stream",
          "name": "stderr",
          "text": [
            "100%|██████████| 50/50 [00:04<00:00, 12.15it/s]\n"
          ]
        },
        {
          "output_type": "stream",
          "name": "stdout",
          "text": [
            "\n",
            "Compute next acquisition point...\n"
          ]
        },
        {
          "output_type": "stream",
          "name": "stderr",
          "text": [
            "100%|██████████| 50/50 [00:01<00:00, 38.26it/s]\n"
          ]
        },
        {
          "output_type": "stream",
          "name": "stdout",
          "text": [
            "\n",
            "Relative L2 error: 9.491799e-01\n",
            "\n",
            "\n",
            "\n",
            "-------------------------------------------------------------------\n",
            "------------------------- Iteration 38/50 -------------------------\n",
            "-------------------------------------------------------------------\n",
            "\n",
            "Train GP...\n"
          ]
        },
        {
          "output_type": "stream",
          "name": "stderr",
          "text": [
            "100%|██████████| 50/50 [00:04<00:00, 11.16it/s]\n"
          ]
        },
        {
          "output_type": "stream",
          "name": "stdout",
          "text": [
            "\n",
            "Compute next acquisition point...\n"
          ]
        },
        {
          "output_type": "stream",
          "name": "stderr",
          "text": [
            "100%|██████████| 50/50 [00:01<00:00, 39.06it/s]\n"
          ]
        },
        {
          "output_type": "stream",
          "name": "stdout",
          "text": [
            "\n",
            "Relative L2 error: 9.518799e-01\n",
            "\n",
            "\n",
            "\n",
            "-------------------------------------------------------------------\n",
            "------------------------- Iteration 39/50 -------------------------\n",
            "-------------------------------------------------------------------\n",
            "\n",
            "Train GP...\n"
          ]
        },
        {
          "output_type": "stream",
          "name": "stderr",
          "text": [
            "100%|██████████| 50/50 [00:04<00:00, 11.37it/s]\n"
          ]
        },
        {
          "output_type": "stream",
          "name": "stdout",
          "text": [
            "\n",
            "Compute next acquisition point...\n"
          ]
        },
        {
          "output_type": "stream",
          "name": "stderr",
          "text": [
            "100%|██████████| 50/50 [00:01<00:00, 37.14it/s]\n"
          ]
        },
        {
          "output_type": "stream",
          "name": "stdout",
          "text": [
            "\n",
            "Relative L2 error: 9.544052e-01\n",
            "\n",
            "\n",
            "\n",
            "-------------------------------------------------------------------\n",
            "------------------------- Iteration 40/50 -------------------------\n",
            "-------------------------------------------------------------------\n",
            "\n",
            "Train GP...\n"
          ]
        },
        {
          "output_type": "stream",
          "name": "stderr",
          "text": [
            "100%|██████████| 50/50 [00:05<00:00,  9.91it/s]\n"
          ]
        },
        {
          "output_type": "stream",
          "name": "stdout",
          "text": [
            "\n",
            "Compute next acquisition point...\n"
          ]
        },
        {
          "output_type": "stream",
          "name": "stderr",
          "text": [
            "100%|██████████| 50/50 [00:01<00:00, 38.88it/s]\n"
          ]
        },
        {
          "output_type": "stream",
          "name": "stdout",
          "text": [
            "\n",
            "Relative L2 error: 9.567581e-01\n",
            "\n",
            "\n",
            "\n",
            "-------------------------------------------------------------------\n",
            "------------------------- Iteration 41/50 -------------------------\n",
            "-------------------------------------------------------------------\n",
            "\n",
            "Train GP...\n"
          ]
        },
        {
          "output_type": "stream",
          "name": "stderr",
          "text": [
            "100%|██████████| 50/50 [00:04<00:00, 11.28it/s]\n"
          ]
        },
        {
          "output_type": "stream",
          "name": "stdout",
          "text": [
            "\n",
            "Compute next acquisition point...\n"
          ]
        },
        {
          "output_type": "stream",
          "name": "stderr",
          "text": [
            "100%|██████████| 50/50 [00:01<00:00, 34.38it/s]\n"
          ]
        },
        {
          "output_type": "stream",
          "name": "stdout",
          "text": [
            "\n",
            "Relative L2 error: 9.589703e-01\n",
            "\n",
            "\n",
            "\n",
            "-------------------------------------------------------------------\n",
            "------------------------- Iteration 42/50 -------------------------\n",
            "-------------------------------------------------------------------\n",
            "\n",
            "Train GP...\n"
          ]
        },
        {
          "output_type": "stream",
          "name": "stderr",
          "text": [
            "100%|██████████| 50/50 [00:05<00:00,  9.99it/s]\n"
          ]
        },
        {
          "output_type": "stream",
          "name": "stdout",
          "text": [
            "\n",
            "Compute next acquisition point...\n"
          ]
        },
        {
          "output_type": "stream",
          "name": "stderr",
          "text": [
            "100%|██████████| 50/50 [00:01<00:00, 40.27it/s]\n"
          ]
        },
        {
          "output_type": "stream",
          "name": "stdout",
          "text": [
            "\n",
            "Relative L2 error: 9.610554e-01\n",
            "\n",
            "\n",
            "\n",
            "-------------------------------------------------------------------\n",
            "------------------------- Iteration 43/50 -------------------------\n",
            "-------------------------------------------------------------------\n",
            "\n",
            "Train GP...\n"
          ]
        },
        {
          "output_type": "stream",
          "name": "stderr",
          "text": [
            "100%|██████████| 50/50 [00:04<00:00, 11.57it/s]\n"
          ]
        },
        {
          "output_type": "stream",
          "name": "stdout",
          "text": [
            "\n",
            "Compute next acquisition point...\n"
          ]
        },
        {
          "output_type": "stream",
          "name": "stderr",
          "text": [
            "100%|██████████| 50/50 [00:01<00:00, 29.18it/s]\n"
          ]
        },
        {
          "output_type": "stream",
          "name": "stdout",
          "text": [
            "\n",
            "Relative L2 error: 9.630430e-01\n",
            "\n",
            "\n",
            "\n",
            "-------------------------------------------------------------------\n",
            "------------------------- Iteration 44/50 -------------------------\n",
            "-------------------------------------------------------------------\n",
            "\n",
            "Train GP...\n"
          ]
        },
        {
          "output_type": "stream",
          "name": "stderr",
          "text": [
            "100%|██████████| 50/50 [00:04<00:00, 10.81it/s]\n"
          ]
        },
        {
          "output_type": "stream",
          "name": "stdout",
          "text": [
            "\n",
            "Compute next acquisition point...\n"
          ]
        },
        {
          "output_type": "stream",
          "name": "stderr",
          "text": [
            "100%|██████████| 50/50 [00:01<00:00, 39.97it/s]\n"
          ]
        },
        {
          "output_type": "stream",
          "name": "stdout",
          "text": [
            "\n",
            "Relative L2 error: 9.649091e-01\n",
            "\n",
            "\n",
            "\n",
            "-------------------------------------------------------------------\n",
            "------------------------- Iteration 45/50 -------------------------\n",
            "-------------------------------------------------------------------\n",
            "\n",
            "Train GP...\n"
          ]
        },
        {
          "output_type": "stream",
          "name": "stderr",
          "text": [
            "100%|██████████| 50/50 [00:04<00:00, 10.67it/s]\n"
          ]
        },
        {
          "output_type": "stream",
          "name": "stdout",
          "text": [
            "\n",
            "Compute next acquisition point...\n"
          ]
        },
        {
          "output_type": "stream",
          "name": "stderr",
          "text": [
            "100%|██████████| 50/50 [00:01<00:00, 29.77it/s]\n"
          ]
        },
        {
          "output_type": "stream",
          "name": "stdout",
          "text": [
            "\n",
            "Relative L2 error: 9.666971e-01\n",
            "\n",
            "\n",
            "\n",
            "-------------------------------------------------------------------\n",
            "------------------------- Iteration 46/50 -------------------------\n",
            "-------------------------------------------------------------------\n",
            "\n",
            "Train GP...\n"
          ]
        },
        {
          "output_type": "stream",
          "name": "stderr",
          "text": [
            "100%|██████████| 50/50 [00:04<00:00, 11.33it/s]\n"
          ]
        },
        {
          "output_type": "stream",
          "name": "stdout",
          "text": [
            "\n",
            "Compute next acquisition point...\n"
          ]
        },
        {
          "output_type": "stream",
          "name": "stderr",
          "text": [
            "100%|██████████| 50/50 [00:01<00:00, 40.88it/s]\n"
          ]
        },
        {
          "output_type": "stream",
          "name": "stdout",
          "text": [
            "\n",
            "Relative L2 error: 9.684075e-01\n",
            "\n",
            "\n",
            "\n",
            "-------------------------------------------------------------------\n",
            "------------------------- Iteration 47/50 -------------------------\n",
            "-------------------------------------------------------------------\n",
            "\n",
            "Train GP...\n"
          ]
        },
        {
          "output_type": "stream",
          "name": "stderr",
          "text": [
            "100%|██████████| 50/50 [00:05<00:00,  9.91it/s]\n"
          ]
        },
        {
          "output_type": "stream",
          "name": "stdout",
          "text": [
            "\n",
            "Compute next acquisition point...\n"
          ]
        },
        {
          "output_type": "stream",
          "name": "stderr",
          "text": [
            "100%|██████████| 50/50 [00:01<00:00, 35.72it/s]\n"
          ]
        },
        {
          "output_type": "stream",
          "name": "stdout",
          "text": [
            "\n",
            "Relative L2 error: 9.700246e-01\n",
            "\n",
            "\n",
            "\n",
            "-------------------------------------------------------------------\n",
            "------------------------- Iteration 48/50 -------------------------\n",
            "-------------------------------------------------------------------\n",
            "\n",
            "Train GP...\n"
          ]
        },
        {
          "output_type": "stream",
          "name": "stderr",
          "text": [
            "100%|██████████| 50/50 [00:04<00:00, 11.27it/s]\n"
          ]
        },
        {
          "output_type": "stream",
          "name": "stdout",
          "text": [
            "\n",
            "Compute next acquisition point...\n"
          ]
        },
        {
          "output_type": "stream",
          "name": "stderr",
          "text": [
            "100%|██████████| 50/50 [00:01<00:00, 39.55it/s]\n"
          ]
        },
        {
          "output_type": "stream",
          "name": "stdout",
          "text": [
            "\n",
            "Relative L2 error: 9.715955e-01\n",
            "\n",
            "\n",
            "\n",
            "-------------------------------------------------------------------\n",
            "------------------------- Iteration 49/50 -------------------------\n",
            "-------------------------------------------------------------------\n",
            "\n",
            "Train GP...\n"
          ]
        },
        {
          "output_type": "stream",
          "name": "stderr",
          "text": [
            "100%|██████████| 50/50 [00:05<00:00,  9.36it/s]\n"
          ]
        },
        {
          "output_type": "stream",
          "name": "stdout",
          "text": [
            "\n",
            "Compute next acquisition point...\n"
          ]
        },
        {
          "output_type": "stream",
          "name": "stderr",
          "text": [
            "100%|██████████| 50/50 [00:01<00:00, 40.30it/s]\n"
          ]
        },
        {
          "output_type": "stream",
          "name": "stdout",
          "text": [
            "\n",
            "Relative L2 error: 9.730948e-01\n",
            "\n",
            "\n",
            "\n",
            "-------------------------------------------------------------------\n",
            "------------------------- Iteration 50/50 -------------------------\n",
            "-------------------------------------------------------------------\n",
            "\n",
            "Train GP...\n"
          ]
        },
        {
          "output_type": "stream",
          "name": "stderr",
          "text": [
            "100%|██████████| 50/50 [00:04<00:00, 10.30it/s]\n"
          ]
        },
        {
          "output_type": "stream",
          "name": "stdout",
          "text": [
            "\n",
            "Compute next acquisition point...\n"
          ]
        },
        {
          "output_type": "stream",
          "name": "stderr",
          "text": [
            "100%|██████████| 50/50 [00:01<00:00, 39.13it/s]\n"
          ]
        },
        {
          "output_type": "stream",
          "name": "stdout",
          "text": [
            "\n",
            "Relative L2 error: 9.745528e-01\n",
            "\n"
          ]
        }
      ]
    },
    {
      "cell_type": "code",
      "source": [
        "x_pi=X[-num_iter:]\n",
        "y_pi=vmap(f)(x_pi)"
      ],
      "metadata": {
        "id": "lP_YQ_g61MDS"
      },
      "execution_count": null,
      "outputs": []
    },
    {
      "cell_type": "code",
      "source": [
        "\n",
        "# Define test function\n",
        "f, dim, bounds = branin()\n",
        "\n",
        "# Problem settings\n",
        "N = 10\n",
        "noise = 0.0\n",
        "lb, ub = bounds\n",
        "\n",
        "# Initial training data\n",
        "X = lb + (ub-lb)*lhs(dim, N,criterion='center')\n",
        "y = vmap(f)(X)\n",
        "#y = y + noise*y.std(0)*onp.random.randn(N,)\n",
        "\n",
        "# Test data\n",
        "nn = 80\n",
        "xx = np.linspace(lb[0], ub[0], nn)\n",
        "yy = np.linspace(lb[1], ub[1], nn)\n",
        "XX, YY = np.meshgrid(xx, yy)\n",
        "X_star = np.concatenate([XX.flatten()[:,None], \n",
        "                          YY.flatten()[:,None]], axis = 1)\n",
        "y_star = vmap(f)(X_star)\n",
        "\n",
        "# Normalized test inputs\n",
        "X_test = (X_star - lb)/(ub-lb)"
      ],
      "metadata": {
        "id": "Dmkdevv81QhI"
      },
      "execution_count": null,
      "outputs": []
    },
    {
      "cell_type": "code",
      "source": [
        "model = GPRegression(kernel_fn = RBF, acq_fn = 'EI')"
      ],
      "metadata": {
        "id": "n4IhZ2aY1Qm_"
      },
      "execution_count": null,
      "outputs": []
    },
    {
      "cell_type": "code",
      "source": [
        "\n",
        "# Active learning loop\n",
        "num_iter = 50\n",
        "error_log = []\n",
        "\n",
        "for it in range(num_iter):\n",
        "    print('\\n')\n",
        "    print('-------------------------------------------------------------------')\n",
        "    print('------------------------- Iteration %d/%d -------------------------' % (it+1, num_iter))\n",
        "    print('-------------------------------------------------------------------')\n",
        "\n",
        "    # Normalize training data\n",
        "    mu_y, sigma_y = y.mean(0), y.std(0)\n",
        "    X_train = (X - lb)/(ub-lb)\n",
        "    y_train = (y - mu_y)/sigma_y\n",
        "\n",
        "    # Train model\n",
        "    print('\\nTrain GP...')\n",
        "    train_key = random.PRNGKey(it)\n",
        "    opt_params = model.train((X_train, y_train), train_key, num_restarts = 50)\n",
        "\n",
        "    # Select next best point\n",
        "    print('\\nCompute next acquisition point...')\n",
        "    new_X = model.next_best_point(opt_params, (X_train, y_train), bounds, train_key, num_restarts = 50)\n",
        "\n",
        "    # Acquire data\n",
        "    new_y = vmap(f)(new_X)\n",
        "    new_y = new_y + noise*new_y.std(0)*onp.random.randn(1,)\n",
        "\n",
        "    # Augment training data\n",
        "    X = np.concatenate([X, new_X], axis = 0)\n",
        "    y = np.concatenate([y, new_y], axis = 0)\n",
        "\n",
        "    # Monitor prediction error\n",
        "    mean, std = model.predict(opt_params, (X_train, y_train), X_test)\n",
        "    mean, std = mean*sigma_y + mu_y, std*sigma_y      # De-normalize predictions\n",
        "    error = np.linalg.norm(mean-y_star,2)/np.linalg.norm(y_star,2)\n",
        "    print('\\nRelative L2 error: %e\\n' % (error))\n",
        "    error_log.append(error)"
      ],
      "metadata": {
        "colab": {
          "base_uri": "https://localhost:8080/"
        },
        "id": "MZQSUt7u1WEL",
        "outputId": "6c6a9270-8b25-4b21-d0e1-e2ab21ff0b93"
      },
      "execution_count": null,
      "outputs": [
        {
          "output_type": "stream",
          "name": "stdout",
          "text": [
            "\n",
            "\n",
            "-------------------------------------------------------------------\n",
            "------------------------- Iteration 1/50 -------------------------\n",
            "-------------------------------------------------------------------\n",
            "\n",
            "Train GP...\n"
          ]
        },
        {
          "output_type": "stream",
          "name": "stderr",
          "text": [
            "100%|██████████| 50/50 [00:02<00:00, 17.05it/s]\n"
          ]
        },
        {
          "output_type": "stream",
          "name": "stdout",
          "text": [
            "\n",
            "Compute next acquisition point...\n"
          ]
        },
        {
          "output_type": "stream",
          "name": "stderr",
          "text": [
            "100%|██████████| 50/50 [00:01<00:00, 32.92it/s]\n"
          ]
        },
        {
          "output_type": "stream",
          "name": "stdout",
          "text": [
            "\n",
            "Relative L2 error: 7.699597e-01\n",
            "\n",
            "\n",
            "\n",
            "-------------------------------------------------------------------\n",
            "------------------------- Iteration 2/50 -------------------------\n",
            "-------------------------------------------------------------------\n",
            "\n",
            "Train GP...\n"
          ]
        },
        {
          "output_type": "stream",
          "name": "stderr",
          "text": [
            "100%|██████████| 50/50 [00:03<00:00, 13.46it/s]\n"
          ]
        },
        {
          "output_type": "stream",
          "name": "stdout",
          "text": [
            "\n",
            "Compute next acquisition point...\n"
          ]
        },
        {
          "output_type": "stream",
          "name": "stderr",
          "text": [
            "100%|██████████| 50/50 [00:01<00:00, 40.33it/s]\n"
          ]
        },
        {
          "output_type": "stream",
          "name": "stdout",
          "text": [
            "\n",
            "Relative L2 error: 6.945414e-01\n",
            "\n",
            "\n",
            "\n",
            "-------------------------------------------------------------------\n",
            "------------------------- Iteration 3/50 -------------------------\n",
            "-------------------------------------------------------------------\n",
            "\n",
            "Train GP...\n"
          ]
        },
        {
          "output_type": "stream",
          "name": "stderr",
          "text": [
            "100%|██████████| 50/50 [00:03<00:00, 13.86it/s]\n"
          ]
        },
        {
          "output_type": "stream",
          "name": "stdout",
          "text": [
            "\n",
            "Compute next acquisition point...\n"
          ]
        },
        {
          "output_type": "stream",
          "name": "stderr",
          "text": [
            "100%|██████████| 50/50 [00:02<00:00, 20.78it/s]\n"
          ]
        },
        {
          "output_type": "stream",
          "name": "stdout",
          "text": [
            "\n",
            "Relative L2 error: 7.520565e-01\n",
            "\n",
            "\n",
            "\n",
            "-------------------------------------------------------------------\n",
            "------------------------- Iteration 4/50 -------------------------\n",
            "-------------------------------------------------------------------\n",
            "\n",
            "Train GP...\n"
          ]
        },
        {
          "output_type": "stream",
          "name": "stderr",
          "text": [
            "100%|██████████| 50/50 [00:04<00:00, 11.48it/s]\n"
          ]
        },
        {
          "output_type": "stream",
          "name": "stdout",
          "text": [
            "\n",
            "Compute next acquisition point...\n"
          ]
        },
        {
          "output_type": "stream",
          "name": "stderr",
          "text": [
            "100%|██████████| 50/50 [00:01<00:00, 41.86it/s]\n"
          ]
        },
        {
          "output_type": "stream",
          "name": "stdout",
          "text": [
            "\n",
            "Relative L2 error: 6.925212e-01\n",
            "\n",
            "\n",
            "\n",
            "-------------------------------------------------------------------\n",
            "------------------------- Iteration 5/50 -------------------------\n",
            "-------------------------------------------------------------------\n",
            "\n",
            "Train GP...\n"
          ]
        },
        {
          "output_type": "stream",
          "name": "stderr",
          "text": [
            "100%|██████████| 50/50 [00:03<00:00, 14.81it/s]\n"
          ]
        },
        {
          "output_type": "stream",
          "name": "stdout",
          "text": [
            "\n",
            "Compute next acquisition point...\n"
          ]
        },
        {
          "output_type": "stream",
          "name": "stderr",
          "text": [
            "100%|██████████| 50/50 [00:01<00:00, 28.03it/s]\n"
          ]
        },
        {
          "output_type": "stream",
          "name": "stdout",
          "text": [
            "\n",
            "Relative L2 error: 6.978579e-01\n",
            "\n",
            "\n",
            "\n",
            "-------------------------------------------------------------------\n",
            "------------------------- Iteration 6/50 -------------------------\n",
            "-------------------------------------------------------------------\n",
            "\n",
            "Train GP...\n"
          ]
        },
        {
          "output_type": "stream",
          "name": "stderr",
          "text": [
            "100%|██████████| 50/50 [00:02<00:00, 16.74it/s]\n"
          ]
        },
        {
          "output_type": "stream",
          "name": "stdout",
          "text": [
            "\n",
            "Compute next acquisition point...\n"
          ]
        },
        {
          "output_type": "stream",
          "name": "stderr",
          "text": [
            "100%|██████████| 50/50 [00:01<00:00, 41.77it/s]\n"
          ]
        },
        {
          "output_type": "stream",
          "name": "stdout",
          "text": [
            "\n",
            "Relative L2 error: 7.029035e-01\n",
            "\n",
            "\n",
            "\n",
            "-------------------------------------------------------------------\n",
            "------------------------- Iteration 7/50 -------------------------\n",
            "-------------------------------------------------------------------\n",
            "\n",
            "Train GP...\n"
          ]
        },
        {
          "output_type": "stream",
          "name": "stderr",
          "text": [
            "100%|██████████| 50/50 [00:03<00:00, 15.29it/s]\n"
          ]
        },
        {
          "output_type": "stream",
          "name": "stdout",
          "text": [
            "\n",
            "Compute next acquisition point...\n"
          ]
        },
        {
          "output_type": "stream",
          "name": "stderr",
          "text": [
            "100%|██████████| 50/50 [00:01<00:00, 39.47it/s]\n"
          ]
        },
        {
          "output_type": "stream",
          "name": "stdout",
          "text": [
            "\n",
            "Relative L2 error: 8.508273e-01\n",
            "\n",
            "\n",
            "\n",
            "-------------------------------------------------------------------\n",
            "------------------------- Iteration 8/50 -------------------------\n",
            "-------------------------------------------------------------------\n",
            "\n",
            "Train GP...\n"
          ]
        },
        {
          "output_type": "stream",
          "name": "stderr",
          "text": [
            "100%|██████████| 50/50 [00:04<00:00, 10.78it/s]\n"
          ]
        },
        {
          "output_type": "stream",
          "name": "stdout",
          "text": [
            "\n",
            "Compute next acquisition point...\n"
          ]
        },
        {
          "output_type": "stream",
          "name": "stderr",
          "text": [
            "100%|██████████| 50/50 [00:01<00:00, 32.66it/s]\n"
          ]
        },
        {
          "output_type": "stream",
          "name": "stdout",
          "text": [
            "\n",
            "Relative L2 error: 7.975305e-01\n",
            "\n",
            "\n",
            "\n",
            "-------------------------------------------------------------------\n",
            "------------------------- Iteration 9/50 -------------------------\n",
            "-------------------------------------------------------------------\n",
            "\n",
            "Train GP...\n"
          ]
        },
        {
          "output_type": "stream",
          "name": "stderr",
          "text": [
            "100%|██████████| 50/50 [00:03<00:00, 14.05it/s]\n"
          ]
        },
        {
          "output_type": "stream",
          "name": "stdout",
          "text": [
            "\n",
            "Compute next acquisition point...\n"
          ]
        },
        {
          "output_type": "stream",
          "name": "stderr",
          "text": [
            "100%|██████████| 50/50 [00:01<00:00, 45.90it/s]\n"
          ]
        },
        {
          "output_type": "stream",
          "name": "stdout",
          "text": [
            "\n",
            "Relative L2 error: 7.095103e-01\n",
            "\n",
            "\n",
            "\n",
            "-------------------------------------------------------------------\n",
            "------------------------- Iteration 10/50 -------------------------\n",
            "-------------------------------------------------------------------\n",
            "\n",
            "Train GP...\n"
          ]
        },
        {
          "output_type": "stream",
          "name": "stderr",
          "text": [
            "100%|██████████| 50/50 [00:03<00:00, 13.65it/s]\n"
          ]
        },
        {
          "output_type": "stream",
          "name": "stdout",
          "text": [
            "\n",
            "Compute next acquisition point...\n"
          ]
        },
        {
          "output_type": "stream",
          "name": "stderr",
          "text": [
            "100%|██████████| 50/50 [00:01<00:00, 29.00it/s]\n"
          ]
        },
        {
          "output_type": "stream",
          "name": "stdout",
          "text": [
            "\n",
            "Relative L2 error: 8.174681e-01\n",
            "\n",
            "\n",
            "\n",
            "-------------------------------------------------------------------\n",
            "------------------------- Iteration 11/50 -------------------------\n",
            "-------------------------------------------------------------------\n",
            "\n",
            "Train GP...\n"
          ]
        },
        {
          "output_type": "stream",
          "name": "stderr",
          "text": [
            "100%|██████████| 50/50 [00:03<00:00, 13.65it/s]\n"
          ]
        },
        {
          "output_type": "stream",
          "name": "stdout",
          "text": [
            "\n",
            "Compute next acquisition point...\n"
          ]
        },
        {
          "output_type": "stream",
          "name": "stderr",
          "text": [
            "100%|██████████| 50/50 [00:01<00:00, 33.20it/s]\n"
          ]
        },
        {
          "output_type": "stream",
          "name": "stdout",
          "text": [
            "\n",
            "Relative L2 error: 9.498583e-01\n",
            "\n",
            "\n",
            "\n",
            "-------------------------------------------------------------------\n",
            "------------------------- Iteration 12/50 -------------------------\n",
            "-------------------------------------------------------------------\n",
            "\n",
            "Train GP...\n"
          ]
        },
        {
          "output_type": "stream",
          "name": "stderr",
          "text": [
            "100%|██████████| 50/50 [00:03<00:00, 13.40it/s]\n"
          ]
        },
        {
          "output_type": "stream",
          "name": "stdout",
          "text": [
            "\n",
            "Compute next acquisition point...\n"
          ]
        },
        {
          "output_type": "stream",
          "name": "stderr",
          "text": [
            "100%|██████████| 50/50 [00:02<00:00, 22.95it/s]\n"
          ]
        },
        {
          "output_type": "stream",
          "name": "stdout",
          "text": [
            "\n",
            "Relative L2 error: 9.030234e-01\n",
            "\n",
            "\n",
            "\n",
            "-------------------------------------------------------------------\n",
            "------------------------- Iteration 13/50 -------------------------\n",
            "-------------------------------------------------------------------\n",
            "\n",
            "Train GP...\n"
          ]
        },
        {
          "output_type": "stream",
          "name": "stderr",
          "text": [
            "100%|██████████| 50/50 [00:03<00:00, 14.03it/s]\n"
          ]
        },
        {
          "output_type": "stream",
          "name": "stdout",
          "text": [
            "\n",
            "Compute next acquisition point...\n"
          ]
        },
        {
          "output_type": "stream",
          "name": "stderr",
          "text": [
            "100%|██████████| 50/50 [00:01<00:00, 29.00it/s]\n"
          ]
        },
        {
          "output_type": "stream",
          "name": "stdout",
          "text": [
            "\n",
            "Relative L2 error: 9.208068e-01\n",
            "\n",
            "\n",
            "\n",
            "-------------------------------------------------------------------\n",
            "------------------------- Iteration 14/50 -------------------------\n",
            "-------------------------------------------------------------------\n",
            "\n",
            "Train GP...\n"
          ]
        },
        {
          "output_type": "stream",
          "name": "stderr",
          "text": [
            "100%|██████████| 50/50 [00:03<00:00, 13.06it/s]\n"
          ]
        },
        {
          "output_type": "stream",
          "name": "stdout",
          "text": [
            "\n",
            "Compute next acquisition point...\n"
          ]
        },
        {
          "output_type": "stream",
          "name": "stderr",
          "text": [
            "100%|██████████| 50/50 [00:01<00:00, 25.77it/s]\n"
          ]
        },
        {
          "output_type": "stream",
          "name": "stdout",
          "text": [
            "\n",
            "Relative L2 error: 9.884956e-01\n",
            "\n",
            "\n",
            "\n",
            "-------------------------------------------------------------------\n",
            "------------------------- Iteration 15/50 -------------------------\n",
            "-------------------------------------------------------------------\n",
            "\n",
            "Train GP...\n"
          ]
        },
        {
          "output_type": "stream",
          "name": "stderr",
          "text": [
            "100%|██████████| 50/50 [00:03<00:00, 12.93it/s]\n"
          ]
        },
        {
          "output_type": "stream",
          "name": "stdout",
          "text": [
            "\n",
            "Compute next acquisition point...\n"
          ]
        },
        {
          "output_type": "stream",
          "name": "stderr",
          "text": [
            "100%|██████████| 50/50 [00:01<00:00, 33.79it/s]\n"
          ]
        },
        {
          "output_type": "stream",
          "name": "stdout",
          "text": [
            "\n",
            "Relative L2 error: 1.022458e+00\n",
            "\n",
            "\n",
            "\n",
            "-------------------------------------------------------------------\n",
            "------------------------- Iteration 16/50 -------------------------\n",
            "-------------------------------------------------------------------\n",
            "\n",
            "Train GP...\n"
          ]
        },
        {
          "output_type": "stream",
          "name": "stderr",
          "text": [
            "100%|██████████| 50/50 [00:04<00:00, 11.97it/s]\n"
          ]
        },
        {
          "output_type": "stream",
          "name": "stdout",
          "text": [
            "\n",
            "Compute next acquisition point...\n"
          ]
        },
        {
          "output_type": "stream",
          "name": "stderr",
          "text": [
            "100%|██████████| 50/50 [00:02<00:00, 24.36it/s]\n"
          ]
        },
        {
          "output_type": "stream",
          "name": "stdout",
          "text": [
            "\n",
            "Relative L2 error: 1.077271e+00\n",
            "\n",
            "\n",
            "\n",
            "-------------------------------------------------------------------\n",
            "------------------------- Iteration 17/50 -------------------------\n",
            "-------------------------------------------------------------------\n",
            "\n",
            "Train GP...\n"
          ]
        },
        {
          "output_type": "stream",
          "name": "stderr",
          "text": [
            "100%|██████████| 50/50 [00:03<00:00, 12.51it/s]\n"
          ]
        },
        {
          "output_type": "stream",
          "name": "stdout",
          "text": [
            "\n",
            "Compute next acquisition point...\n"
          ]
        },
        {
          "output_type": "stream",
          "name": "stderr",
          "text": [
            "100%|██████████| 50/50 [00:01<00:00, 31.88it/s]\n"
          ]
        },
        {
          "output_type": "stream",
          "name": "stdout",
          "text": [
            "\n",
            "Relative L2 error: 1.120182e+00\n",
            "\n",
            "\n",
            "\n",
            "-------------------------------------------------------------------\n",
            "------------------------- Iteration 18/50 -------------------------\n",
            "-------------------------------------------------------------------\n",
            "\n",
            "Train GP...\n"
          ]
        },
        {
          "output_type": "stream",
          "name": "stderr",
          "text": [
            "100%|██████████| 50/50 [00:04<00:00, 11.22it/s]\n"
          ]
        },
        {
          "output_type": "stream",
          "name": "stdout",
          "text": [
            "\n",
            "Compute next acquisition point...\n"
          ]
        },
        {
          "output_type": "stream",
          "name": "stderr",
          "text": [
            "100%|██████████| 50/50 [00:01<00:00, 26.89it/s]\n",
            "100%|██████████| 50/50 [00:04<00:00, 11.02it/s]\n"
          ]
        },
        {
          "output_type": "stream",
          "name": "stdout",
          "text": [
            "\n",
            "Compute next acquisition point...\n"
          ]
        },
        {
          "output_type": "stream",
          "name": "stderr",
          "text": [
            "100%|██████████| 50/50 [00:01<00:00, 35.17it/s]\n"
          ]
        },
        {
          "output_type": "stream",
          "name": "stdout",
          "text": [
            "\n",
            "Relative L2 error: 1.172182e+00\n",
            "\n",
            "\n",
            "\n",
            "-------------------------------------------------------------------\n",
            "------------------------- Iteration 20/50 -------------------------\n",
            "-------------------------------------------------------------------\n",
            "\n",
            "Train GP...\n"
          ]
        },
        {
          "output_type": "stream",
          "name": "stderr",
          "text": [
            "100%|██████████| 50/50 [00:04<00:00, 11.57it/s]\n"
          ]
        },
        {
          "output_type": "stream",
          "name": "stdout",
          "text": [
            "\n",
            "Compute next acquisition point...\n"
          ]
        },
        {
          "output_type": "stream",
          "name": "stderr",
          "text": [
            "100%|██████████| 50/50 [00:01<00:00, 35.16it/s]\n"
          ]
        },
        {
          "output_type": "stream",
          "name": "stdout",
          "text": [
            "\n",
            "Relative L2 error: 1.209316e+00\n",
            "\n",
            "\n",
            "\n",
            "-------------------------------------------------------------------\n",
            "------------------------- Iteration 21/50 -------------------------\n",
            "-------------------------------------------------------------------\n",
            "\n",
            "Train GP...\n"
          ]
        },
        {
          "output_type": "stream",
          "name": "stderr",
          "text": [
            "100%|██████████| 50/50 [00:04<00:00, 11.92it/s]\n"
          ]
        },
        {
          "output_type": "stream",
          "name": "stdout",
          "text": [
            "\n",
            "Compute next acquisition point...\n"
          ]
        },
        {
          "output_type": "stream",
          "name": "stderr",
          "text": [
            "100%|██████████| 50/50 [00:01<00:00, 37.15it/s]\n"
          ]
        },
        {
          "output_type": "stream",
          "name": "stdout",
          "text": [
            "\n",
            "Relative L2 error: 1.243118e+00\n",
            "\n",
            "\n",
            "\n",
            "-------------------------------------------------------------------\n",
            "------------------------- Iteration 22/50 -------------------------\n",
            "-------------------------------------------------------------------\n",
            "\n",
            "Train GP...\n"
          ]
        },
        {
          "output_type": "stream",
          "name": "stderr",
          "text": [
            "100%|██████████| 50/50 [00:04<00:00, 11.01it/s]\n"
          ]
        },
        {
          "output_type": "stream",
          "name": "stdout",
          "text": [
            "\n",
            "Compute next acquisition point...\n"
          ]
        },
        {
          "output_type": "stream",
          "name": "stderr",
          "text": [
            "100%|██████████| 50/50 [00:01<00:00, 34.35it/s]\n"
          ]
        },
        {
          "output_type": "stream",
          "name": "stdout",
          "text": [
            "\n",
            "Relative L2 error: 1.273917e+00\n",
            "\n",
            "\n",
            "\n",
            "-------------------------------------------------------------------\n",
            "------------------------- Iteration 23/50 -------------------------\n",
            "-------------------------------------------------------------------\n",
            "\n",
            "Train GP...\n"
          ]
        },
        {
          "output_type": "stream",
          "name": "stderr",
          "text": [
            "100%|██████████| 50/50 [00:03<00:00, 12.75it/s]\n"
          ]
        },
        {
          "output_type": "stream",
          "name": "stdout",
          "text": [
            "\n",
            "Compute next acquisition point...\n"
          ]
        },
        {
          "output_type": "stream",
          "name": "stderr",
          "text": [
            "100%|██████████| 50/50 [00:01<00:00, 36.88it/s]\n"
          ]
        },
        {
          "output_type": "stream",
          "name": "stdout",
          "text": [
            "\n",
            "Relative L2 error: 1.302067e+00\n",
            "\n",
            "\n",
            "\n",
            "-------------------------------------------------------------------\n",
            "------------------------- Iteration 24/50 -------------------------\n",
            "-------------------------------------------------------------------\n",
            "\n",
            "Train GP...\n"
          ]
        },
        {
          "output_type": "stream",
          "name": "stderr",
          "text": [
            "100%|██████████| 50/50 [00:04<00:00, 11.58it/s]\n"
          ]
        },
        {
          "output_type": "stream",
          "name": "stdout",
          "text": [
            "\n",
            "Compute next acquisition point...\n"
          ]
        },
        {
          "output_type": "stream",
          "name": "stderr",
          "text": [
            "100%|██████████| 50/50 [00:01<00:00, 29.86it/s]\n"
          ]
        },
        {
          "output_type": "stream",
          "name": "stdout",
          "text": [
            "\n",
            "Relative L2 error: 1.327872e+00\n",
            "\n",
            "\n",
            "\n",
            "-------------------------------------------------------------------\n",
            "------------------------- Iteration 25/50 -------------------------\n",
            "-------------------------------------------------------------------\n",
            "\n",
            "Train GP...\n"
          ]
        },
        {
          "output_type": "stream",
          "name": "stderr",
          "text": [
            "100%|██████████| 50/50 [00:04<00:00, 12.23it/s]\n"
          ]
        },
        {
          "output_type": "stream",
          "name": "stdout",
          "text": [
            "\n",
            "Compute next acquisition point...\n"
          ]
        },
        {
          "output_type": "stream",
          "name": "stderr",
          "text": [
            "100%|██████████| 50/50 [00:01<00:00, 37.89it/s]\n"
          ]
        },
        {
          "output_type": "stream",
          "name": "stdout",
          "text": [
            "\n",
            "Relative L2 error: 1.351608e+00\n",
            "\n",
            "\n",
            "\n",
            "-------------------------------------------------------------------\n",
            "------------------------- Iteration 26/50 -------------------------\n",
            "-------------------------------------------------------------------\n",
            "\n",
            "Train GP...\n"
          ]
        },
        {
          "output_type": "stream",
          "name": "stderr",
          "text": [
            "100%|██████████| 50/50 [00:04<00:00, 11.10it/s]\n"
          ]
        },
        {
          "output_type": "stream",
          "name": "stdout",
          "text": [
            "\n",
            "Compute next acquisition point...\n"
          ]
        },
        {
          "output_type": "stream",
          "name": "stderr",
          "text": [
            "100%|██████████| 50/50 [00:01<00:00, 31.79it/s]\n"
          ]
        },
        {
          "output_type": "stream",
          "name": "stdout",
          "text": [
            "\n",
            "Relative L2 error: 1.373504e+00\n",
            "\n",
            "\n",
            "\n",
            "-------------------------------------------------------------------\n",
            "------------------------- Iteration 27/50 -------------------------\n",
            "-------------------------------------------------------------------\n",
            "\n",
            "Train GP...\n"
          ]
        },
        {
          "output_type": "stream",
          "name": "stderr",
          "text": [
            "100%|██████████| 50/50 [00:04<00:00, 11.15it/s]\n"
          ]
        },
        {
          "output_type": "stream",
          "name": "stdout",
          "text": [
            "\n",
            "Compute next acquisition point...\n"
          ]
        },
        {
          "output_type": "stream",
          "name": "stderr",
          "text": [
            "100%|██████████| 50/50 [00:01<00:00, 37.90it/s]\n"
          ]
        },
        {
          "output_type": "stream",
          "name": "stdout",
          "text": [
            "\n",
            "Relative L2 error: 1.393767e+00\n",
            "\n",
            "\n",
            "\n",
            "-------------------------------------------------------------------\n",
            "------------------------- Iteration 28/50 -------------------------\n",
            "-------------------------------------------------------------------\n",
            "\n",
            "Train GP...\n"
          ]
        },
        {
          "output_type": "stream",
          "name": "stderr",
          "text": [
            "100%|██████████| 50/50 [00:04<00:00, 10.50it/s]\n"
          ]
        },
        {
          "output_type": "stream",
          "name": "stdout",
          "text": [
            "\n",
            "Compute next acquisition point...\n"
          ]
        },
        {
          "output_type": "stream",
          "name": "stderr",
          "text": [
            "100%|██████████| 50/50 [00:01<00:00, 34.93it/s]\n"
          ]
        },
        {
          "output_type": "stream",
          "name": "stdout",
          "text": [
            "\n",
            "Relative L2 error: 1.412561e+00\n",
            "\n",
            "\n",
            "\n",
            "-------------------------------------------------------------------\n",
            "------------------------- Iteration 29/50 -------------------------\n",
            "-------------------------------------------------------------------\n",
            "\n",
            "Train GP...\n"
          ]
        },
        {
          "output_type": "stream",
          "name": "stderr",
          "text": [
            "100%|██████████| 50/50 [00:04<00:00, 11.22it/s]\n"
          ]
        },
        {
          "output_type": "stream",
          "name": "stdout",
          "text": [
            "\n",
            "Compute next acquisition point...\n"
          ]
        },
        {
          "output_type": "stream",
          "name": "stderr",
          "text": [
            "100%|██████████| 50/50 [00:01<00:00, 35.99it/s]\n"
          ]
        },
        {
          "output_type": "stream",
          "name": "stdout",
          "text": [
            "\n",
            "Relative L2 error: 1.430059e+00\n",
            "\n",
            "\n",
            "\n",
            "-------------------------------------------------------------------\n",
            "------------------------- Iteration 30/50 -------------------------\n",
            "-------------------------------------------------------------------\n",
            "\n",
            "Train GP...\n"
          ]
        },
        {
          "output_type": "stream",
          "name": "stderr",
          "text": [
            "100%|██████████| 50/50 [00:05<00:00,  9.92it/s]\n"
          ]
        },
        {
          "output_type": "stream",
          "name": "stdout",
          "text": [
            "\n",
            "Compute next acquisition point...\n"
          ]
        },
        {
          "output_type": "stream",
          "name": "stderr",
          "text": [
            "100%|██████████| 50/50 [00:01<00:00, 36.41it/s]\n"
          ]
        },
        {
          "output_type": "stream",
          "name": "stdout",
          "text": [
            "\n",
            "Relative L2 error: 1.446350e+00\n",
            "\n",
            "\n",
            "\n",
            "-------------------------------------------------------------------\n",
            "------------------------- Iteration 31/50 -------------------------\n",
            "-------------------------------------------------------------------\n",
            "\n",
            "Train GP...\n"
          ]
        },
        {
          "output_type": "stream",
          "name": "stderr",
          "text": [
            "100%|██████████| 50/50 [00:04<00:00, 11.37it/s]\n"
          ]
        },
        {
          "output_type": "stream",
          "name": "stdout",
          "text": [
            "\n",
            "Compute next acquisition point...\n"
          ]
        },
        {
          "output_type": "stream",
          "name": "stderr",
          "text": [
            "100%|██████████| 50/50 [00:01<00:00, 36.19it/s]\n"
          ]
        },
        {
          "output_type": "stream",
          "name": "stdout",
          "text": [
            "\n",
            "Relative L2 error: 1.461621e+00\n",
            "\n",
            "\n",
            "\n",
            "-------------------------------------------------------------------\n",
            "------------------------- Iteration 32/50 -------------------------\n",
            "-------------------------------------------------------------------\n",
            "\n",
            "Train GP...\n"
          ]
        },
        {
          "output_type": "stream",
          "name": "stderr",
          "text": [
            "100%|██████████| 50/50 [00:05<00:00,  9.89it/s]\n"
          ]
        },
        {
          "output_type": "stream",
          "name": "stdout",
          "text": [
            "\n",
            "Compute next acquisition point...\n"
          ]
        },
        {
          "output_type": "stream",
          "name": "stderr",
          "text": [
            "100%|██████████| 50/50 [00:01<00:00, 34.81it/s]\n"
          ]
        },
        {
          "output_type": "stream",
          "name": "stdout",
          "text": [
            "\n",
            "Relative L2 error: 1.475912e+00\n",
            "\n",
            "\n",
            "\n",
            "-------------------------------------------------------------------\n",
            "------------------------- Iteration 33/50 -------------------------\n",
            "-------------------------------------------------------------------\n",
            "\n",
            "Train GP...\n"
          ]
        },
        {
          "output_type": "stream",
          "name": "stderr",
          "text": [
            "100%|██████████| 50/50 [00:04<00:00, 11.31it/s]\n"
          ]
        },
        {
          "output_type": "stream",
          "name": "stdout",
          "text": [
            "\n",
            "Compute next acquisition point...\n"
          ]
        },
        {
          "output_type": "stream",
          "name": "stderr",
          "text": [
            "100%|██████████| 50/50 [00:01<00:00, 37.49it/s]\n"
          ]
        },
        {
          "output_type": "stream",
          "name": "stdout",
          "text": [
            "\n",
            "Relative L2 error: 1.489326e+00\n",
            "\n",
            "\n",
            "\n",
            "-------------------------------------------------------------------\n",
            "------------------------- Iteration 34/50 -------------------------\n",
            "-------------------------------------------------------------------\n",
            "\n",
            "Train GP...\n"
          ]
        },
        {
          "output_type": "stream",
          "name": "stderr",
          "text": [
            "100%|██████████| 50/50 [00:04<00:00, 10.11it/s]\n"
          ]
        },
        {
          "output_type": "stream",
          "name": "stdout",
          "text": [
            "\n",
            "Compute next acquisition point...\n"
          ]
        },
        {
          "output_type": "stream",
          "name": "stderr",
          "text": [
            "100%|██████████| 50/50 [00:01<00:00, 37.44it/s]\n"
          ]
        },
        {
          "output_type": "stream",
          "name": "stdout",
          "text": [
            "\n",
            "Relative L2 error: 1.501937e+00\n",
            "\n",
            "\n",
            "\n",
            "-------------------------------------------------------------------\n",
            "------------------------- Iteration 35/50 -------------------------\n",
            "-------------------------------------------------------------------\n",
            "\n",
            "Train GP...\n"
          ]
        },
        {
          "output_type": "stream",
          "name": "stderr",
          "text": [
            "100%|██████████| 50/50 [00:04<00:00, 10.58it/s]\n"
          ]
        },
        {
          "output_type": "stream",
          "name": "stdout",
          "text": [
            "\n",
            "Compute next acquisition point...\n"
          ]
        },
        {
          "output_type": "stream",
          "name": "stderr",
          "text": [
            "100%|██████████| 50/50 [00:01<00:00, 40.28it/s]\n"
          ]
        },
        {
          "output_type": "stream",
          "name": "stdout",
          "text": [
            "\n",
            "Relative L2 error: 1.513840e+00\n",
            "\n",
            "\n",
            "\n",
            "-------------------------------------------------------------------\n",
            "------------------------- Iteration 36/50 -------------------------\n",
            "-------------------------------------------------------------------\n",
            "\n",
            "Train GP...\n"
          ]
        },
        {
          "output_type": "stream",
          "name": "stderr",
          "text": [
            "100%|██████████| 50/50 [00:04<00:00, 10.06it/s]\n"
          ]
        },
        {
          "output_type": "stream",
          "name": "stdout",
          "text": [
            "\n",
            "Compute next acquisition point...\n"
          ]
        },
        {
          "output_type": "stream",
          "name": "stderr",
          "text": [
            "100%|██████████| 50/50 [00:01<00:00, 40.69it/s]\n"
          ]
        },
        {
          "output_type": "stream",
          "name": "stdout",
          "text": [
            "\n",
            "Relative L2 error: 1.525066e+00\n",
            "\n",
            "\n",
            "\n",
            "-------------------------------------------------------------------\n",
            "------------------------- Iteration 37/50 -------------------------\n",
            "-------------------------------------------------------------------\n",
            "\n",
            "Train GP...\n"
          ]
        },
        {
          "output_type": "stream",
          "name": "stderr",
          "text": [
            "100%|██████████| 50/50 [00:04<00:00, 11.32it/s]\n"
          ]
        },
        {
          "output_type": "stream",
          "name": "stdout",
          "text": [
            "\n",
            "Compute next acquisition point...\n"
          ]
        },
        {
          "output_type": "stream",
          "name": "stderr",
          "text": [
            "100%|██████████| 50/50 [00:01<00:00, 38.42it/s]\n"
          ]
        },
        {
          "output_type": "stream",
          "name": "stdout",
          "text": [
            "\n",
            "Relative L2 error: 1.535690e+00\n",
            "\n",
            "\n",
            "\n",
            "-------------------------------------------------------------------\n",
            "------------------------- Iteration 38/50 -------------------------\n",
            "-------------------------------------------------------------------\n",
            "\n",
            "Train GP...\n"
          ]
        },
        {
          "output_type": "stream",
          "name": "stderr",
          "text": [
            "100%|██████████| 50/50 [00:05<00:00,  9.40it/s]\n"
          ]
        },
        {
          "output_type": "stream",
          "name": "stdout",
          "text": [
            "\n",
            "Compute next acquisition point...\n"
          ]
        },
        {
          "output_type": "stream",
          "name": "stderr",
          "text": [
            "100%|██████████| 50/50 [00:01<00:00, 38.22it/s]\n"
          ]
        },
        {
          "output_type": "stream",
          "name": "stdout",
          "text": [
            "\n",
            "Relative L2 error: 1.545758e+00\n",
            "\n",
            "\n",
            "\n",
            "-------------------------------------------------------------------\n",
            "------------------------- Iteration 39/50 -------------------------\n",
            "-------------------------------------------------------------------\n",
            "\n",
            "Train GP...\n"
          ]
        },
        {
          "output_type": "stream",
          "name": "stderr",
          "text": [
            "100%|██████████| 50/50 [00:05<00:00,  8.83it/s]\n"
          ]
        },
        {
          "output_type": "stream",
          "name": "stdout",
          "text": [
            "\n",
            "Compute next acquisition point...\n"
          ]
        },
        {
          "output_type": "stream",
          "name": "stderr",
          "text": [
            "100%|██████████| 50/50 [00:01<00:00, 26.12it/s]\n"
          ]
        },
        {
          "output_type": "stream",
          "name": "stdout",
          "text": [
            "\n",
            "Relative L2 error: 1.555280e+00\n",
            "\n",
            "\n",
            "\n",
            "-------------------------------------------------------------------\n",
            "------------------------- Iteration 40/50 -------------------------\n",
            "-------------------------------------------------------------------\n",
            "\n",
            "Train GP...\n"
          ]
        },
        {
          "output_type": "stream",
          "name": "stderr",
          "text": [
            "100%|██████████| 50/50 [00:04<00:00, 10.57it/s]\n"
          ]
        },
        {
          "output_type": "stream",
          "name": "stdout",
          "text": [
            "\n",
            "Compute next acquisition point...\n"
          ]
        },
        {
          "output_type": "stream",
          "name": "stderr",
          "text": [
            "100%|██████████| 50/50 [00:01<00:00, 39.20it/s]\n"
          ]
        },
        {
          "output_type": "stream",
          "name": "stdout",
          "text": [
            "\n",
            "Relative L2 error: 1.564324e+00\n",
            "\n",
            "\n",
            "\n",
            "-------------------------------------------------------------------\n",
            "------------------------- Iteration 41/50 -------------------------\n",
            "-------------------------------------------------------------------\n",
            "\n",
            "Train GP...\n"
          ]
        },
        {
          "output_type": "stream",
          "name": "stderr",
          "text": [
            "100%|██████████| 50/50 [00:05<00:00,  9.35it/s]\n"
          ]
        },
        {
          "output_type": "stream",
          "name": "stdout",
          "text": [
            "\n",
            "Compute next acquisition point...\n"
          ]
        },
        {
          "output_type": "stream",
          "name": "stderr",
          "text": [
            "100%|██████████| 50/50 [00:01<00:00, 37.78it/s]\n"
          ]
        },
        {
          "output_type": "stream",
          "name": "stdout",
          "text": [
            "\n",
            "Relative L2 error: 1.572964e+00\n",
            "\n",
            "\n",
            "\n",
            "-------------------------------------------------------------------\n",
            "------------------------- Iteration 42/50 -------------------------\n",
            "-------------------------------------------------------------------\n",
            "\n",
            "Train GP...\n"
          ]
        },
        {
          "output_type": "stream",
          "name": "stderr",
          "text": [
            "100%|██████████| 50/50 [00:04<00:00, 10.30it/s]\n"
          ]
        },
        {
          "output_type": "stream",
          "name": "stdout",
          "text": [
            "\n",
            "Compute next acquisition point...\n"
          ]
        },
        {
          "output_type": "stream",
          "name": "stderr",
          "text": [
            "100%|██████████| 50/50 [00:01<00:00, 40.45it/s]\n"
          ]
        },
        {
          "output_type": "stream",
          "name": "stdout",
          "text": [
            "\n",
            "Relative L2 error: 1.581159e+00\n",
            "\n",
            "\n",
            "\n",
            "-------------------------------------------------------------------\n",
            "------------------------- Iteration 43/50 -------------------------\n",
            "-------------------------------------------------------------------\n",
            "\n",
            "Train GP...\n"
          ]
        },
        {
          "output_type": "stream",
          "name": "stderr",
          "text": [
            "100%|██████████| 50/50 [00:05<00:00,  9.72it/s]\n"
          ]
        },
        {
          "output_type": "stream",
          "name": "stdout",
          "text": [
            "\n",
            "Compute next acquisition point...\n"
          ]
        },
        {
          "output_type": "stream",
          "name": "stderr",
          "text": [
            "100%|██████████| 50/50 [00:01<00:00, 28.01it/s]\n"
          ]
        },
        {
          "output_type": "stream",
          "name": "stdout",
          "text": [
            "\n",
            "Relative L2 error: 1.588968e+00\n",
            "\n",
            "\n",
            "\n",
            "-------------------------------------------------------------------\n",
            "------------------------- Iteration 44/50 -------------------------\n",
            "-------------------------------------------------------------------\n",
            "\n",
            "Train GP...\n"
          ]
        },
        {
          "output_type": "stream",
          "name": "stderr",
          "text": [
            "100%|██████████| 50/50 [00:04<00:00, 10.01it/s]\n"
          ]
        },
        {
          "output_type": "stream",
          "name": "stdout",
          "text": [
            "\n",
            "Compute next acquisition point...\n"
          ]
        },
        {
          "output_type": "stream",
          "name": "stderr",
          "text": [
            "100%|██████████| 50/50 [00:01<00:00, 39.16it/s]\n"
          ]
        },
        {
          "output_type": "stream",
          "name": "stdout",
          "text": [
            "\n",
            "Relative L2 error: 1.596446e+00\n",
            "\n",
            "\n",
            "\n",
            "-------------------------------------------------------------------\n",
            "------------------------- Iteration 45/50 -------------------------\n",
            "-------------------------------------------------------------------\n",
            "\n",
            "Train GP...\n"
          ]
        },
        {
          "output_type": "stream",
          "name": "stderr",
          "text": [
            "100%|██████████| 50/50 [00:05<00:00,  8.87it/s]\n"
          ]
        },
        {
          "output_type": "stream",
          "name": "stdout",
          "text": [
            "\n",
            "Compute next acquisition point...\n"
          ]
        },
        {
          "output_type": "stream",
          "name": "stderr",
          "text": [
            "100%|██████████| 50/50 [00:01<00:00, 39.24it/s]\n"
          ]
        },
        {
          "output_type": "stream",
          "name": "stdout",
          "text": [
            "\n",
            "Relative L2 error: 1.603588e+00\n",
            "\n",
            "\n",
            "\n",
            "-------------------------------------------------------------------\n",
            "------------------------- Iteration 46/50 -------------------------\n",
            "-------------------------------------------------------------------\n",
            "\n",
            "Train GP...\n"
          ]
        },
        {
          "output_type": "stream",
          "name": "stderr",
          "text": [
            "100%|██████████| 50/50 [00:04<00:00, 10.01it/s]\n"
          ]
        },
        {
          "output_type": "stream",
          "name": "stdout",
          "text": [
            "\n",
            "Compute next acquisition point...\n"
          ]
        },
        {
          "output_type": "stream",
          "name": "stderr",
          "text": [
            "100%|██████████| 50/50 [00:01<00:00, 27.55it/s]\n"
          ]
        },
        {
          "output_type": "stream",
          "name": "stdout",
          "text": [
            "\n",
            "Relative L2 error: 1.610411e+00\n",
            "\n",
            "\n",
            "\n",
            "-------------------------------------------------------------------\n",
            "------------------------- Iteration 47/50 -------------------------\n",
            "-------------------------------------------------------------------\n",
            "\n",
            "Train GP...\n"
          ]
        },
        {
          "output_type": "stream",
          "name": "stderr",
          "text": [
            "100%|██████████| 50/50 [00:04<00:00, 10.40it/s]\n"
          ]
        },
        {
          "output_type": "stream",
          "name": "stdout",
          "text": [
            "\n",
            "Compute next acquisition point...\n"
          ]
        },
        {
          "output_type": "stream",
          "name": "stderr",
          "text": [
            "100%|██████████| 50/50 [00:01<00:00, 41.64it/s]\n"
          ]
        },
        {
          "output_type": "stream",
          "name": "stdout",
          "text": [
            "\n",
            "Relative L2 error: 1.616928e+00\n",
            "\n",
            "\n",
            "\n",
            "-------------------------------------------------------------------\n",
            "------------------------- Iteration 48/50 -------------------------\n",
            "-------------------------------------------------------------------\n",
            "\n",
            "Train GP...\n"
          ]
        },
        {
          "output_type": "stream",
          "name": "stderr",
          "text": [
            "100%|██████████| 50/50 [00:04<00:00, 10.14it/s]\n"
          ]
        },
        {
          "output_type": "stream",
          "name": "stdout",
          "text": [
            "\n",
            "Compute next acquisition point...\n"
          ]
        },
        {
          "output_type": "stream",
          "name": "stderr",
          "text": [
            "100%|██████████| 50/50 [00:01<00:00, 30.09it/s]\n"
          ]
        },
        {
          "output_type": "stream",
          "name": "stdout",
          "text": [
            "\n",
            "Relative L2 error: 1.623183e+00\n",
            "\n",
            "\n",
            "\n",
            "-------------------------------------------------------------------\n",
            "------------------------- Iteration 49/50 -------------------------\n",
            "-------------------------------------------------------------------\n",
            "\n",
            "Train GP...\n"
          ]
        },
        {
          "output_type": "stream",
          "name": "stderr",
          "text": [
            "100%|██████████| 50/50 [00:05<00:00,  9.55it/s]\n"
          ]
        },
        {
          "output_type": "stream",
          "name": "stdout",
          "text": [
            "\n",
            "Compute next acquisition point...\n"
          ]
        },
        {
          "output_type": "stream",
          "name": "stderr",
          "text": [
            "100%|██████████| 50/50 [00:01<00:00, 40.19it/s]\n"
          ]
        },
        {
          "output_type": "stream",
          "name": "stdout",
          "text": [
            "\n",
            "Relative L2 error: 1.629192e+00\n",
            "\n",
            "\n",
            "\n",
            "-------------------------------------------------------------------\n",
            "------------------------- Iteration 50/50 -------------------------\n",
            "-------------------------------------------------------------------\n",
            "\n",
            "Train GP...\n"
          ]
        },
        {
          "output_type": "stream",
          "name": "stderr",
          "text": [
            "100%|██████████| 50/50 [00:05<00:00,  9.50it/s]\n"
          ]
        },
        {
          "output_type": "stream",
          "name": "stdout",
          "text": [
            "\n",
            "Compute next acquisition point...\n"
          ]
        },
        {
          "output_type": "stream",
          "name": "stderr",
          "text": [
            "100%|██████████| 50/50 [00:01<00:00, 39.60it/s]\n"
          ]
        },
        {
          "output_type": "stream",
          "name": "stdout",
          "text": [
            "\n",
            "Relative L2 error: 1.634949e+00\n",
            "\n"
          ]
        }
      ]
    },
    {
      "cell_type": "code",
      "source": [
        "x_ei=X[-num_iter:]\n",
        "y_ei=vmap(f)(x_ei)"
      ],
      "metadata": {
        "id": "oJkJ0Q551Ymh"
      },
      "execution_count": null,
      "outputs": []
    },
    {
      "cell_type": "code",
      "source": [
        "plt.figure()\n",
        "plt.plot(y_pi,label='PI')\n",
        "plt.plot(y_ei,label='EI')\n",
        "plt.plot(y_lcb,label='LCB')\n",
        "plt.legend()\n",
        "plt.xlabel('iteration')\n",
        "plt.ylabel('Loss')\n",
        "plt.tight_layout()"
      ],
      "metadata": {
        "colab": {
          "base_uri": "https://localhost:8080/",
          "height": 487
        },
        "id": "k_uO5fJC1dAO",
        "outputId": "169feeed-9f40-400b-952f-9990de4e6f2f"
      },
      "execution_count": null,
      "outputs": [
        {
          "output_type": "display_data",
          "data": {
            "text/plain": [
              "<Figure size 640x480 with 1 Axes>"
            ],
            "image/png": "[encoded data removed]"
          },
          "metadata": {}
        }
      ]
    },
    {
      "cell_type": "markdown",
      "metadata": {
        "id": "mfvi9aenX1-U"
      },
      "source": [
        "\n",
        "## Problem 5 [20 Points]\n",
        "\n",
        "You will be emailed a project-proposal of another student. Read the proposal and write a short review of the project. Assign the project a rating out of 10. Address the following:\n",
        "- **Clarity and organization**: Is the proposal clearly written and well-structured? Does it effectively communicate the proposed problem, the challenges to be addressed, the current state-of-the-art, the formal mathematical definition of the problem, and the technical approach to be employed?\n",
        "- **Feasibility**: Is the proposed project feasible given the available resources and time constraints? Are the proposed methods likely to be effective in addressing the identified challenges?\n",
        "- **Originality and significance**: Does the proposed project address an important problem in the field? Does it build upon existing work in a novel and interesting way? Does it have the potential to make a significant impact on the field?\n",
        "- **Technical rigor**: Is the formal mathematical definition of the problem accurate and well-supported? Are the proposed technical approaches rigorous and well-suited to the problem at hand?\n"
      ]
    },
    {
      "cell_type": "markdown",
      "metadata": {
        "id": "-OWJADlkX1-V"
      },
      "source": [
        "### Answer\n",
        "\n",
        "I would live to give the report 8 out of 10.\n",
        "\n",
        "Clarity and organization: The proposal is well-organized and clearly written, effectively communicating the proposed problem, the challenges to be addressed, the current state-of-the-art, the formal mathematical definition of the problem, and the technical approach to be employed. The proposal first introduces the problem of image classification and its challenges, then discusses the advantages of using convolutional neural networks (CNNs) to address these challenges. The proposal then goes on to explain the proposed technical approach in detail, including the use of color restriction and image segmentation to clear the background, the use of GPUs to optimize processing speed, the inclusion of pooling layers and batch normalization layers in the model, and the tuning of hyperparameters to decide on the best fit model. The proposal also mentions the use of wandb to keep track of experimental data.\n",
        "\n",
        "Feasibility: The proposed project appears to be feasible given the available resources and time constraints. The proposal acknowledges the challenges of training a large dataset, but proposes the use of GPUs to optimize processing speed and achieve a clean dataset in a reasonable amount of time. The proposal also mentions the use of different architectures, dropout functions, and different optimizers to explore various technical approaches and achieve better results. Overall, the proposed methods appear to be reasonable and effective in addressing the identified challenges.\n",
        "\n",
        "Originality and significance: The proposed project addresses an important problem in the field of image classification and builds upon existing work in a novel and interesting way by exploring the use of different architectures and technical approaches to achieve better results. The proposal also discusses the potential impact of the project, including its potential to aid botanists in plant classification, improve internet picture browsing for labeling and recommending related pictures, and extend to other types of object classification with mild modifications.\n",
        "\n",
        "Technical rigor: The formal mathematical definition of CNNs is accurately and clearly explained in the proposal, and the proposed technical approaches appear to be rigorous and well-suited to the problem at hand. The proposal mentions the inclusion of pooling layers, batch normalization layers, and tuning of hyperparameters to improve results, demonstrating a comprehensive and technical approach to the problem. The use of wandb to keep track of experimental data further supports the technical rigor of the proposed project."
      ]
    },
    {
      "cell_type": "markdown",
      "metadata": {
        "id": "I5SSpYkhX1-W"
      },
      "source": [
        "\n",
        "## Problem 6 [Bonus 20 Points]\n",
        "\n",
        "Consider the mapping of the input variable $x$ to RKHS $\\mathcal{H}$,with the kernel $k(x, x') = \\langle \\phi(x), \\phi(x') \\rangle_\\mathcal{H}$, where $\\phi(x)$ is the feature map of the kernel. We introduce the notation:\n",
        "\n",
        "$$\n",
        "\\Phi_n = [\\phi(x_1), \\phi(x_2), \\cdots, \\phi(x_n)] \\\\\n",
        "\\Phi_n^T f = [\\langle \\phi(x_1), f \\rangle_\\mathcal{H}, \\langle \\phi(x_2), f \\rangle_\\mathcal{H}, \\cdots, \\langle \\phi(x_n), f \\rangle_\\mathcal{H}]^T\n",
        "$$\n",
        "\n",
        "We can define the kernel matrix $K_n$ with the entries $K_{ij} = k(x_i, x_j)$, and where using the above notation can be represented as $\\Phi_n^T \\Phi_n$.\n",
        "\n",
        "(1) What is the expression for the projection $P_n$ that tkaes an RKHS function $f \\in \\mathcal{H}$ and projects it onto a function $f_n = P_n f$ in the span of $\\Phi_n$? Assume that the kernel matrix $K_n$ full-rank and invertible.\n",
        "\n",
        "(2) Consider the gram matrix $K_n = \\Phi_n^T \\Phi_n$. What form does this taken when we replace each entry $\\phi(x_i)$ in $\\Phi_n$ by its projection $P_m \\phi (x_i)$\n",
        "\n",
        "(3) Show that the operator $\\Phi_n \\Phi_n^T$ is a positive operator. That is,\n",
        "$$\\langle f, [\\Phi_n \\Phi_n^T] f \\rangle \\geq 0, \\qquad \\forall f \\in \\mathcal{F}$$\n",
        "\n",
        "Additionally, show that this operator cannot have negative eigenvalues."
      ]
    },
    {
      "cell_type": "markdown",
      "metadata": {
        "id": "X1vCvOE5X1-X"
      },
      "source": [
        "### Answer"
      ]
    },
    {
      "cell_type": "markdown",
      "source": [
        "1) Let $f$ be a function in a Hilbert space $\\mathcal{H}$, and let ${\\phi_i}{i=1}^m$ be a set of orthonormal basis functions. The projection of $f$ onto the subspace spanned by ${\\phi_i}{i=1}^m$, denoted $P_mf$, minimizes the distance between $f$ and the subspace spanned by ${\\phi_i}_{i=1}^m$.\n",
        "\n",
        "To obtain the expression for $P_mf$, we start by minimizing the distance between $f$ and the subspace spanned by ${\\phi_i}{i=1}^m$ using the squared norm $|f-P_mf|^2$. Using the orthonormality of the basis functions, we can write the projection of $f$ onto the subspace spanned by ${\\phi_i}{i=1}^m$ as follows:\n",
        "\\begin{align*}\n",
        "P_mf &= \\sum_{i=1}^m \\langle f, \\phi_i \\rangle \\phi_i \\\n",
        "&= \\Phi_m a^,\n",
        "\\end{align*}\n",
        "where $\\Phi_m$ is the matrix whose $i$-th column is $\\phi_i$, and $a^*$ is the minimizer of $ |f-\\Phi_m a|^2$ over all $a\\in\\mathbb{R}^m$.\n",
        "\n",
        "To find the value of $a^$, we differentiate the expression for the squared norm with respect to $a$ and set it to zero:\n",
        "\\begin{align*}\n",
        "0 = \\frac{\\partial}{\\partial a}|f-\\Phi_m a|^2 &= -2\\Phi_m^T(f-\\Phi_m a) \\\n",
        "&= -2\\Phi_m^Tf + 2\\Phi_m^T\\Phi_m a.\n",
        "\\end{align*}\n",
        "Solving for $a$, we get:\n",
        "\\begin{align*}\n",
        "a = (\\Phi_m^T\\Phi_m)^{-1}\\Phi_m^Tf.\n",
        "\\end{align*}\n",
        "Substituting this value of $a$ back into the expression for $P_mf$, we get:\n",
        "\\begin{align*}\n",
        "P_mf = \\Phi_m(\\Phi_m^T\\Phi_m)^{-1}\\Phi_m^Tf.\n",
        "\\end{align*}\n",
        "This is the desired expression for $P_mf$.\n",
        "\n",
        "\n",
        "\n"
      ],
      "metadata": {
        "id": "hYMQUvzyZm9R"
      }
    },
    {
      "cell_type": "markdown",
      "source": [
        "2) The Gram matrix of the projected features has $i,j$-th entry\n",
        "\\begin{align*}\n",
        "\\tilde{k}_{ij} &= (P_m\\phi(x_i), P_m\\phi(x_j))_H \\\\\n",
        "\\end{align*}\n",
        "\\begin{pmatrix} \\Phi_m K^{-1}_m K(z_1, x_i) \\ \\vdots \\ \\Phi_m K^{-1}_m K(z_m, x_i) \\end{pmatrix}^TK^{-1}_m \\Phi_m K^{-1}_m \\begin{pmatrix} \\Phi_m K^{-1}m K(z_1, x_j) \\ \\vdots \\ \\Phi_m K^{-1}m K(z_m, x_j) \\end{pmatrix} + H \\\n",
        "&= \\begin{pmatrix} K(x_1, x_i) \\ \\vdots \\ K(x_n, x_i) \\end{pmatrix}^T (K_m + \\lambda I)^{-1} K_m (K_m + \\lambda I)^{-1} \\begin{pmatrix} K(x_1, x_j) \\ \\vdots \\ K(x_n, x_j) \\end{pmatrix},\n",
        "\\end{align*}\n",
        "where $q, r \\in {1, \\ldots, m}$, $H$ is the noise level, and $\\lambda$ is the regularization parameter. Thus, the solution is given by\n",
        "\\begin{equation*}\n",
        "\\mathbf{K}e = \\mathbf{K}{n,m} (\\mathbf{K}m + \\lambda \\mathbf{I})^{-1} \\mathbf{K}{m,n}.\n",
        "\\end{equation*}\n",
        "Note that $\\mathbf{K}{n,m}$ and $\\mathbf{K}{m,n}$ are the matrices where the $(i,j)$-th entry is the kernel evaluation between $x_i$ and $z_j$, and $\\mathbf{K}_m$ is the matrix where the $(i,j)$-th entry is the kernel evaluation between $z_i$ and $z_j$."
      ],
      "metadata": {
        "id": "exgVUul2lC0J"
      }
    },
    {
      "cell_type": "markdown",
      "source": [
        "3 ) We have\n",
        "\\begin{align*}\n",
        "f, \\Phi_n \\Phi_n^\\top f &= \\sum_{i=1}^n f(\\mathbf{x}i) (\\Phi_n \\Phi_n^\\top){ii} \\\n",
        "&= \\sum_{i=1}^n f(\\mathbf{x}i) \\sum{j=1}^n \\phi(\\mathbf{x}i)^\\top \\phi(\\mathbf{x}j) \\\n",
        "&= \\sum{i=1}^n \\sum{j=1}^n \\langle \\phi(\\mathbf{x}_i), \\phi(\\mathbf{x}j) \\rangle f(\\mathbf{x}i) f(\\mathbf{x}j) \\\n",
        "&= \\langle f, \\mathbf{K}\\phi f \\rangle_H \\\n",
        "&= \\lVert f \\rVert^2_H \\geq 0.\n",
        "\\end{align*}\n",
        "Next, imagine we had a negative eigenvalue $s_i$ for eigenvector $u_i$. Choosing $f = u_i$, we have\n",
        "\\begin{align*}\n",
        "u_i, \\left(\\sum{j=1}^n s_j u_j(\\mathbf{x}) \\otimes u_j(\\mathbf{x})\\right) u_i + H &= s_i u_i(\\mathbf{x})^\\top \\left(\\sum{j=1}^n u_j(\\mathbf{x}) \\otimes u_j(\\mathbf{x})\\right) u_i + H \\\n",
        "&= s_i \\lVert u_i(\\mathbf{x}) \\rVert_H^4 + H \\\n",
        "&= s_i \\lVert u_i \\rVert_H^2 + H \\\n",
        "&= s_i + H \\\n",
        "&< 0,\n",
        "\\end{align*}\n",
        "which contradicts the positivity described above."
      ],
      "metadata": {
        "id": "TXkKa8S6mzcX"
      }
    }
  ],
  "metadata": {
    "language_info": {
      "name": "python"
    },
    "orig_nbformat": 4,
    "colab": {
      "provenance": []
    },
    "kernelspec": {
      "name": "python3",
      "display_name": "Python 3"
    },
    "gpuClass": "standard",
    "accelerator": "GPU"
  },
  "nbformat": 4,
  "nbformat_minor": 0
}